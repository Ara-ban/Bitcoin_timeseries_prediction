{
  "cells": [
    {
      "cell_type": "markdown",
      "metadata": {
        "application/vnd.databricks.v1+cell": {
          "inputWidgets": {},
          "nuid": "2d923511-00c9-47ff-841e-64935e9c41e1",
          "showTitle": false,
          "title": ""
        },
        "id": "doWoYymLT3i0"
      },
      "source": [
        "# Bitcoin Prediction using Deep Learning\n",
        "\n",
        "This time, you will build a basic Neural Network model to predict Bitcoin price based on historical Data.\n",
        "This notebook helps you to train a model but you can use it however you want."
      ]
    },
    {
      "cell_type": "code",
      "source": [
        "from google.colab import drive\n",
        "import os\n",
        "drive.mount('/content/drive')\n"
      ],
      "metadata": {
        "colab": {
          "base_uri": "https://localhost:8080/"
        },
        "id": "PwjnU2p2URNi",
        "outputId": "e5909c82-f6a2-4409-e07c-1c5be7421c59"
      },
      "execution_count": null,
      "outputs": [
        {
          "output_type": "stream",
          "name": "stdout",
          "text": [
            "Drive already mounted at /content/drive; to attempt to forcibly remount, call drive.mount(\"/content/drive\", force_remount=True).\n"
          ]
        }
      ]
    },
    {
      "cell_type": "code",
      "source": [
        "import os\n",
        "os.chdir(\"/content/drive/MyDrive/EI time series_GRP3\")"
      ],
      "metadata": {
        "id": "ufnY5pQFPLPe"
      },
      "execution_count": null,
      "outputs": []
    },
    {
      "cell_type": "code",
      "execution_count": null,
      "metadata": {
        "application/vnd.databricks.v1+cell": {
          "inputWidgets": {},
          "nuid": "dcca5a38-d51c-4bf6-82b4-a2264949f16a",
          "showTitle": false,
          "title": ""
        },
        "id": "o7VpBMGVT3jL"
      },
      "outputs": [],
      "source": [
        "import numpy as np\n",
        "import pandas as pd\n",
        "\n",
        "from matplotlib import pyplot as plt\n",
        "from tensorflow import keras\n",
        "from tensorflow.keras import layers\n",
        "\n",
        "from sklearn.preprocessing import MinMaxScaler\n",
        "\n",
        "import helper_functions as hf\n",
        "\n",
        "\n",
        "CURDIR = os.getcwd()\n",
        "DATADIR = os.path.join(CURDIR,  \"data\")\n",
        "FIGDIR = os.path.join(CURDIR,  \"figure\")\n",
        "%matplotlib inline"
      ]
    },
    {
      "cell_type": "markdown",
      "metadata": {
        "application/vnd.databricks.v1+cell": {
          "inputWidgets": {},
          "nuid": "d99ae8fb-f679-4b74-9b2b-54facd666a81",
          "showTitle": false,
          "title": ""
        },
        "id": "IK414UD9T3jU"
      },
      "source": [
        "# Import Data\n",
        "Our Data come from https://blockchain.info/.\n",
        "\n",
        "Here, we load data into a Pandas DataFrame"
      ]
    },
    {
      "cell_type": "code",
      "execution_count": null,
      "metadata": {
        "application/vnd.databricks.v1+cell": {
          "inputWidgets": {},
          "nuid": "b1dd7725-d08b-477d-a5d0-0fa210b411bc",
          "showTitle": false,
          "title": ""
        },
        "id": "UPWxyz9iT3jY"
      },
      "outputs": [],
      "source": [
        "df_blockchain = pd.read_csv(os.path.join(DATADIR, \"df_blockchain.csv\"), \n",
        "                            delimiter=\",\")"
      ]
    },
    {
      "cell_type": "code",
      "source": [
        "df=df_blockchain.dropna()"
      ],
      "metadata": {
        "id": "VXGQtG_pQSKK"
      },
      "execution_count": null,
      "outputs": []
    },
    {
      "cell_type": "code",
      "source": [
        "df.shape"
      ],
      "metadata": {
        "colab": {
          "base_uri": "https://localhost:8080/"
        },
        "id": "VAK8p3clQc3a",
        "outputId": "560e1f4c-884e-4136-aa92-4d7f58384cbe"
      },
      "execution_count": null,
      "outputs": [
        {
          "output_type": "execute_result",
          "data": {
            "text/plain": [
              "(3533, 23)"
            ]
          },
          "metadata": {},
          "execution_count": 288
        }
      ]
    },
    {
      "cell_type": "code",
      "execution_count": null,
      "metadata": {
        "application/vnd.databricks.v1+cell": {
          "inputWidgets": {},
          "nuid": "e3cf49b8-1239-4d94-a951-ba912f09861c",
          "showTitle": false,
          "title": ""
        },
        "colab": {
          "base_uri": "https://localhost:8080/",
          "height": 525
        },
        "id": "0U-5jiPJT3ja",
        "outputId": "a02c850b-0905-4101-9e55-fa1617fc1ef9"
      },
      "outputs": [
        {
          "output_type": "execute_result",
          "data": {
            "text/plain": [
              "         Date  market-price  n-transactions-per-block  \\\n",
              "0  2011-09-13          6.88                 45.908451   \n",
              "1  2011-09-14          6.19                 42.465753   \n",
              "2  2011-09-15          5.92                 41.500000   \n",
              "3  2011-09-16          5.58                 52.176471   \n",
              "4  2011-09-17          5.18                 40.701493   \n",
              "\n",
              "   median-confirmation-time  hash-rate    difficulty  miners-revenue  \\\n",
              "0                       0.0  12.018816  1.777774e+06    52318.011503   \n",
              "1                       0.0  13.263925  1.755425e+06    48306.468911   \n",
              "2                       0.0  12.914875  1.755425e+06    60431.444952   \n",
              "3                       0.0  10.995096  1.755425e+06    34345.021913   \n",
              "4                       0.0  10.733308  1.755425e+06    36805.913687   \n",
              "\n",
              "   trade-volume  blocks-size  avg-block-size  ...  cost-per-transaction  \\\n",
              "0           0.0   592.190091        0.019009  ...              7.666766   \n",
              "1           0.0   594.907367        0.018007  ...              7.369408   \n",
              "2           0.0   597.554226        0.018240  ...              7.333913   \n",
              "3           0.0   600.362512        0.022136  ...              5.466341   \n",
              "4           0.0   602.995510        0.017116  ...              6.489054   \n",
              "\n",
              "   n-unique-addresses  n-transactions  n-transactions-total  \\\n",
              "0             12622.0          6519.0             1497195.0   \n",
              "1             12408.0          6200.0             1503780.0   \n",
              "2             12988.0          6474.0             1509972.0   \n",
              "3             12059.0          6209.0             1516381.0   \n",
              "4             10988.0          5454.0             1522600.0   \n",
              "\n",
              "   n-transactions-excluding-popular  output-volume  \\\n",
              "0                            6519.0  358543.612114   \n",
              "1                            6200.0  302619.024544   \n",
              "2                            6474.0  299226.130646   \n",
              "3                            6209.0  674606.861338   \n",
              "4                            5454.0  354198.945778   \n",
              "\n",
              "   estimated-transaction-volume  estimated-transaction-volume-usd  \\\n",
              "0                  58615.641320                     403275.612279   \n",
              "1                  74521.484625                     461287.989830   \n",
              "2                  79422.402932                     470180.625359   \n",
              "3                  82696.853247                     461448.441118   \n",
              "4                  68238.166521                     353473.702578   \n",
              "\n",
              "   total-bitcoins    market-cap  \n",
              "0    7.257416e+06  5.022014e+07  \n",
              "1    7.264662e+06  4.540930e+07  \n",
              "2    7.272284e+06  4.322228e+07  \n",
              "3    7.279040e+06  4.088136e+07  \n",
              "4    7.285375e+06  3.801833e+07  \n",
              "\n",
              "[5 rows x 23 columns]"
            ],
            "text/html": [
              "\n",
              "  <div id=\"df-f56f73c1-b8a0-4952-a4c4-9559588b21a2\">\n",
              "    <div class=\"colab-df-container\">\n",
              "      <div>\n",
              "<style scoped>\n",
              "    .dataframe tbody tr th:only-of-type {\n",
              "        vertical-align: middle;\n",
              "    }\n",
              "\n",
              "    .dataframe tbody tr th {\n",
              "        vertical-align: top;\n",
              "    }\n",
              "\n",
              "    .dataframe thead th {\n",
              "        text-align: right;\n",
              "    }\n",
              "</style>\n",
              "<table border=\"1\" class=\"dataframe\">\n",
              "  <thead>\n",
              "    <tr style=\"text-align: right;\">\n",
              "      <th></th>\n",
              "      <th>Date</th>\n",
              "      <th>market-price</th>\n",
              "      <th>n-transactions-per-block</th>\n",
              "      <th>median-confirmation-time</th>\n",
              "      <th>hash-rate</th>\n",
              "      <th>difficulty</th>\n",
              "      <th>miners-revenue</th>\n",
              "      <th>trade-volume</th>\n",
              "      <th>blocks-size</th>\n",
              "      <th>avg-block-size</th>\n",
              "      <th>...</th>\n",
              "      <th>cost-per-transaction</th>\n",
              "      <th>n-unique-addresses</th>\n",
              "      <th>n-transactions</th>\n",
              "      <th>n-transactions-total</th>\n",
              "      <th>n-transactions-excluding-popular</th>\n",
              "      <th>output-volume</th>\n",
              "      <th>estimated-transaction-volume</th>\n",
              "      <th>estimated-transaction-volume-usd</th>\n",
              "      <th>total-bitcoins</th>\n",
              "      <th>market-cap</th>\n",
              "    </tr>\n",
              "  </thead>\n",
              "  <tbody>\n",
              "    <tr>\n",
              "      <th>0</th>\n",
              "      <td>2011-09-13</td>\n",
              "      <td>6.88</td>\n",
              "      <td>45.908451</td>\n",
              "      <td>0.0</td>\n",
              "      <td>12.018816</td>\n",
              "      <td>1.777774e+06</td>\n",
              "      <td>52318.011503</td>\n",
              "      <td>0.0</td>\n",
              "      <td>592.190091</td>\n",
              "      <td>0.019009</td>\n",
              "      <td>...</td>\n",
              "      <td>7.666766</td>\n",
              "      <td>12622.0</td>\n",
              "      <td>6519.0</td>\n",
              "      <td>1497195.0</td>\n",
              "      <td>6519.0</td>\n",
              "      <td>358543.612114</td>\n",
              "      <td>58615.641320</td>\n",
              "      <td>403275.612279</td>\n",
              "      <td>7.257416e+06</td>\n",
              "      <td>5.022014e+07</td>\n",
              "    </tr>\n",
              "    <tr>\n",
              "      <th>1</th>\n",
              "      <td>2011-09-14</td>\n",
              "      <td>6.19</td>\n",
              "      <td>42.465753</td>\n",
              "      <td>0.0</td>\n",
              "      <td>13.263925</td>\n",
              "      <td>1.755425e+06</td>\n",
              "      <td>48306.468911</td>\n",
              "      <td>0.0</td>\n",
              "      <td>594.907367</td>\n",
              "      <td>0.018007</td>\n",
              "      <td>...</td>\n",
              "      <td>7.369408</td>\n",
              "      <td>12408.0</td>\n",
              "      <td>6200.0</td>\n",
              "      <td>1503780.0</td>\n",
              "      <td>6200.0</td>\n",
              "      <td>302619.024544</td>\n",
              "      <td>74521.484625</td>\n",
              "      <td>461287.989830</td>\n",
              "      <td>7.264662e+06</td>\n",
              "      <td>4.540930e+07</td>\n",
              "    </tr>\n",
              "    <tr>\n",
              "      <th>2</th>\n",
              "      <td>2011-09-15</td>\n",
              "      <td>5.92</td>\n",
              "      <td>41.500000</td>\n",
              "      <td>0.0</td>\n",
              "      <td>12.914875</td>\n",
              "      <td>1.755425e+06</td>\n",
              "      <td>60431.444952</td>\n",
              "      <td>0.0</td>\n",
              "      <td>597.554226</td>\n",
              "      <td>0.018240</td>\n",
              "      <td>...</td>\n",
              "      <td>7.333913</td>\n",
              "      <td>12988.0</td>\n",
              "      <td>6474.0</td>\n",
              "      <td>1509972.0</td>\n",
              "      <td>6474.0</td>\n",
              "      <td>299226.130646</td>\n",
              "      <td>79422.402932</td>\n",
              "      <td>470180.625359</td>\n",
              "      <td>7.272284e+06</td>\n",
              "      <td>4.322228e+07</td>\n",
              "    </tr>\n",
              "    <tr>\n",
              "      <th>3</th>\n",
              "      <td>2011-09-16</td>\n",
              "      <td>5.58</td>\n",
              "      <td>52.176471</td>\n",
              "      <td>0.0</td>\n",
              "      <td>10.995096</td>\n",
              "      <td>1.755425e+06</td>\n",
              "      <td>34345.021913</td>\n",
              "      <td>0.0</td>\n",
              "      <td>600.362512</td>\n",
              "      <td>0.022136</td>\n",
              "      <td>...</td>\n",
              "      <td>5.466341</td>\n",
              "      <td>12059.0</td>\n",
              "      <td>6209.0</td>\n",
              "      <td>1516381.0</td>\n",
              "      <td>6209.0</td>\n",
              "      <td>674606.861338</td>\n",
              "      <td>82696.853247</td>\n",
              "      <td>461448.441118</td>\n",
              "      <td>7.279040e+06</td>\n",
              "      <td>4.088136e+07</td>\n",
              "    </tr>\n",
              "    <tr>\n",
              "      <th>4</th>\n",
              "      <td>2011-09-17</td>\n",
              "      <td>5.18</td>\n",
              "      <td>40.701493</td>\n",
              "      <td>0.0</td>\n",
              "      <td>10.733308</td>\n",
              "      <td>1.755425e+06</td>\n",
              "      <td>36805.913687</td>\n",
              "      <td>0.0</td>\n",
              "      <td>602.995510</td>\n",
              "      <td>0.017116</td>\n",
              "      <td>...</td>\n",
              "      <td>6.489054</td>\n",
              "      <td>10988.0</td>\n",
              "      <td>5454.0</td>\n",
              "      <td>1522600.0</td>\n",
              "      <td>5454.0</td>\n",
              "      <td>354198.945778</td>\n",
              "      <td>68238.166521</td>\n",
              "      <td>353473.702578</td>\n",
              "      <td>7.285375e+06</td>\n",
              "      <td>3.801833e+07</td>\n",
              "    </tr>\n",
              "  </tbody>\n",
              "</table>\n",
              "<p>5 rows × 23 columns</p>\n",
              "</div>\n",
              "      <button class=\"colab-df-convert\" onclick=\"convertToInteractive('df-f56f73c1-b8a0-4952-a4c4-9559588b21a2')\"\n",
              "              title=\"Convert this dataframe to an interactive table.\"\n",
              "              style=\"display:none;\">\n",
              "        \n",
              "  <svg xmlns=\"http://www.w3.org/2000/svg\" height=\"24px\"viewBox=\"0 0 24 24\"\n",
              "       width=\"24px\">\n",
              "    <path d=\"M0 0h24v24H0V0z\" fill=\"none\"/>\n",
              "    <path d=\"M18.56 5.44l.94 2.06.94-2.06 2.06-.94-2.06-.94-.94-2.06-.94 2.06-2.06.94zm-11 1L8.5 8.5l.94-2.06 2.06-.94-2.06-.94L8.5 2.5l-.94 2.06-2.06.94zm10 10l.94 2.06.94-2.06 2.06-.94-2.06-.94-.94-2.06-.94 2.06-2.06.94z\"/><path d=\"M17.41 7.96l-1.37-1.37c-.4-.4-.92-.59-1.43-.59-.52 0-1.04.2-1.43.59L10.3 9.45l-7.72 7.72c-.78.78-.78 2.05 0 2.83L4 21.41c.39.39.9.59 1.41.59.51 0 1.02-.2 1.41-.59l7.78-7.78 2.81-2.81c.8-.78.8-2.07 0-2.86zM5.41 20L4 18.59l7.72-7.72 1.47 1.35L5.41 20z\"/>\n",
              "  </svg>\n",
              "      </button>\n",
              "      \n",
              "  <style>\n",
              "    .colab-df-container {\n",
              "      display:flex;\n",
              "      flex-wrap:wrap;\n",
              "      gap: 12px;\n",
              "    }\n",
              "\n",
              "    .colab-df-convert {\n",
              "      background-color: #E8F0FE;\n",
              "      border: none;\n",
              "      border-radius: 50%;\n",
              "      cursor: pointer;\n",
              "      display: none;\n",
              "      fill: #1967D2;\n",
              "      height: 32px;\n",
              "      padding: 0 0 0 0;\n",
              "      width: 32px;\n",
              "    }\n",
              "\n",
              "    .colab-df-convert:hover {\n",
              "      background-color: #E2EBFA;\n",
              "      box-shadow: 0px 1px 2px rgba(60, 64, 67, 0.3), 0px 1px 3px 1px rgba(60, 64, 67, 0.15);\n",
              "      fill: #174EA6;\n",
              "    }\n",
              "\n",
              "    [theme=dark] .colab-df-convert {\n",
              "      background-color: #3B4455;\n",
              "      fill: #D2E3FC;\n",
              "    }\n",
              "\n",
              "    [theme=dark] .colab-df-convert:hover {\n",
              "      background-color: #434B5C;\n",
              "      box-shadow: 0px 1px 3px 1px rgba(0, 0, 0, 0.15);\n",
              "      filter: drop-shadow(0px 1px 2px rgba(0, 0, 0, 0.3));\n",
              "      fill: #FFFFFF;\n",
              "    }\n",
              "  </style>\n",
              "\n",
              "      <script>\n",
              "        const buttonEl =\n",
              "          document.querySelector('#df-f56f73c1-b8a0-4952-a4c4-9559588b21a2 button.colab-df-convert');\n",
              "        buttonEl.style.display =\n",
              "          google.colab.kernel.accessAllowed ? 'block' : 'none';\n",
              "\n",
              "        async function convertToInteractive(key) {\n",
              "          const element = document.querySelector('#df-f56f73c1-b8a0-4952-a4c4-9559588b21a2');\n",
              "          const dataTable =\n",
              "            await google.colab.kernel.invokeFunction('convertToInteractive',\n",
              "                                                     [key], {});\n",
              "          if (!dataTable) return;\n",
              "\n",
              "          const docLinkHtml = 'Like what you see? Visit the ' +\n",
              "            '<a target=\"_blank\" href=https://colab.research.google.com/notebooks/data_table.ipynb>data table notebook</a>'\n",
              "            + ' to learn more about interactive tables.';\n",
              "          element.innerHTML = '';\n",
              "          dataTable['output_type'] = 'display_data';\n",
              "          await google.colab.output.renderOutput(dataTable, element);\n",
              "          const docLink = document.createElement('div');\n",
              "          docLink.innerHTML = docLinkHtml;\n",
              "          element.appendChild(docLink);\n",
              "        }\n",
              "      </script>\n",
              "    </div>\n",
              "  </div>\n",
              "  "
            ]
          },
          "metadata": {},
          "execution_count": 200
        }
      ],
      "source": [
        "df_blockchain.head()"
      ]
    },
    {
      "cell_type": "markdown",
      "metadata": {
        "application/vnd.databricks.v1+cell": {
          "inputWidgets": {},
          "nuid": "08350022-3527-4c51-9261-97f26fde3619",
          "showTitle": false,
          "title": ""
        },
        "id": "e690_9nET3jc"
      },
      "source": [
        "# Explore Dataset\n",
        "\n",
        "We already explored dataset before, but you can draw other plots to analyse data if you want.\n",
        "\n",
        "Idea : you can use pandas_profiling \n",
        "\n",
        "```python\n",
        "from pandas_profiling import ProfileReport\n",
        "ProfileReport(df)\n",
        "```"
      ]
    },
    {
      "cell_type": "code",
      "source": [
        "df_blockchain.columns"
      ],
      "metadata": {
        "colab": {
          "base_uri": "https://localhost:8080/"
        },
        "id": "VNUsqJkJ4zFD",
        "outputId": "2253edbd-267d-4301-844c-c5d204d1bc7a"
      },
      "execution_count": null,
      "outputs": [
        {
          "output_type": "execute_result",
          "data": {
            "text/plain": [
              "Index(['Date', 'market-price', 'n-transactions-per-block',\n",
              "       'median-confirmation-time', 'hash-rate', 'difficulty', 'miners-revenue',\n",
              "       'trade-volume', 'blocks-size', 'avg-block-size', 'transaction-fees',\n",
              "       'transaction-fees-usd', 'cost-per-transaction-percent',\n",
              "       'cost-per-transaction', 'n-unique-addresses', 'n-transactions',\n",
              "       'n-transactions-total', 'n-transactions-excluding-popular',\n",
              "       'output-volume', 'estimated-transaction-volume',\n",
              "       'estimated-transaction-volume-usd', 'total-bitcoins', 'market-cap'],\n",
              "      dtype='object')"
            ]
          },
          "metadata": {},
          "execution_count": 201
        }
      ]
    },
    {
      "cell_type": "code",
      "execution_count": null,
      "metadata": {
        "application/vnd.databricks.v1+cell": {
          "inputWidgets": {},
          "nuid": "3667a62d-4049-4cf9-af24-5eddb67e7c09",
          "showTitle": false,
          "title": ""
        },
        "id": "5V6B9Yf0T3jj"
      },
      "outputs": [],
      "source": [
        "# get columns (You can add more columns to analyse results)\n",
        "columns=['market-price','market-cap']\n",
        "dataset = df[columns]"
      ]
    },
    {
      "cell_type": "code",
      "source": [
        "dataset\n"
      ],
      "metadata": {
        "colab": {
          "base_uri": "https://localhost:8080/",
          "height": 419
        },
        "id": "Cv-tm_c-rOBZ",
        "outputId": "9bcaa1c0-460f-434d-aeb9-e66430ca1648"
      },
      "execution_count": null,
      "outputs": [
        {
          "output_type": "execute_result",
          "data": {
            "text/plain": [
              "      market-price    market-cap\n",
              "0             6.88  5.022014e+07\n",
              "1             6.19  4.540930e+07\n",
              "2             5.92  4.322228e+07\n",
              "3             5.58  4.088136e+07\n",
              "4             5.18  3.801833e+07\n",
              "...            ...           ...\n",
              "3538      40784.32  7.379873e+11\n",
              "3539      37280.35  6.998509e+11\n",
              "3540      37528.30  6.642670e+11\n",
              "3541      34754.54  6.847955e+11\n",
              "3542      38728.59  7.140334e+11\n",
              "\n",
              "[3533 rows x 2 columns]"
            ],
            "text/html": [
              "\n",
              "  <div id=\"df-8e3a3a35-f782-422e-869a-a3e6f89eabec\">\n",
              "    <div class=\"colab-df-container\">\n",
              "      <div>\n",
              "<style scoped>\n",
              "    .dataframe tbody tr th:only-of-type {\n",
              "        vertical-align: middle;\n",
              "    }\n",
              "\n",
              "    .dataframe tbody tr th {\n",
              "        vertical-align: top;\n",
              "    }\n",
              "\n",
              "    .dataframe thead th {\n",
              "        text-align: right;\n",
              "    }\n",
              "</style>\n",
              "<table border=\"1\" class=\"dataframe\">\n",
              "  <thead>\n",
              "    <tr style=\"text-align: right;\">\n",
              "      <th></th>\n",
              "      <th>market-price</th>\n",
              "      <th>market-cap</th>\n",
              "    </tr>\n",
              "  </thead>\n",
              "  <tbody>\n",
              "    <tr>\n",
              "      <th>0</th>\n",
              "      <td>6.88</td>\n",
              "      <td>5.022014e+07</td>\n",
              "    </tr>\n",
              "    <tr>\n",
              "      <th>1</th>\n",
              "      <td>6.19</td>\n",
              "      <td>4.540930e+07</td>\n",
              "    </tr>\n",
              "    <tr>\n",
              "      <th>2</th>\n",
              "      <td>5.92</td>\n",
              "      <td>4.322228e+07</td>\n",
              "    </tr>\n",
              "    <tr>\n",
              "      <th>3</th>\n",
              "      <td>5.58</td>\n",
              "      <td>4.088136e+07</td>\n",
              "    </tr>\n",
              "    <tr>\n",
              "      <th>4</th>\n",
              "      <td>5.18</td>\n",
              "      <td>3.801833e+07</td>\n",
              "    </tr>\n",
              "    <tr>\n",
              "      <th>...</th>\n",
              "      <td>...</td>\n",
              "      <td>...</td>\n",
              "    </tr>\n",
              "    <tr>\n",
              "      <th>3538</th>\n",
              "      <td>40784.32</td>\n",
              "      <td>7.379873e+11</td>\n",
              "    </tr>\n",
              "    <tr>\n",
              "      <th>3539</th>\n",
              "      <td>37280.35</td>\n",
              "      <td>6.998509e+11</td>\n",
              "    </tr>\n",
              "    <tr>\n",
              "      <th>3540</th>\n",
              "      <td>37528.30</td>\n",
              "      <td>6.642670e+11</td>\n",
              "    </tr>\n",
              "    <tr>\n",
              "      <th>3541</th>\n",
              "      <td>34754.54</td>\n",
              "      <td>6.847955e+11</td>\n",
              "    </tr>\n",
              "    <tr>\n",
              "      <th>3542</th>\n",
              "      <td>38728.59</td>\n",
              "      <td>7.140334e+11</td>\n",
              "    </tr>\n",
              "  </tbody>\n",
              "</table>\n",
              "<p>3533 rows × 2 columns</p>\n",
              "</div>\n",
              "      <button class=\"colab-df-convert\" onclick=\"convertToInteractive('df-8e3a3a35-f782-422e-869a-a3e6f89eabec')\"\n",
              "              title=\"Convert this dataframe to an interactive table.\"\n",
              "              style=\"display:none;\">\n",
              "        \n",
              "  <svg xmlns=\"http://www.w3.org/2000/svg\" height=\"24px\"viewBox=\"0 0 24 24\"\n",
              "       width=\"24px\">\n",
              "    <path d=\"M0 0h24v24H0V0z\" fill=\"none\"/>\n",
              "    <path d=\"M18.56 5.44l.94 2.06.94-2.06 2.06-.94-2.06-.94-.94-2.06-.94 2.06-2.06.94zm-11 1L8.5 8.5l.94-2.06 2.06-.94-2.06-.94L8.5 2.5l-.94 2.06-2.06.94zm10 10l.94 2.06.94-2.06 2.06-.94-2.06-.94-.94-2.06-.94 2.06-2.06.94z\"/><path d=\"M17.41 7.96l-1.37-1.37c-.4-.4-.92-.59-1.43-.59-.52 0-1.04.2-1.43.59L10.3 9.45l-7.72 7.72c-.78.78-.78 2.05 0 2.83L4 21.41c.39.39.9.59 1.41.59.51 0 1.02-.2 1.41-.59l7.78-7.78 2.81-2.81c.8-.78.8-2.07 0-2.86zM5.41 20L4 18.59l7.72-7.72 1.47 1.35L5.41 20z\"/>\n",
              "  </svg>\n",
              "      </button>\n",
              "      \n",
              "  <style>\n",
              "    .colab-df-container {\n",
              "      display:flex;\n",
              "      flex-wrap:wrap;\n",
              "      gap: 12px;\n",
              "    }\n",
              "\n",
              "    .colab-df-convert {\n",
              "      background-color: #E8F0FE;\n",
              "      border: none;\n",
              "      border-radius: 50%;\n",
              "      cursor: pointer;\n",
              "      display: none;\n",
              "      fill: #1967D2;\n",
              "      height: 32px;\n",
              "      padding: 0 0 0 0;\n",
              "      width: 32px;\n",
              "    }\n",
              "\n",
              "    .colab-df-convert:hover {\n",
              "      background-color: #E2EBFA;\n",
              "      box-shadow: 0px 1px 2px rgba(60, 64, 67, 0.3), 0px 1px 3px 1px rgba(60, 64, 67, 0.15);\n",
              "      fill: #174EA6;\n",
              "    }\n",
              "\n",
              "    [theme=dark] .colab-df-convert {\n",
              "      background-color: #3B4455;\n",
              "      fill: #D2E3FC;\n",
              "    }\n",
              "\n",
              "    [theme=dark] .colab-df-convert:hover {\n",
              "      background-color: #434B5C;\n",
              "      box-shadow: 0px 1px 3px 1px rgba(0, 0, 0, 0.15);\n",
              "      filter: drop-shadow(0px 1px 2px rgba(0, 0, 0, 0.3));\n",
              "      fill: #FFFFFF;\n",
              "    }\n",
              "  </style>\n",
              "\n",
              "      <script>\n",
              "        const buttonEl =\n",
              "          document.querySelector('#df-8e3a3a35-f782-422e-869a-a3e6f89eabec button.colab-df-convert');\n",
              "        buttonEl.style.display =\n",
              "          google.colab.kernel.accessAllowed ? 'block' : 'none';\n",
              "\n",
              "        async function convertToInteractive(key) {\n",
              "          const element = document.querySelector('#df-8e3a3a35-f782-422e-869a-a3e6f89eabec');\n",
              "          const dataTable =\n",
              "            await google.colab.kernel.invokeFunction('convertToInteractive',\n",
              "                                                     [key], {});\n",
              "          if (!dataTable) return;\n",
              "\n",
              "          const docLinkHtml = 'Like what you see? Visit the ' +\n",
              "            '<a target=\"_blank\" href=https://colab.research.google.com/notebooks/data_table.ipynb>data table notebook</a>'\n",
              "            + ' to learn more about interactive tables.';\n",
              "          element.innerHTML = '';\n",
              "          dataTable['output_type'] = 'display_data';\n",
              "          await google.colab.output.renderOutput(dataTable, element);\n",
              "          const docLink = document.createElement('div');\n",
              "          docLink.innerHTML = docLinkHtml;\n",
              "          element.appendChild(docLink);\n",
              "        }\n",
              "      </script>\n",
              "    </div>\n",
              "  </div>\n",
              "  "
            ]
          },
          "metadata": {},
          "execution_count": 11
        }
      ]
    },
    {
      "cell_type": "markdown",
      "metadata": {
        "application/vnd.databricks.v1+cell": {
          "inputWidgets": {},
          "nuid": "8ec0db25-2468-4d50-ba88-a0bf60dad26b",
          "showTitle": false,
          "title": ""
        },
        "id": "aEaj5NjLT3jo"
      },
      "source": [
        "# Data scaling\n",
        "\n",
        "Here we scale the price between 0 and 1, this will help the optimization algorithm converge faster."
      ]
    },
    {
      "cell_type": "code",
      "execution_count": null,
      "metadata": {
        "application/vnd.databricks.v1+cell": {
          "inputWidgets": {},
          "nuid": "4df7ff9f-5f14-4da4-9e3d-b3f3304d4bde",
          "showTitle": false,
          "title": ""
        },
        "id": "ixAb6Z8dT3js"
      },
      "outputs": [],
      "source": [
        "scaler = MinMaxScaler(feature_range=(0, 1))\n",
        "dataset = scaler.fit_transform(dataset.values.reshape(-1,len(columns)))"
      ]
    },
    {
      "cell_type": "code",
      "source": [
        "dataset"
      ],
      "metadata": {
        "colab": {
          "base_uri": "https://localhost:8080/"
        },
        "id": "4K7wyVbrrLoe",
        "outputId": "23e9e750-df0c-4dcf-d118-fb0b181dd41c"
      },
      "execution_count": null,
      "outputs": [
        {
          "output_type": "execute_result",
          "data": {
            "text/plain": [
              "array([[7.20668100e-05, 2.72726066e-05],\n",
              "       [6.12095832e-05, 2.32181724e-05],\n",
              "       [5.69611031e-05, 2.13750126e-05],\n",
              "       ...,\n",
              "       [5.90475789e-01, 5.59810096e-01],\n",
              "       [5.46830366e-01, 5.77110932e-01],\n",
              "       [6.09362486e-01, 6.01751769e-01]])"
            ]
          },
          "metadata": {},
          "execution_count": 13
        }
      ]
    },
    {
      "cell_type": "code",
      "execution_count": null,
      "metadata": {
        "application/vnd.databricks.v1+cell": {
          "inputWidgets": {},
          "nuid": "d5c65abe-2e88-4e4f-b5ed-c9608475bd7b",
          "showTitle": false,
          "title": ""
        },
        "colab": {
          "base_uri": "https://localhost:8080/"
        },
        "id": "MvfclyMVT3ju",
        "outputId": "9c71ba0c-d1dc-4dfb-8fd1-3c74212b47f2"
      },
      "outputs": [
        {
          "output_type": "execute_result",
          "data": {
            "text/plain": [
              "(3544, 2)"
            ]
          },
          "metadata": {},
          "execution_count": 206
        }
      ],
      "source": [
        "dataset.shape"
      ]
    },
    {
      "cell_type": "markdown",
      "metadata": {
        "application/vnd.databricks.v1+cell": {
          "inputWidgets": {},
          "nuid": "b74b3790-cf15-4f84-a74c-9ec5cc66993c",
          "showTitle": false,
          "title": ""
        },
        "id": "BjncbVsxT3jw"
      },
      "source": [
        "# Process data (Making sequences)\n",
        "\n",
        "here we split and process data before training.\n",
        "\n",
        "LSTM layer as an input layer expects the data to be 3 dimensions, we will use 'process_data' function to split data into sequences of a fixed length (rnn_size).\n",
        "\n",
        "The neural network is expecting to have an input's shap of [batch_size, rnn_size, nb_features]"
      ]
    },
    {
      "cell_type": "code",
      "source": [
        "dataset"
      ],
      "metadata": {
        "colab": {
          "base_uri": "https://localhost:8080/"
        },
        "id": "Uceibswzrlzq",
        "outputId": "d16d50ea-8efb-4f4b-fab1-d32997cf5a38"
      },
      "execution_count": null,
      "outputs": [
        {
          "output_type": "execute_result",
          "data": {
            "text/plain": [
              "array([[7.20668100e-05, 2.72726066e-05],\n",
              "       [6.12095832e-05, 2.32181724e-05],\n",
              "       [5.69611031e-05, 2.13750126e-05],\n",
              "       ...,\n",
              "       [5.46830366e-01, 5.77110932e-01],\n",
              "       [6.09362486e-01, 6.01751769e-01],\n",
              "       [6.04357304e-01, 6.01780043e-01]])"
            ]
          },
          "metadata": {},
          "execution_count": 207
        }
      ]
    },
    {
      "cell_type": "code",
      "execution_count": null,
      "metadata": {
        "application/vnd.databricks.v1+cell": {
          "inputWidgets": {},
          "nuid": "eab8ecfd-c5cb-4d91-b320-73dbe947fc45",
          "showTitle": false,
          "title": ""
        },
        "id": "AGLKNKzwT3jy"
      },
      "outputs": [],
      "source": [
        "# split datatest into data_train, data_valid and data_test\n",
        "#data_train = dataset[:2000]\n",
        "#data_valid = dataset[2000:2700]\n",
        "#data_test = dataset[2700:3544]\n",
        "# your code here\n",
        "\n",
        "data_train = dataset[:2650]\n",
        "data_valid = dataset[2650:3200]\n",
        "data_test = dataset[3200:]"
      ]
    },
    {
      "cell_type": "code",
      "execution_count": null,
      "metadata": {
        "application/vnd.databricks.v1+cell": {
          "inputWidgets": {},
          "nuid": "2f8394d7-cfad-477d-80c2-0066e5fb497e",
          "showTitle": false,
          "title": ""
        },
        "id": "nX5w-1SVT3j0"
      },
      "outputs": [],
      "source": [
        "def process_data(data, rnn_size=3, target_id=0, columns_size=len(columns)):\n",
        "    X = []\n",
        "    y = []\n",
        "    for i in range(len(data)-rnn_size):\n",
        "        X.append(data[i:i+rnn_size,:])\n",
        "        y.append(data[i+rnn_size,0])\n",
        "    return np.array(X).astype(np.float32).reshape((-1,rnn_size,columns_size)), np.array(y).astype(np.float32)"
      ]
    },
    {
      "cell_type": "code",
      "execution_count": null,
      "metadata": {
        "application/vnd.databricks.v1+cell": {
          "inputWidgets": {},
          "nuid": "fc2c7dca-1312-497b-bbd8-16453b64bea0",
          "showTitle": false,
          "title": ""
        },
        "id": "3wsGWenkT3j3"
      },
      "outputs": [],
      "source": [
        "# process data for RNN\n",
        "X_train, y_train = process_data(data_train)\n",
        "X_val, y_val = process_data(data_valid)\n",
        "X_test, y_test = process_data(data_test)"
      ]
    },
    {
      "cell_type": "code",
      "execution_count": null,
      "metadata": {
        "application/vnd.databricks.v1+cell": {
          "inputWidgets": {},
          "nuid": "4a266b27-b5e1-4426-854f-42147adfd8f8",
          "showTitle": false,
          "title": ""
        },
        "id": "Y9NSFxIzT3j5",
        "colab": {
          "base_uri": "https://localhost:8080/"
        },
        "outputId": "3739976c-a558-451d-f779-805957fe4642"
      },
      "outputs": [
        {
          "output_type": "execute_result",
          "data": {
            "text/plain": [
              "array([5.1611165e-05, 4.5317120e-05, 4.2799504e-05, ..., 5.3577740e-02,\n",
              "       5.4843631e-02, 5.2017290e-02], dtype=float32)"
            ]
          },
          "metadata": {},
          "execution_count": 211
        }
      ],
      "source": [
        "y_train\n"
      ]
    },
    {
      "cell_type": "code",
      "execution_count": null,
      "metadata": {
        "application/vnd.databricks.v1+cell": {
          "inputWidgets": {},
          "nuid": "4acf7c9c-29e0-45db-8b15-a1b7be2b41b3",
          "showTitle": false,
          "title": ""
        },
        "id": "ZS2DgFoTT3j8",
        "colab": {
          "base_uri": "https://localhost:8080/"
        },
        "outputId": "906a89cf-392f-479d-8043-d4e0e2eb078a"
      },
      "outputs": [
        {
          "output_type": "execute_result",
          "data": {
            "text/plain": [
              "(547, 3, 12)"
            ]
          },
          "metadata": {},
          "execution_count": 161
        }
      ],
      "source": [
        "X_val.shape"
      ]
    },
    {
      "cell_type": "code",
      "execution_count": null,
      "metadata": {
        "application/vnd.databricks.v1+cell": {
          "inputWidgets": {},
          "nuid": "dad477a5-9062-48aa-bac5-de48a8ce18b7",
          "showTitle": false,
          "title": ""
        },
        "id": "6h12jVkTT3j9",
        "colab": {
          "base_uri": "https://localhost:8080/"
        },
        "outputId": "dfb21d39-474b-484e-fe6d-f8fe3f0751fd"
      },
      "outputs": [
        {
          "output_type": "execute_result",
          "data": {
            "text/plain": [
              "(341, 3, 12)"
            ]
          },
          "metadata": {},
          "execution_count": 162
        }
      ],
      "source": [
        "X_test.shape"
      ]
    },
    {
      "cell_type": "markdown",
      "metadata": {
        "application/vnd.databricks.v1+cell": {
          "inputWidgets": {},
          "nuid": "af13f9a7-4de8-4212-afc0-f822f2ad1a6f",
          "showTitle": false,
          "title": ""
        },
        "id": "KXRScqjqT3j-"
      },
      "source": [
        "# Deep Learning Model\n",
        "\n",
        "Here we initialize the model using Keras.\n",
        "\n",
        "Here we propose to code a basic neural network LSTM + Dense, but you are free to use any architecture."
      ]
    },
    {
      "cell_type": "code",
      "source": [
        "from tensorflow.keras.models import Sequential\n",
        "from tensorflow.keras.layers import Dense, Dropout, LSTM\n",
        "import tensorflow as tf\n",
        "rnn_size=3"
      ],
      "metadata": {
        "id": "ZTtBxre6nKU6"
      },
      "execution_count": null,
      "outputs": []
    },
    {
      "cell_type": "code",
      "source": [
        "regressor = keras.Sequential()\n",
        "regressor.add(LSTM(128, input_shape=(rnn_size,len(columns)), activation='relu', return_sequences=True))\n",
        "regressor.add(Dropout(0.2))\n",
        "\n",
        "regressor.add(LSTM(64, activation='relu'))\n",
        "regressor.add(Dropout(0.2))\n",
        "\n",
        "\n",
        "regressor.add(Dense(32, activation='relu'))\n",
        "regressor.add(Dropout(0.2))\n",
        "\n",
        "regressor.add(Dense(1, activation=tf.keras.activations.linear))\n",
        "opt = tf.keras.optimizers.Adam()\n",
        "regressor.compile(optimizer='adam',\n",
        "loss='mean_squared_error',metrics=['mean_squared_error'])"
      ],
      "metadata": {
        "id": "bbynn_RdnF0g"
      },
      "execution_count": null,
      "outputs": []
    },
    {
      "cell_type": "code",
      "execution_count": null,
      "metadata": {
        "application/vnd.databricks.v1+cell": {
          "inputWidgets": {},
          "nuid": "cdf9c1ed-267b-4f1c-91b4-36b51feaaff6",
          "showTitle": false,
          "title": ""
        },
        "id": "E1GwNh9fT3kA"
      },
      "outputs": [],
      "source": [
        "# neural network model\n",
        "\n",
        "# Build the model\n",
        "#regressor = keras.Sequential()\n",
        "#opt = keras.optimizers.Adam(learning_rate=0.001)\n",
        "#Compiling the Recurrent Neural Network with adam optimier and 'mean_absolute_error' as loss function\n",
        "#regressor.compile(loss='mean_absolute_error', optimizer=opt)"
      ]
    },
    {
      "cell_type": "code",
      "execution_count": null,
      "metadata": {
        "application/vnd.databricks.v1+cell": {
          "inputWidgets": {},
          "nuid": "11557d01-39ce-4924-81b5-9cb78129a2ae",
          "showTitle": false,
          "title": ""
        },
        "id": "NgFnkLDRT3kC",
        "colab": {
          "base_uri": "https://localhost:8080/"
        },
        "outputId": "56c40f10-e3f2-4337-f088-46b6e38334b0"
      },
      "outputs": [
        {
          "output_type": "stream",
          "name": "stdout",
          "text": [
            "Epoch 1/30\n",
            "166/166 [==============================] - 4s 10ms/step - loss: 5.2484e-04 - mean_squared_error: 5.2484e-04 - val_loss: 1.2292e-04 - val_mean_squared_error: 1.2292e-04\n",
            "Epoch 2/30\n",
            "166/166 [==============================] - 1s 8ms/step - loss: 1.7901e-04 - mean_squared_error: 1.7901e-04 - val_loss: 1.2109e-04 - val_mean_squared_error: 1.2109e-04\n",
            "Epoch 3/30\n",
            "166/166 [==============================] - 1s 9ms/step - loss: 1.5244e-04 - mean_squared_error: 1.5244e-04 - val_loss: 1.3195e-04 - val_mean_squared_error: 1.3195e-04\n",
            "Epoch 4/30\n",
            "166/166 [==============================] - 1s 8ms/step - loss: 1.6738e-04 - mean_squared_error: 1.6738e-04 - val_loss: 1.1467e-04 - val_mean_squared_error: 1.1467e-04\n",
            "Epoch 5/30\n",
            "166/166 [==============================] - 1s 8ms/step - loss: 1.6339e-04 - mean_squared_error: 1.6339e-04 - val_loss: 2.3554e-04 - val_mean_squared_error: 2.3554e-04\n",
            "Epoch 6/30\n",
            "166/166 [==============================] - 1s 8ms/step - loss: 1.5368e-04 - mean_squared_error: 1.5368e-04 - val_loss: 8.5677e-05 - val_mean_squared_error: 8.5677e-05\n",
            "Epoch 7/30\n",
            "166/166 [==============================] - 1s 8ms/step - loss: 1.3967e-04 - mean_squared_error: 1.3967e-04 - val_loss: 1.1846e-04 - val_mean_squared_error: 1.1846e-04\n",
            "Epoch 8/30\n",
            "166/166 [==============================] - 1s 8ms/step - loss: 1.1507e-04 - mean_squared_error: 1.1507e-04 - val_loss: 6.5017e-05 - val_mean_squared_error: 6.5017e-05\n",
            "Epoch 9/30\n",
            "166/166 [==============================] - 1s 8ms/step - loss: 1.4299e-04 - mean_squared_error: 1.4299e-04 - val_loss: 4.0024e-04 - val_mean_squared_error: 4.0024e-04\n",
            "Epoch 10/30\n",
            "166/166 [==============================] - 1s 8ms/step - loss: 1.1605e-04 - mean_squared_error: 1.1605e-04 - val_loss: 6.6922e-05 - val_mean_squared_error: 6.6922e-05\n",
            "Epoch 11/30\n",
            "166/166 [==============================] - 1s 8ms/step - loss: 1.2911e-04 - mean_squared_error: 1.2911e-04 - val_loss: 4.1965e-05 - val_mean_squared_error: 4.1965e-05\n",
            "Epoch 12/30\n",
            "166/166 [==============================] - 1s 9ms/step - loss: 1.2857e-04 - mean_squared_error: 1.2857e-04 - val_loss: 1.0715e-04 - val_mean_squared_error: 1.0715e-04\n",
            "Epoch 13/30\n",
            "166/166 [==============================] - 1s 8ms/step - loss: 1.4205e-04 - mean_squared_error: 1.4205e-04 - val_loss: 4.4774e-05 - val_mean_squared_error: 4.4774e-05\n",
            "Epoch 14/30\n",
            "166/166 [==============================] - 1s 8ms/step - loss: 1.3784e-04 - mean_squared_error: 1.3784e-04 - val_loss: 1.8168e-04 - val_mean_squared_error: 1.8168e-04\n",
            "Epoch 15/30\n",
            "166/166 [==============================] - 1s 8ms/step - loss: 1.1983e-04 - mean_squared_error: 1.1983e-04 - val_loss: 1.4575e-04 - val_mean_squared_error: 1.4575e-04\n",
            "Epoch 16/30\n",
            "166/166 [==============================] - 1s 8ms/step - loss: 1.1925e-04 - mean_squared_error: 1.1925e-04 - val_loss: 5.8960e-05 - val_mean_squared_error: 5.8960e-05\n",
            "Epoch 17/30\n",
            "166/166 [==============================] - 1s 8ms/step - loss: 9.8996e-05 - mean_squared_error: 9.8996e-05 - val_loss: 4.8115e-05 - val_mean_squared_error: 4.8115e-05\n",
            "Epoch 18/30\n",
            "166/166 [==============================] - 1s 8ms/step - loss: 1.2752e-04 - mean_squared_error: 1.2752e-04 - val_loss: 1.3358e-04 - val_mean_squared_error: 1.3358e-04\n",
            "Epoch 19/30\n",
            "166/166 [==============================] - 1s 8ms/step - loss: 1.2386e-04 - mean_squared_error: 1.2386e-04 - val_loss: 5.8939e-05 - val_mean_squared_error: 5.8939e-05\n",
            "Epoch 20/30\n",
            "166/166 [==============================] - 1s 8ms/step - loss: 9.6603e-05 - mean_squared_error: 9.6603e-05 - val_loss: 4.6773e-05 - val_mean_squared_error: 4.6773e-05\n",
            "Epoch 21/30\n",
            "166/166 [==============================] - 1s 8ms/step - loss: 1.1391e-04 - mean_squared_error: 1.1391e-04 - val_loss: 1.1908e-04 - val_mean_squared_error: 1.1908e-04\n",
            "Epoch 22/30\n",
            "166/166 [==============================] - 1s 9ms/step - loss: 9.3267e-05 - mean_squared_error: 9.3267e-05 - val_loss: 7.6209e-05 - val_mean_squared_error: 7.6209e-05\n",
            "Epoch 23/30\n",
            "166/166 [==============================] - 1s 8ms/step - loss: 1.0726e-04 - mean_squared_error: 1.0726e-04 - val_loss: 1.1399e-04 - val_mean_squared_error: 1.1399e-04\n",
            "Epoch 24/30\n",
            "166/166 [==============================] - 1s 8ms/step - loss: 1.0745e-04 - mean_squared_error: 1.0745e-04 - val_loss: 4.2921e-05 - val_mean_squared_error: 4.2921e-05\n",
            "Epoch 25/30\n",
            "166/166 [==============================] - 1s 9ms/step - loss: 1.0911e-04 - mean_squared_error: 1.0911e-04 - val_loss: 7.5526e-05 - val_mean_squared_error: 7.5526e-05\n",
            "Epoch 26/30\n",
            "166/166 [==============================] - 1s 9ms/step - loss: 1.0868e-04 - mean_squared_error: 1.0868e-04 - val_loss: 1.1205e-04 - val_mean_squared_error: 1.1205e-04\n",
            "Epoch 27/30\n",
            "166/166 [==============================] - 1s 8ms/step - loss: 1.2920e-04 - mean_squared_error: 1.2920e-04 - val_loss: 4.0902e-05 - val_mean_squared_error: 4.0902e-05\n",
            "Epoch 28/30\n",
            "166/166 [==============================] - 1s 8ms/step - loss: 9.0012e-05 - mean_squared_error: 9.0012e-05 - val_loss: 1.3573e-04 - val_mean_squared_error: 1.3573e-04\n",
            "Epoch 29/30\n",
            "166/166 [==============================] - 1s 9ms/step - loss: 8.8859e-05 - mean_squared_error: 8.8859e-05 - val_loss: 3.6036e-05 - val_mean_squared_error: 3.6036e-05\n",
            "Epoch 30/30\n",
            "166/166 [==============================] - 1s 9ms/step - loss: 1.3132e-04 - mean_squared_error: 1.3132e-04 - val_loss: 4.8851e-05 - val_mean_squared_error: 4.8851e-05\n"
          ]
        },
        {
          "output_type": "execute_result",
          "data": {
            "text/plain": [
              "<keras.callbacks.History at 0x7fa4a16a4410>"
            ]
          },
          "metadata": {},
          "execution_count": 89
        }
      ],
      "source": [
        "#Fitting the Recurrent Neural Network\n",
        "regressor.fit(X_train, y_train, validation_data = (X_val, y_val), batch_size = 16, epochs = 30)"
      ]
    },
    {
      "cell_type": "markdown",
      "metadata": {
        "application/vnd.databricks.v1+cell": {
          "inputWidgets": {},
          "nuid": "dc040557-528b-4833-8d5b-089d236d9d77",
          "showTitle": false,
          "title": ""
        },
        "id": "vP-r5DdpT3kI"
      },
      "source": [
        "# Evaluation"
      ]
    },
    {
      "cell_type": "code",
      "execution_count": null,
      "metadata": {
        "application/vnd.databricks.v1+cell": {
          "inputWidgets": {},
          "nuid": "42718803-0d60-44ec-98d9-3bd3c7353b8c",
          "showTitle": false,
          "title": ""
        },
        "id": "k71MgN3uT3kJ"
      },
      "outputs": [],
      "source": [
        "# compute prediction for test\n",
        "y_pred = regressor.predict([X_test])"
      ]
    },
    {
      "cell_type": "code",
      "source": [
        "y_pred.shape\n"
      ],
      "metadata": {
        "colab": {
          "base_uri": "https://localhost:8080/"
        },
        "id": "q4zmjvFThE52",
        "outputId": "689d18bb-26eb-4021-de2f-c9489b518d99"
      },
      "execution_count": null,
      "outputs": [
        {
          "output_type": "execute_result",
          "data": {
            "text/plain": [
              "(341, 1)"
            ]
          },
          "metadata": {},
          "execution_count": 216
        }
      ]
    },
    {
      "cell_type": "code",
      "execution_count": null,
      "metadata": {
        "application/vnd.databricks.v1+cell": {
          "inputWidgets": {},
          "nuid": "017123f7-02d7-4443-9dfa-52177e5a5163",
          "showTitle": false,
          "title": ""
        },
        "id": "-eITd63IT3kK",
        "colab": {
          "base_uri": "https://localhost:8080/"
        },
        "outputId": "a3526d96-069d-446b-fa95-10ffa3dc7e31"
      },
      "outputs": [
        {
          "output_type": "stream",
          "name": "stdout",
          "text": [
            "rmse score :  4838.999652778676\n",
            "MAPE score : 0.07609785355004407\n",
            "MAE score : 3165.186130388717\n"
          ]
        }
      ],
      "source": [
        "# compute rmse for test\n",
        "import math\n",
        "rnn_size=3\n",
        "y_pred_inverse = scaler.inverse_transform(np.concatenate([y_pred, data_test[-len(y_pred):,1:]], axis=1))\n",
        "y_test_inverse = scaler.inverse_transform(data_test.reshape(-1,len(columns)))[rnn_size:]\n",
        "MAPE=np.divide(np.abs(np.subtract(y_test_inverse[0:len(y_test_inverse),0],y_pred_inverse[0:len(y_pred_inverse),0])),y_test_inverse[0:len(y_test_inverse),0]).mean()\n",
        "MSE=np.square(np.subtract(y_test_inverse[0:len(y_test_inverse),0],y_pred_inverse[0:len(y_pred_inverse),0])).mean()\n",
        "rmse_score=math.sqrt(MSE)\n",
        "MAE=np.abs(np.subtract(y_test_inverse[0:len(y_test_inverse),0],y_pred_inverse[0:len(y_pred_inverse),0])).mean()\n",
        "print(\"rmse score : \", rmse_score)\n",
        "print(\"MAPE score :\", MAPE)\n",
        "print(\"MAE score :\", MAE)\n"
      ]
    },
    {
      "cell_type": "code",
      "execution_count": null,
      "metadata": {
        "application/vnd.databricks.v1+cell": {
          "inputWidgets": {},
          "nuid": "3a2089b8-52bd-406b-8430-b5509fa0c742",
          "showTitle": false,
          "title": ""
        },
        "id": "-jlZWcwnT3kK",
        "colab": {
          "base_uri": "https://localhost:8080/",
          "height": 295
        },
        "outputId": "155e0601-102d-4cdd-f1c9-460c54f6e95f"
      },
      "outputs": [
        {
          "output_type": "display_data",
          "data": {
            "text/plain": [
              "<Figure size 432x288 with 1 Axes>"
            ],
            "image/png": "[encoded data removed]"
          },
          "metadata": {
            "needs_background": "light"
          }
        }
      ],
      "source": [
        "#Graphs for predicted values\n",
        "plt.plot(y_test_inverse[rnn_size:,0], color = 'red', label = 'true BTC price')\n",
        "plt.plot(y_pred_inverse[:,0], color = 'blue', label = 'predicted BTC price')\n",
        "plt.title('BTC price Prediction')\n",
        "plt.xlabel('Days')\n",
        "plt.ylabel('BTC price')\n",
        "plt.legend()\n",
        "plt.show()\n",
        "\n",
        "\n",
        "#plt.plot(np.subtract(y_test_inverse[rnn_size:,0],y_pred_inverse[:,0]))"
      ]
    },
    {
      "cell_type": "code",
      "execution_count": null,
      "metadata": {
        "application/vnd.databricks.v1+cell": {
          "inputWidgets": {},
          "nuid": "393be024-3cbf-4397-a04b-ae8faf79e229",
          "showTitle": false,
          "title": ""
        },
        "id": "Av1tb6nqT3kM",
        "colab": {
          "base_uri": "https://localhost:8080/",
          "height": 130
        },
        "outputId": "8842063d-525a-4af2-cebb-4c647106f2b0"
      },
      "outputs": [
        {
          "output_type": "error",
          "ename": "SyntaxError",
          "evalue": "ignored",
          "traceback": [
            "\u001b[0;36m  File \u001b[0;32m\"<ipython-input-23-c5b7e8b83822>\"\u001b[0;36m, line \u001b[0;32m2\u001b[0m\n\u001b[0;31m    - Test other neural network models\u001b[0m\n\u001b[0m               ^\u001b[0m\n\u001b[0;31mSyntaxError\u001b[0m\u001b[0;31m:\u001b[0m invalid syntax\n"
          ]
        }
      ],
      "source": [
        "# If you get this far, you can : \n",
        "- Test other neural network models\n",
        "- Test other optimizers\n",
        "- Compare results between Arima and RNN models\n",
        "- Find a way to choose most important variables\n",
        "- Implement a trading algorithm"
      ]
    },
    {
      "cell_type": "markdown",
      "source": [
        "\n",
        "\n",
        "```\n",
        "\n",
        "```\n",
        "\n",
        "# Trading bot"
      ],
      "metadata": {
        "id": "rtzZwEechKyG"
      }
    },
    {
      "cell_type": "code",
      "source": [
        "from google.colab import drive\n",
        "import os\n",
        "drive.mount('/content/drive')\n",
        "import os\n",
        "os.chdir(\"/content/drive/MyDrive/EI time series\")\n",
        "import numpy as np\n",
        "import pandas as pd\n",
        "from matplotlib import pyplot as plt\n",
        "from tensorflow import keras\n",
        "from tensorflow.keras import layers\n",
        "from sklearn.preprocessing import MinMaxScaler\n",
        "import helper_functions as hf\n",
        "CURDIR = os.getcwd()\n",
        "DATADIR = os.path.join(CURDIR,  \"data\")\n",
        "FIGDIR = os.path.join(CURDIR,  \"figure\")\n",
        "%matplotlib inline\n",
        "df_blockchain = pd.read_csv(os.path.join(DATADIR, \"df_blockchain.csv\"), \n",
        "                            delimiter=\",\")\n",
        "\n",
        "df=df_blockchain.dropna()\n",
        "columns=['market-price','market-cap']\n",
        "dataset = df[columns]\n",
        "scaler = MinMaxScaler(feature_range=(0, 1))\n",
        "dataset = scaler.fit_transform(dataset.values.reshape(-1,len(columns)))\n",
        "\n",
        "data_train = dataset[:2650]\n",
        "data_valid = dataset[2650:3200]\n",
        "data_test = dataset[3200:]\n",
        "\n",
        "def process_data(data, rnn_size=3, target_id=0, columns_size=len(columns)):\n",
        "    X = []\n",
        "    y = []\n",
        "    for i in range(len(data)-rnn_size):\n",
        "        X.append(data[i:i+rnn_size,:])\n",
        "        y.append(data[i+rnn_size,0])\n",
        "    return np.array(X).astype(np.float32).reshape((-1,rnn_size,columns_size)), np.array(y).astype(np.float32)\n",
        "\n",
        "\n",
        "# process data for RNN\n",
        "X_train, y_train = process_data(data_train)\n",
        "X_val, y_val = process_data(data_valid)\n",
        "X_test, y_test = process_data(data_test)\n",
        "\n",
        "from tensorflow.keras.models import Sequential\n",
        "from tensorflow.keras.layers import Dense, Dropout, LSTM\n",
        "import tensorflow as tf\n",
        "rnn_size=3\n",
        "\n",
        "regressor = keras.Sequential()\n",
        "regressor.add(LSTM(128, input_shape=(rnn_size,len(columns)), activation='relu', return_sequences=True))\n",
        "regressor.add(Dropout(0.2))\n",
        "\n",
        "regressor.add(LSTM(64, activation='relu'))\n",
        "regressor.add(Dropout(0.2))\n",
        "\n",
        "\n",
        "regressor.add(Dense(32, activation='relu'))\n",
        "regressor.add(Dropout(0.2))\n",
        "\n",
        "regressor.add(Dense(1, activation=tf.keras.activations.linear))\n",
        "opt = tf.keras.optimizers.Adam()\n",
        "regressor.compile(optimizer='adam',\n",
        "loss='mean_squared_error',metrics=['mean_squared_error'])\n",
        "\n",
        "#Fitting the Recurrent Neural Network\n",
        "regressor.fit(X_train, y_train, validation_data = (X_val, y_val), batch_size = 16, epochs = 30)\n",
        "\n",
        "y_pred = regressor.predict([X_test])\n",
        "\n",
        "#we only select what we need for the trading\n",
        "df=df[['Date','market-price','trade-volume']].loc[len(df['market-price'])-len(y_pred_inverse):len(df['market-price'])]\n",
        "df.set_index(\"Date\", inplace=True)\n",
        "df.fillna(method=\"ffill\", inplace=True)  # if there are gaps in data, use previously known values\n",
        "df.dropna(inplace=True)\n",
        "print(df.head())  \n",
        "df.shape\n",
        "SEQ_LEN = 60  # how long of a preceeding sequence to collect for RNN\n",
        "FUTURE_PERIOD_PREDICT = 3  # how far into the future are we trying to predict?\n",
        "def classify(current, future):\n",
        "    if float(future) > float(current):\n",
        "        return 1\n",
        "    else:\n",
        "        return 0\n",
        "df=df.assign(prediction=y_pred_inverse[:,0])\n",
        "df['future'] = df['prediction'].shift(-FUTURE_PERIOD_PREDICT)\n",
        "df['target'] = list(map(classify, df['market-price'], df['future']))\n",
        "budget= 555555555066\n",
        "Bitcoin=0 \n",
        "for i in df['target']:\n",
        "  if i==0 and Bitcoin != 0: \n",
        "    budget+=Bitcoin*df['market-price'][i]\n",
        "    Bitcoin=0\n",
        "  elif i==1  and budget>0:\n",
        "    Bitcoin+=budget//df['market-price'][i]\n",
        "    budget=0\n",
        "\n",
        "print('budget=',budget)\n",
        "print('Bitcoin=',Bitcoin)"
      ],
      "metadata": {
        "colab": {
          "base_uri": "https://localhost:8080/",
          "height": 1000
        },
        "id": "_Ik8cIuahhoS",
        "outputId": "8c9e1178-68e6-4f7a-9751-278ea4f3cb21"
      },
      "execution_count": null,
      "outputs": [
        {
          "output_type": "stream",
          "name": "stdout",
          "text": [
            "Drive already mounted at /content/drive; to attempt to forcibly remount, call drive.mount(\"/content/drive\", force_remount=True).\n",
            "Epoch 1/30\n",
            "166/166 [==============================] - 3s 8ms/step - loss: 6.2807e-04 - mean_squared_error: 6.2807e-04 - val_loss: 4.5394e-05 - val_mean_squared_error: 4.5394e-05\n",
            "Epoch 2/30\n",
            "166/166 [==============================] - 1s 7ms/step - loss: 1.4603e-04 - mean_squared_error: 1.4603e-04 - val_loss: 9.3940e-05 - val_mean_squared_error: 9.3940e-05\n",
            "Epoch 3/30\n",
            "166/166 [==============================] - 1s 7ms/step - loss: 1.5304e-04 - mean_squared_error: 1.5304e-04 - val_loss: 1.1648e-04 - val_mean_squared_error: 1.1648e-04\n",
            "Epoch 4/30\n",
            "166/166 [==============================] - 1s 7ms/step - loss: 1.4299e-04 - mean_squared_error: 1.4299e-04 - val_loss: 7.0722e-05 - val_mean_squared_error: 7.0722e-05\n",
            "Epoch 5/30\n",
            "166/166 [==============================] - 1s 7ms/step - loss: 1.3434e-04 - mean_squared_error: 1.3434e-04 - val_loss: 5.7808e-05 - val_mean_squared_error: 5.7808e-05\n",
            "Epoch 6/30\n",
            "166/166 [==============================] - 1s 7ms/step - loss: 1.6155e-04 - mean_squared_error: 1.6155e-04 - val_loss: 4.3256e-05 - val_mean_squared_error: 4.3256e-05\n",
            "Epoch 7/30\n",
            "166/166 [==============================] - 1s 7ms/step - loss: 1.2814e-04 - mean_squared_error: 1.2814e-04 - val_loss: 5.6382e-05 - val_mean_squared_error: 5.6382e-05\n",
            "Epoch 8/30\n",
            "166/166 [==============================] - 1s 7ms/step - loss: 1.0494e-04 - mean_squared_error: 1.0494e-04 - val_loss: 2.3593e-04 - val_mean_squared_error: 2.3593e-04\n",
            "Epoch 9/30\n",
            "166/166 [==============================] - 1s 7ms/step - loss: 1.4100e-04 - mean_squared_error: 1.4100e-04 - val_loss: 4.2259e-05 - val_mean_squared_error: 4.2259e-05\n",
            "Epoch 10/30\n",
            "166/166 [==============================] - 1s 7ms/step - loss: 1.1759e-04 - mean_squared_error: 1.1759e-04 - val_loss: 1.0047e-04 - val_mean_squared_error: 1.0047e-04\n",
            "Epoch 11/30\n",
            "166/166 [==============================] - 1s 7ms/step - loss: 1.0694e-04 - mean_squared_error: 1.0694e-04 - val_loss: 4.3341e-04 - val_mean_squared_error: 4.3341e-04\n",
            "Epoch 12/30\n",
            "166/166 [==============================] - 1s 7ms/step - loss: 1.2652e-04 - mean_squared_error: 1.2652e-04 - val_loss: 1.5321e-04 - val_mean_squared_error: 1.5321e-04\n",
            "Epoch 13/30\n",
            "166/166 [==============================] - 1s 7ms/step - loss: 1.1119e-04 - mean_squared_error: 1.1119e-04 - val_loss: 1.8301e-04 - val_mean_squared_error: 1.8301e-04\n",
            "Epoch 14/30\n",
            "166/166 [==============================] - 1s 7ms/step - loss: 1.2479e-04 - mean_squared_error: 1.2479e-04 - val_loss: 8.3994e-05 - val_mean_squared_error: 8.3994e-05\n",
            "Epoch 15/30\n",
            "166/166 [==============================] - 1s 7ms/step - loss: 1.0447e-04 - mean_squared_error: 1.0447e-04 - val_loss: 5.1607e-04 - val_mean_squared_error: 5.1607e-04\n",
            "Epoch 16/30\n",
            "166/166 [==============================] - 1s 7ms/step - loss: 9.2953e-05 - mean_squared_error: 9.2953e-05 - val_loss: 4.0497e-05 - val_mean_squared_error: 4.0497e-05\n",
            "Epoch 17/30\n",
            "166/166 [==============================] - 1s 7ms/step - loss: 8.9748e-05 - mean_squared_error: 8.9748e-05 - val_loss: 2.8919e-04 - val_mean_squared_error: 2.8919e-04\n",
            "Epoch 18/30\n",
            "166/166 [==============================] - 1s 7ms/step - loss: 1.0093e-04 - mean_squared_error: 1.0093e-04 - val_loss: 1.1573e-04 - val_mean_squared_error: 1.1573e-04\n",
            "Epoch 19/30\n",
            "166/166 [==============================] - 1s 7ms/step - loss: 9.6269e-05 - mean_squared_error: 9.6269e-05 - val_loss: 7.4566e-05 - val_mean_squared_error: 7.4566e-05\n",
            "Epoch 20/30\n",
            "166/166 [==============================] - 1s 7ms/step - loss: 1.2052e-04 - mean_squared_error: 1.2052e-04 - val_loss: 1.0023e-04 - val_mean_squared_error: 1.0023e-04\n",
            "Epoch 21/30\n",
            "166/166 [==============================] - 1s 7ms/step - loss: 8.9063e-05 - mean_squared_error: 8.9063e-05 - val_loss: 4.3981e-05 - val_mean_squared_error: 4.3981e-05\n",
            "Epoch 22/30\n",
            "166/166 [==============================] - 1s 7ms/step - loss: 1.1250e-04 - mean_squared_error: 1.1250e-04 - val_loss: 6.6478e-05 - val_mean_squared_error: 6.6478e-05\n",
            "Epoch 23/30\n",
            "166/166 [==============================] - 1s 7ms/step - loss: 1.0381e-04 - mean_squared_error: 1.0381e-04 - val_loss: 6.5526e-05 - val_mean_squared_error: 6.5526e-05\n",
            "Epoch 24/30\n",
            "166/166 [==============================] - 1s 7ms/step - loss: 1.1373e-04 - mean_squared_error: 1.1373e-04 - val_loss: 1.8794e-04 - val_mean_squared_error: 1.8794e-04\n",
            "Epoch 25/30\n",
            "166/166 [==============================] - 1s 7ms/step - loss: 8.8826e-05 - mean_squared_error: 8.8826e-05 - val_loss: 3.1263e-04 - val_mean_squared_error: 3.1263e-04\n",
            "Epoch 26/30\n",
            "166/166 [==============================] - 1s 7ms/step - loss: 9.2802e-05 - mean_squared_error: 9.2802e-05 - val_loss: 4.0930e-05 - val_mean_squared_error: 4.0930e-05\n",
            "Epoch 27/30\n",
            "166/166 [==============================] - 1s 7ms/step - loss: 8.9918e-05 - mean_squared_error: 8.9918e-05 - val_loss: 1.2819e-04 - val_mean_squared_error: 1.2819e-04\n",
            "Epoch 28/30\n",
            "166/166 [==============================] - 1s 7ms/step - loss: 8.6812e-05 - mean_squared_error: 8.6812e-05 - val_loss: 3.9862e-05 - val_mean_squared_error: 3.9862e-05\n",
            "Epoch 29/30\n",
            "166/166 [==============================] - 1s 7ms/step - loss: 7.4609e-05 - mean_squared_error: 7.4609e-05 - val_loss: 4.0023e-05 - val_mean_squared_error: 4.0023e-05\n",
            "Epoch 30/30\n",
            "166/166 [==============================] - 1s 7ms/step - loss: 9.1677e-05 - mean_squared_error: 9.1677e-05 - val_loss: 1.2443e-04 - val_mean_squared_error: 1.2443e-04\n",
            "            market-price  trade-volume\n",
            "Date                                  \n",
            "2020-06-20       9300.15  1.097328e+08\n",
            "2020-06-21       9357.43  5.746173e+07\n",
            "2020-06-22       9284.78  3.688286e+07\n",
            "2020-06-23       9691.90  1.344948e+08\n",
            "2020-06-24       9621.49  1.022892e+08\n"
          ]
        },
        {
          "output_type": "error",
          "ename": "ValueError",
          "evalue": "ignored",
          "traceback": [
            "\u001b[0;31m---------------------------------------------------------------------------\u001b[0m",
            "\u001b[0;31mValueError\u001b[0m                                Traceback (most recent call last)",
            "\u001b[0;32m<ipython-input-370-a0132357db83>\u001b[0m in \u001b[0;36m<module>\u001b[0;34m()\u001b[0m\n\u001b[1;32m     82\u001b[0m     \u001b[0;32melse\u001b[0m\u001b[0;34m:\u001b[0m\u001b[0;34m\u001b[0m\u001b[0;34m\u001b[0m\u001b[0m\n\u001b[1;32m     83\u001b[0m         \u001b[0;32mreturn\u001b[0m \u001b[0;36m0\u001b[0m\u001b[0;34m\u001b[0m\u001b[0;34m\u001b[0m\u001b[0m\n\u001b[0;32m---> 84\u001b[0;31m \u001b[0mdf\u001b[0m\u001b[0;34m=\u001b[0m\u001b[0mdf\u001b[0m\u001b[0;34m.\u001b[0m\u001b[0massign\u001b[0m\u001b[0;34m(\u001b[0m\u001b[0mprediction\u001b[0m\u001b[0;34m=\u001b[0m\u001b[0my_pred_inverse\u001b[0m\u001b[0;34m[\u001b[0m\u001b[0;34m:\u001b[0m\u001b[0;34m,\u001b[0m\u001b[0;36m0\u001b[0m\u001b[0;34m]\u001b[0m\u001b[0;34m)\u001b[0m\u001b[0;34m\u001b[0m\u001b[0;34m\u001b[0m\u001b[0m\n\u001b[0m\u001b[1;32m     85\u001b[0m \u001b[0mdf\u001b[0m\u001b[0;34m[\u001b[0m\u001b[0;34m'future'\u001b[0m\u001b[0;34m]\u001b[0m \u001b[0;34m=\u001b[0m \u001b[0mdf\u001b[0m\u001b[0;34m[\u001b[0m\u001b[0;34m'prediction'\u001b[0m\u001b[0;34m]\u001b[0m\u001b[0;34m.\u001b[0m\u001b[0mshift\u001b[0m\u001b[0;34m(\u001b[0m\u001b[0;34m-\u001b[0m\u001b[0mFUTURE_PERIOD_PREDICT\u001b[0m\u001b[0;34m)\u001b[0m\u001b[0;34m\u001b[0m\u001b[0;34m\u001b[0m\u001b[0m\n\u001b[1;32m     86\u001b[0m \u001b[0mdf\u001b[0m\u001b[0;34m[\u001b[0m\u001b[0;34m'target'\u001b[0m\u001b[0;34m]\u001b[0m \u001b[0;34m=\u001b[0m \u001b[0mlist\u001b[0m\u001b[0;34m(\u001b[0m\u001b[0mmap\u001b[0m\u001b[0;34m(\u001b[0m\u001b[0mclassify\u001b[0m\u001b[0;34m,\u001b[0m \u001b[0mdf\u001b[0m\u001b[0;34m[\u001b[0m\u001b[0;34m'market-price'\u001b[0m\u001b[0;34m]\u001b[0m\u001b[0;34m,\u001b[0m \u001b[0mdf\u001b[0m\u001b[0;34m[\u001b[0m\u001b[0;34m'future'\u001b[0m\u001b[0;34m]\u001b[0m\u001b[0;34m)\u001b[0m\u001b[0;34m)\u001b[0m\u001b[0;34m\u001b[0m\u001b[0;34m\u001b[0m\u001b[0m\n",
            "\u001b[0;32m/usr/local/lib/python3.7/dist-packages/pandas/core/frame.py\u001b[0m in \u001b[0;36massign\u001b[0;34m(self, **kwargs)\u001b[0m\n\u001b[1;32m   4484\u001b[0m \u001b[0;34m\u001b[0m\u001b[0m\n\u001b[1;32m   4485\u001b[0m         \u001b[0;32mfor\u001b[0m \u001b[0mk\u001b[0m\u001b[0;34m,\u001b[0m \u001b[0mv\u001b[0m \u001b[0;32min\u001b[0m \u001b[0mkwargs\u001b[0m\u001b[0;34m.\u001b[0m\u001b[0mitems\u001b[0m\u001b[0;34m(\u001b[0m\u001b[0;34m)\u001b[0m\u001b[0;34m:\u001b[0m\u001b[0;34m\u001b[0m\u001b[0;34m\u001b[0m\u001b[0m\n\u001b[0;32m-> 4486\u001b[0;31m             \u001b[0mdata\u001b[0m\u001b[0;34m[\u001b[0m\u001b[0mk\u001b[0m\u001b[0;34m]\u001b[0m \u001b[0;34m=\u001b[0m \u001b[0mcom\u001b[0m\u001b[0;34m.\u001b[0m\u001b[0mapply_if_callable\u001b[0m\u001b[0;34m(\u001b[0m\u001b[0mv\u001b[0m\u001b[0;34m,\u001b[0m \u001b[0mdata\u001b[0m\u001b[0;34m)\u001b[0m\u001b[0;34m\u001b[0m\u001b[0;34m\u001b[0m\u001b[0m\n\u001b[0m\u001b[1;32m   4487\u001b[0m         \u001b[0;32mreturn\u001b[0m \u001b[0mdata\u001b[0m\u001b[0;34m\u001b[0m\u001b[0;34m\u001b[0m\u001b[0m\n\u001b[1;32m   4488\u001b[0m \u001b[0;34m\u001b[0m\u001b[0m\n",
            "\u001b[0;32m/usr/local/lib/python3.7/dist-packages/pandas/core/frame.py\u001b[0m in \u001b[0;36m__setitem__\u001b[0;34m(self, key, value)\u001b[0m\n\u001b[1;32m   3610\u001b[0m         \u001b[0;32melse\u001b[0m\u001b[0;34m:\u001b[0m\u001b[0;34m\u001b[0m\u001b[0;34m\u001b[0m\u001b[0m\n\u001b[1;32m   3611\u001b[0m             \u001b[0;31m# set column\u001b[0m\u001b[0;34m\u001b[0m\u001b[0;34m\u001b[0m\u001b[0;34m\u001b[0m\u001b[0m\n\u001b[0;32m-> 3612\u001b[0;31m             \u001b[0mself\u001b[0m\u001b[0;34m.\u001b[0m\u001b[0m_set_item\u001b[0m\u001b[0;34m(\u001b[0m\u001b[0mkey\u001b[0m\u001b[0;34m,\u001b[0m \u001b[0mvalue\u001b[0m\u001b[0;34m)\u001b[0m\u001b[0;34m\u001b[0m\u001b[0;34m\u001b[0m\u001b[0m\n\u001b[0m\u001b[1;32m   3613\u001b[0m \u001b[0;34m\u001b[0m\u001b[0m\n\u001b[1;32m   3614\u001b[0m     \u001b[0;32mdef\u001b[0m \u001b[0m_setitem_slice\u001b[0m\u001b[0;34m(\u001b[0m\u001b[0mself\u001b[0m\u001b[0;34m,\u001b[0m \u001b[0mkey\u001b[0m\u001b[0;34m:\u001b[0m \u001b[0mslice\u001b[0m\u001b[0;34m,\u001b[0m \u001b[0mvalue\u001b[0m\u001b[0;34m)\u001b[0m\u001b[0;34m:\u001b[0m\u001b[0;34m\u001b[0m\u001b[0;34m\u001b[0m\u001b[0m\n",
            "\u001b[0;32m/usr/local/lib/python3.7/dist-packages/pandas/core/frame.py\u001b[0m in \u001b[0;36m_set_item\u001b[0;34m(self, key, value)\u001b[0m\n\u001b[1;32m   3782\u001b[0m         \u001b[0mensure\u001b[0m \u001b[0mhomogeneity\u001b[0m\u001b[0;34m.\u001b[0m\u001b[0;34m\u001b[0m\u001b[0;34m\u001b[0m\u001b[0m\n\u001b[1;32m   3783\u001b[0m         \"\"\"\n\u001b[0;32m-> 3784\u001b[0;31m         \u001b[0mvalue\u001b[0m \u001b[0;34m=\u001b[0m \u001b[0mself\u001b[0m\u001b[0;34m.\u001b[0m\u001b[0m_sanitize_column\u001b[0m\u001b[0;34m(\u001b[0m\u001b[0mvalue\u001b[0m\u001b[0;34m)\u001b[0m\u001b[0;34m\u001b[0m\u001b[0;34m\u001b[0m\u001b[0m\n\u001b[0m\u001b[1;32m   3785\u001b[0m \u001b[0;34m\u001b[0m\u001b[0m\n\u001b[1;32m   3786\u001b[0m         if (\n",
            "\u001b[0;32m/usr/local/lib/python3.7/dist-packages/pandas/core/frame.py\u001b[0m in \u001b[0;36m_sanitize_column\u001b[0;34m(self, value)\u001b[0m\n\u001b[1;32m   4507\u001b[0m \u001b[0;34m\u001b[0m\u001b[0m\n\u001b[1;32m   4508\u001b[0m         \u001b[0;32mif\u001b[0m \u001b[0mis_list_like\u001b[0m\u001b[0;34m(\u001b[0m\u001b[0mvalue\u001b[0m\u001b[0;34m)\u001b[0m\u001b[0;34m:\u001b[0m\u001b[0;34m\u001b[0m\u001b[0;34m\u001b[0m\u001b[0m\n\u001b[0;32m-> 4509\u001b[0;31m             \u001b[0mcom\u001b[0m\u001b[0;34m.\u001b[0m\u001b[0mrequire_length_match\u001b[0m\u001b[0;34m(\u001b[0m\u001b[0mvalue\u001b[0m\u001b[0;34m,\u001b[0m \u001b[0mself\u001b[0m\u001b[0;34m.\u001b[0m\u001b[0mindex\u001b[0m\u001b[0;34m)\u001b[0m\u001b[0;34m\u001b[0m\u001b[0;34m\u001b[0m\u001b[0m\n\u001b[0m\u001b[1;32m   4510\u001b[0m         \u001b[0;32mreturn\u001b[0m \u001b[0msanitize_array\u001b[0m\u001b[0;34m(\u001b[0m\u001b[0mvalue\u001b[0m\u001b[0;34m,\u001b[0m \u001b[0mself\u001b[0m\u001b[0;34m.\u001b[0m\u001b[0mindex\u001b[0m\u001b[0;34m,\u001b[0m \u001b[0mcopy\u001b[0m\u001b[0;34m=\u001b[0m\u001b[0;32mTrue\u001b[0m\u001b[0;34m,\u001b[0m \u001b[0mallow_2d\u001b[0m\u001b[0;34m=\u001b[0m\u001b[0;32mTrue\u001b[0m\u001b[0;34m)\u001b[0m\u001b[0;34m\u001b[0m\u001b[0;34m\u001b[0m\u001b[0m\n\u001b[1;32m   4511\u001b[0m \u001b[0;34m\u001b[0m\u001b[0m\n",
            "\u001b[0;32m/usr/local/lib/python3.7/dist-packages/pandas/core/common.py\u001b[0m in \u001b[0;36mrequire_length_match\u001b[0;34m(data, index)\u001b[0m\n\u001b[1;32m    530\u001b[0m     \u001b[0;32mif\u001b[0m \u001b[0mlen\u001b[0m\u001b[0;34m(\u001b[0m\u001b[0mdata\u001b[0m\u001b[0;34m)\u001b[0m \u001b[0;34m!=\u001b[0m \u001b[0mlen\u001b[0m\u001b[0;34m(\u001b[0m\u001b[0mindex\u001b[0m\u001b[0;34m)\u001b[0m\u001b[0;34m:\u001b[0m\u001b[0;34m\u001b[0m\u001b[0;34m\u001b[0m\u001b[0m\n\u001b[1;32m    531\u001b[0m         raise ValueError(\n\u001b[0;32m--> 532\u001b[0;31m             \u001b[0;34m\"Length of values \"\u001b[0m\u001b[0;34m\u001b[0m\u001b[0;34m\u001b[0m\u001b[0m\n\u001b[0m\u001b[1;32m    533\u001b[0m             \u001b[0;34mf\"({len(data)}) \"\u001b[0m\u001b[0;34m\u001b[0m\u001b[0;34m\u001b[0m\u001b[0m\n\u001b[1;32m    534\u001b[0m             \u001b[0;34m\"does not match length of index \"\u001b[0m\u001b[0;34m\u001b[0m\u001b[0;34m\u001b[0m\u001b[0m\n",
            "\u001b[0;31mValueError\u001b[0m: Length of values (330) does not match length of index (331)"
          ]
        }
      ]
    },
    {
      "cell_type": "markdown",
      "source": [
        "# Nouvelle section"
      ],
      "metadata": {
        "id": "rdLV3G3rkPQl"
      }
    },
    {
      "cell_type": "code",
      "source": [
        "df=df_blockchain\n",
        "#we only select what we need for the trading\n",
        "df=df[['Date','market-price']].loc[len(df['market-price'])-len(y_pred_inverse):len(df['market-price'])]\n",
        "df.set_index(\"Date\", inplace=True)\n",
        "df.fillna(method=\"ffill\", inplace=True)  # if there are gaps in data, use previously known values\n",
        "df.dropna(inplace=True)\n",
        "print(df.head())  \n",
        "df.shape"
      ],
      "metadata": {
        "colab": {
          "base_uri": "https://localhost:8080/"
        },
        "id": "fSNk3foUrsG2",
        "outputId": "046d23dd-6cc7-42b0-d2e7-9250f7edb651"
      },
      "execution_count": null,
      "outputs": [
        {
          "output_type": "stream",
          "name": "stdout",
          "text": [
            "            market-price\n",
            "Date                    \n",
            "2020-07-01       9133.97\n",
            "2020-07-02       9236.38\n",
            "2020-07-03       9087.98\n",
            "2020-07-04       9072.42\n",
            "2020-07-05       9131.31\n"
          ]
        },
        {
          "output_type": "execute_result",
          "data": {
            "text/plain": [
              "(330, 1)"
            ]
          },
          "metadata": {},
          "execution_count": 216
        }
      ]
    },
    {
      "cell_type": "code",
      "source": [
        "def classify(current, future):\n",
        "    if float(future) > 1.0*float(current):\n",
        "        return 1\n",
        "    else:\n",
        "        return 0"
      ],
      "metadata": {
        "id": "FrwUXl4r1MuQ"
      },
      "execution_count": null,
      "outputs": []
    },
    {
      "cell_type": "code",
      "source": [
        "def classifyTH(current, future,TH):\n",
        "    if float(future) > TH*float(current):\n",
        "        return 1\n",
        "    else:\n",
        "        return 0"
      ],
      "metadata": {
        "id": "zHi2l772_IVZ"
      },
      "execution_count": null,
      "outputs": []
    },
    {
      "cell_type": "code",
      "source": [
        "df=df.assign(prediction=y_pred_inverse[:,0])\n",
        "df['future'] = df['prediction'].shift(-3)\n"
      ],
      "metadata": {
        "id": "cOS4SIMe1zkt"
      },
      "execution_count": null,
      "outputs": []
    },
    {
      "cell_type": "code",
      "source": [
        ""
      ],
      "metadata": {
        "id": "-r7bp4njx1Lp"
      },
      "execution_count": null,
      "outputs": []
    },
    {
      "cell_type": "code",
      "source": [
        "df['target'] = list(map(classify, df['market-price'], df['future']))\n",
        "df=df.dropna()\n",
        "df"
      ],
      "metadata": {
        "id": "-gi4Swxi3DiY",
        "colab": {
          "base_uri": "https://localhost:8080/",
          "height": 450
        },
        "outputId": "adf9b092-311f-4bd7-caa5-418fd4d87fa7"
      },
      "execution_count": null,
      "outputs": [
        {
          "output_type": "execute_result",
          "data": {
            "text/plain": [
              "            market-price    prediction        future  target\n",
              "Date                                                        \n",
              "2020-07-01       9133.97   9355.787860   9447.105241       1\n",
              "2020-07-02       9236.38   9370.648194   9427.986245       1\n",
              "2020-07-03       9087.98   9419.073074   9395.314721       1\n",
              "2020-07-04       9072.42   9447.105241   9357.610836       1\n",
              "2020-07-05       9131.31   9427.986245   9375.857645       1\n",
              "...                  ...           ...           ...     ...\n",
              "2021-05-19      42912.19  41716.895941  36997.309700       0\n",
              "2021-05-20      36964.27  40317.816073  35811.922430       0\n",
              "2021-05-21      40784.32  38788.266027  34926.473004       0\n",
              "2021-05-22      37280.35  36997.309700  34443.014004       0\n",
              "2021-05-23      37528.30  35811.922430  33240.879974       0\n",
              "\n",
              "[327 rows x 4 columns]"
            ],
            "text/html": [
              "\n",
              "  <div id=\"df-e8f84a1f-bc04-487e-8590-d2ab8f42a054\">\n",
              "    <div class=\"colab-df-container\">\n",
              "      <div>\n",
              "<style scoped>\n",
              "    .dataframe tbody tr th:only-of-type {\n",
              "        vertical-align: middle;\n",
              "    }\n",
              "\n",
              "    .dataframe tbody tr th {\n",
              "        vertical-align: top;\n",
              "    }\n",
              "\n",
              "    .dataframe thead th {\n",
              "        text-align: right;\n",
              "    }\n",
              "</style>\n",
              "<table border=\"1\" class=\"dataframe\">\n",
              "  <thead>\n",
              "    <tr style=\"text-align: right;\">\n",
              "      <th></th>\n",
              "      <th>market-price</th>\n",
              "      <th>prediction</th>\n",
              "      <th>future</th>\n",
              "      <th>target</th>\n",
              "    </tr>\n",
              "    <tr>\n",
              "      <th>Date</th>\n",
              "      <th></th>\n",
              "      <th></th>\n",
              "      <th></th>\n",
              "      <th></th>\n",
              "    </tr>\n",
              "  </thead>\n",
              "  <tbody>\n",
              "    <tr>\n",
              "      <th>2020-07-01</th>\n",
              "      <td>9133.97</td>\n",
              "      <td>9355.787860</td>\n",
              "      <td>9447.105241</td>\n",
              "      <td>1</td>\n",
              "    </tr>\n",
              "    <tr>\n",
              "      <th>2020-07-02</th>\n",
              "      <td>9236.38</td>\n",
              "      <td>9370.648194</td>\n",
              "      <td>9427.986245</td>\n",
              "      <td>1</td>\n",
              "    </tr>\n",
              "    <tr>\n",
              "      <th>2020-07-03</th>\n",
              "      <td>9087.98</td>\n",
              "      <td>9419.073074</td>\n",
              "      <td>9395.314721</td>\n",
              "      <td>1</td>\n",
              "    </tr>\n",
              "    <tr>\n",
              "      <th>2020-07-04</th>\n",
              "      <td>9072.42</td>\n",
              "      <td>9447.105241</td>\n",
              "      <td>9357.610836</td>\n",
              "      <td>1</td>\n",
              "    </tr>\n",
              "    <tr>\n",
              "      <th>2020-07-05</th>\n",
              "      <td>9131.31</td>\n",
              "      <td>9427.986245</td>\n",
              "      <td>9375.857645</td>\n",
              "      <td>1</td>\n",
              "    </tr>\n",
              "    <tr>\n",
              "      <th>...</th>\n",
              "      <td>...</td>\n",
              "      <td>...</td>\n",
              "      <td>...</td>\n",
              "      <td>...</td>\n",
              "    </tr>\n",
              "    <tr>\n",
              "      <th>2021-05-19</th>\n",
              "      <td>42912.19</td>\n",
              "      <td>41716.895941</td>\n",
              "      <td>36997.309700</td>\n",
              "      <td>0</td>\n",
              "    </tr>\n",
              "    <tr>\n",
              "      <th>2021-05-20</th>\n",
              "      <td>36964.27</td>\n",
              "      <td>40317.816073</td>\n",
              "      <td>35811.922430</td>\n",
              "      <td>0</td>\n",
              "    </tr>\n",
              "    <tr>\n",
              "      <th>2021-05-21</th>\n",
              "      <td>40784.32</td>\n",
              "      <td>38788.266027</td>\n",
              "      <td>34926.473004</td>\n",
              "      <td>0</td>\n",
              "    </tr>\n",
              "    <tr>\n",
              "      <th>2021-05-22</th>\n",
              "      <td>37280.35</td>\n",
              "      <td>36997.309700</td>\n",
              "      <td>34443.014004</td>\n",
              "      <td>0</td>\n",
              "    </tr>\n",
              "    <tr>\n",
              "      <th>2021-05-23</th>\n",
              "      <td>37528.30</td>\n",
              "      <td>35811.922430</td>\n",
              "      <td>33240.879974</td>\n",
              "      <td>0</td>\n",
              "    </tr>\n",
              "  </tbody>\n",
              "</table>\n",
              "<p>327 rows × 4 columns</p>\n",
              "</div>\n",
              "      <button class=\"colab-df-convert\" onclick=\"convertToInteractive('df-e8f84a1f-bc04-487e-8590-d2ab8f42a054')\"\n",
              "              title=\"Convert this dataframe to an interactive table.\"\n",
              "              style=\"display:none;\">\n",
              "        \n",
              "  <svg xmlns=\"http://www.w3.org/2000/svg\" height=\"24px\"viewBox=\"0 0 24 24\"\n",
              "       width=\"24px\">\n",
              "    <path d=\"M0 0h24v24H0V0z\" fill=\"none\"/>\n",
              "    <path d=\"M18.56 5.44l.94 2.06.94-2.06 2.06-.94-2.06-.94-.94-2.06-.94 2.06-2.06.94zm-11 1L8.5 8.5l.94-2.06 2.06-.94-2.06-.94L8.5 2.5l-.94 2.06-2.06.94zm10 10l.94 2.06.94-2.06 2.06-.94-2.06-.94-.94-2.06-.94 2.06-2.06.94z\"/><path d=\"M17.41 7.96l-1.37-1.37c-.4-.4-.92-.59-1.43-.59-.52 0-1.04.2-1.43.59L10.3 9.45l-7.72 7.72c-.78.78-.78 2.05 0 2.83L4 21.41c.39.39.9.59 1.41.59.51 0 1.02-.2 1.41-.59l7.78-7.78 2.81-2.81c.8-.78.8-2.07 0-2.86zM5.41 20L4 18.59l7.72-7.72 1.47 1.35L5.41 20z\"/>\n",
              "  </svg>\n",
              "      </button>\n",
              "      \n",
              "  <style>\n",
              "    .colab-df-container {\n",
              "      display:flex;\n",
              "      flex-wrap:wrap;\n",
              "      gap: 12px;\n",
              "    }\n",
              "\n",
              "    .colab-df-convert {\n",
              "      background-color: #E8F0FE;\n",
              "      border: none;\n",
              "      border-radius: 50%;\n",
              "      cursor: pointer;\n",
              "      display: none;\n",
              "      fill: #1967D2;\n",
              "      height: 32px;\n",
              "      padding: 0 0 0 0;\n",
              "      width: 32px;\n",
              "    }\n",
              "\n",
              "    .colab-df-convert:hover {\n",
              "      background-color: #E2EBFA;\n",
              "      box-shadow: 0px 1px 2px rgba(60, 64, 67, 0.3), 0px 1px 3px 1px rgba(60, 64, 67, 0.15);\n",
              "      fill: #174EA6;\n",
              "    }\n",
              "\n",
              "    [theme=dark] .colab-df-convert {\n",
              "      background-color: #3B4455;\n",
              "      fill: #D2E3FC;\n",
              "    }\n",
              "\n",
              "    [theme=dark] .colab-df-convert:hover {\n",
              "      background-color: #434B5C;\n",
              "      box-shadow: 0px 1px 3px 1px rgba(0, 0, 0, 0.15);\n",
              "      filter: drop-shadow(0px 1px 2px rgba(0, 0, 0, 0.3));\n",
              "      fill: #FFFFFF;\n",
              "    }\n",
              "  </style>\n",
              "\n",
              "      <script>\n",
              "        const buttonEl =\n",
              "          document.querySelector('#df-e8f84a1f-bc04-487e-8590-d2ab8f42a054 button.colab-df-convert');\n",
              "        buttonEl.style.display =\n",
              "          google.colab.kernel.accessAllowed ? 'block' : 'none';\n",
              "\n",
              "        async function convertToInteractive(key) {\n",
              "          const element = document.querySelector('#df-e8f84a1f-bc04-487e-8590-d2ab8f42a054');\n",
              "          const dataTable =\n",
              "            await google.colab.kernel.invokeFunction('convertToInteractive',\n",
              "                                                     [key], {});\n",
              "          if (!dataTable) return;\n",
              "\n",
              "          const docLinkHtml = 'Like what you see? Visit the ' +\n",
              "            '<a target=\"_blank\" href=https://colab.research.google.com/notebooks/data_table.ipynb>data table notebook</a>'\n",
              "            + ' to learn more about interactive tables.';\n",
              "          element.innerHTML = '';\n",
              "          dataTable['output_type'] = 'display_data';\n",
              "          await google.colab.output.renderOutput(dataTable, element);\n",
              "          const docLink = document.createElement('div');\n",
              "          docLink.innerHTML = docLinkHtml;\n",
              "          element.appendChild(docLink);\n",
              "        }\n",
              "      </script>\n",
              "    </div>\n",
              "  </div>\n",
              "  "
            ]
          },
          "metadata": {},
          "execution_count": 219
        }
      ]
    },
    {
      "cell_type": "code",
      "source": [
        "budget= 50000\n",
        "Bitcoin=0 \n",
        "\n",
        "for i in df['target']:\n",
        "  if i==0 and Bitcoin != 0: \n",
        "    budget+=Bitcoin*df['future'][i]\n",
        "    Bitcoin=0\n",
        "  elif i==1  and budget>0:\n",
        "    Bitcoin+=budget/df['future'][i]\n",
        "    budget=0\n",
        "def classifyTH(current, future,TH):\n",
        "    if float(future) > TH*float(current):\n",
        "        return 1\n",
        "    else:\n",
        "        return 0\n",
        "  \n",
        "\n",
        "print('budget=',budget)\n",
        "print('Bitcoin=',Bitcoin)\n",
        "\n"
      ],
      "metadata": {
        "colab": {
          "base_uri": "https://localhost:8080/"
        },
        "id": "jqASsanMfEmx",
        "outputId": "fcebd103-d5ff-41a8-c052-fc8c6afefae9"
      },
      "execution_count": null,
      "outputs": [
        {
          "output_type": "stream",
          "name": "stdout",
          "text": [
            "budget= 50919.99161192271\n",
            "Bitcoin= 0\n"
          ]
        }
      ]
    },
    {
      "cell_type": "code",
      "source": [
        "\n",
        "I=[]\n",
        "Budget=[]\n",
        "for i in range(5000,10000):\n",
        "  I.append(i)\n",
        "  budget= i\n",
        "  Bitcoin=0 \n",
        "  for i in df['target']:\n",
        "    if i==0 and Bitcoin != 0: \n",
        "      budget+=Bitcoin*df['future'][i]\n",
        "      Bitcoin=0\n",
        "    elif i==1  and budget>0:\n",
        "      Bitcoin+=budget/df['future'][i]\n",
        "      budget=0\n",
        "  Budget.append(budget)\n",
        "\n",
        "print('budget=',Budget)\n",
        "print('Bitcoin=',Bitcoin)\n",
        "\n",
        "\n",
        "\n",
        "\n"
      ],
      "metadata": {
        "colab": {
          "base_uri": "https://localhost:8080/"
        },
        "id": "dyR3GpeAo_1Y",
        "outputId": "ef9195fb-4a56-4214-efea-280ce062b40e"
      },
      "execution_count": null,
      "outputs": [
        {
          "output_type": "stream",
          "name": "stdout",
          "text": [
            "budget= [5091.99916119227, 5093.01756102451, 5094.035960856747, 5095.054360688987, 5096.072760521225, 5097.091160353464, 5098.109560185701, 5099.1279600179405, 5100.146359850179, 5101.164759682417, 5102.183159514658, 5103.201559346895, 5104.21995917913, 5105.238359011371, 5106.256758843609, 5107.27515867585, 5108.293558508089, 5109.311958340325, 5110.330358172562, 5111.348758004801, 5112.367157837039, 5113.385557669279, 5114.403957501517, 5115.422357333756, 5116.440757165996, 5117.459156998229, 5118.477556830471, 5119.4959566627085, 5120.514356494948, 5121.532756327188, 5122.551156159426, 5123.569555991661, 5124.587955823904, 5125.6063556561385, 5126.624755488376, 5127.643155320616, 5128.661555152855, 5129.679954985092, 5130.698354817334, 5131.71675464957, 5132.735154481809, 5133.7535543140475, 5134.771954146286, 5135.790353978527, 5136.808753810763, 5137.827153643003, 5138.8455534752375, 5139.863953307477, 5140.882353139718, 5141.900752971955, 5142.919152804193, 5143.937552636431, 5144.955952468669, 5145.974352300908, 5146.992752133149, 5148.0111519653865, 5149.029551797625, 5150.047951629861, 5151.0663514621, 5152.084751294338, 5153.103151126578, 5154.121550958817, 5155.139950791055, 5156.1583506232955, 5157.176750455534, 5158.195150287769, 5159.213550120007, 5160.231949952248, 5161.2503497844855, 5162.268749616725, 5163.287149448963, 5164.3055492812, 5165.323949113442, 5166.342348945679, 5167.360748777916, 5168.3791486101545, 5169.397548442394, 5170.415948274633, 5171.434348106872, 5172.452747939107, 5173.471147771346, 5174.489547603584, 5175.507947435822, 5176.526347268063, 5177.544747100301, 5178.563146932541, 5179.581546764779, 5180.599946597017, 5181.618346429254, 5182.636746261494, 5183.655146093733, 5184.673545925971, 5185.691945758209, 5186.710345590446, 5187.728745422687, 5188.747145254925, 5189.765545087162, 5190.7839449194025, 5191.802344751642, 5192.820744583878, 5193.839144416116, 5194.857544248354, 5195.875944080594, 5196.894343912831, 5197.91274374507, 5198.931143577308, 5199.949543409545, 5200.967943241786, 5201.986343074025, 5203.00474290626, 5204.023142738502, 5205.041542570737, 5206.059942402979, 5207.078342235217, 5208.096742067455, 5209.1151418996915, 5210.1335417319315, 5211.151941564172, 5212.170341396408, 5213.188741228649, 5214.207141060886, 5215.225540893124, 5216.243940725361, 5217.262340557602, 5218.280740389839, 5219.299140222078, 5220.317540054316, 5221.335939886552, 5222.354339718791, 5223.372739551033, 5224.391139383268, 5225.409539215507, 5226.427939047746, 5227.446338879986, 5228.464738712224, 5229.483138544462, 5230.5015383767, 5231.519938208939, 5232.538338041178, 5233.556737873415, 5234.575137705654, 5235.593537537893, 5236.611937370129, 5237.63033720237, 5238.648737034606, 5239.667136866848, 5240.685536699084, 5241.703936531322, 5242.722336363562, 5243.740736195798, 5244.75913602804, 5245.777535860278, 5246.795935692517, 5247.814335524756, 5248.832735356993, 5249.851135189231, 5250.86953502147, 5251.88793485371, 5252.906334685946, 5253.924734518185, 5254.943134350424, 5255.961534182663, 5256.979934014903, 5257.998333847137, 5259.016733679377, 5260.035133511616, 5261.053533343854, 5262.071933176093, 5263.090333008331, 5264.10873284057, 5265.1271326728065, 5266.1455325050465, 5267.163932337284, 5268.182332169524, 5269.200732001762, 5270.219131834001, 5271.23753166624, 5272.255931498479, 5273.2743313307155, 5274.292731162952, 5275.311130995191, 5276.32953082743, 5277.347930659671, 5278.36633049191, 5279.384730324144, 5280.403130156385, 5281.421529988623, 5282.439929820862, 5283.458329653099, 5284.47672948534, 5285.495129317578, 5286.513529149815, 5287.531928982056, 5288.550328814293, 5289.568728646529, 5290.58712847877, 5291.605528311006, 5292.623928143246, 5293.642327975485, 5294.6607278077245, 5295.679127639962, 5296.697527472202, 5297.715927304439, 5298.734327136675, 5299.752726968915, 5300.7711268011535, 5301.789526633393, 5302.807926465632, 5303.82632629787, 5304.844726130109, 5305.863125962348, 5306.881525794585, 5307.8999256268235, 5308.918325459061, 5309.936725291301, 5310.955125123539, 5311.973524955778, 5312.991924788014, 5314.010324620252, 5315.028724452493, 5316.047124284732, 5317.065524116969, 5318.083923949209, 5319.102323781446, 5320.120723613687, 5321.139123445923, 5322.157523278161, 5323.175923110399, 5324.19432294264, 5325.212722774875, 5326.231122607114, 5327.249522439354, 5328.267922271594, 5329.286322103831, 5330.304721936068, 5331.323121768307, 5332.341521600547, 5333.359921432784, 5334.378321265022, 5335.3967210972605, 5336.4151209295005, 5337.433520761739, 5338.451920593977, 5339.470320426216, 5340.488720258456, 5341.507120090693, 5342.5255199229305, 5343.54391975517, 5344.562319587407, 5345.580719419644, 5346.599119251884, 5347.617519084122, 5348.635918916361, 5349.6543187485995, 5350.672718580839, 5351.691118413078, 5352.709518245314, 5353.727918077554, 5354.746317909793, 5355.764717742031, 5356.783117574268, 5357.801517406507, 5358.819917238747, 5359.838317070984, 5360.856716903221, 5361.875116735461, 5362.8935165677, 5363.9119163999385, 5364.930316232178, 5365.948716064416, 5366.967115896654, 5367.985515728893, 5369.003915561128, 5370.022315393369, 5371.04071522561, 5372.059115057845, 5373.077514890086, 5374.095914722321, 5375.114314554561, 5376.1327143868, 5377.151114219039, 5378.169514051275, 5379.187913883517, 5380.206313715754, 5381.224713547991, 5382.24311338023, 5383.261513212468, 5384.279913044708, 5385.2983128769465, 5386.3167127091865, 5387.335112541426, 5388.353512373658, 5389.3719122059, 5390.390312038137, 5391.408711870377, 5392.4271117026165, 5393.445511534854, 5394.463911367091, 5395.48231119933, 5396.500711031571, 5397.519110863806, 5398.537510696047, 5399.555910528284, 5400.574310360523, 5401.592710192763, 5402.611110024999, 5403.629509857238, 5404.647909689477, 5405.666309521713, 5406.6847093539545, 5407.703109186191, 5408.721509018431, 5409.739908850669, 5410.758308682906, 5411.776708515145, 5412.7951083473845, 5413.813508179621, 5414.83190801186, 5415.8503078441, 5416.868707676338, 5417.887107508577, 5418.905507340816, 5419.923907173054, 5420.942307005294, 5421.960706837529, 5422.979106669769, 5423.997506502008, 5425.015906334246, 5426.034306166483, 5427.0527059987235, 5428.07110583096, 5429.089505663196, 5430.107905495436, 5431.126305327676, 5432.144705159916, 5433.163104992152, 5434.181504824391, 5435.199904656632, 5436.218304488868, 5437.236704321108, 5438.2551041533425, 5439.2735039855825, 5440.2919038178225, 5441.310303650059, 5442.3287034823, 5443.347103314537, 5444.365503146776, 5445.383902979014, 5446.402302811255, 5447.4207026434915, 5448.43910247573, 5449.457502307968, 5450.475902140208, 5451.494301972446, 5452.512701804683, 5453.531101636921, 5454.549501469158, 5455.567901301397, 5456.586301133639, 5457.604700965875, 5458.623100798114, 5459.64150063035, 5460.6599004625905, 5461.678300294829, 5462.696700127068, 5463.715099959307, 5464.733499791545, 5465.751899623785, 5466.770299456021, 5467.7886992882595, 5468.807099120499, 5469.825498952735, 5470.843898784976, 5471.862298617213, 5472.880698449455, 5473.8990982816895, 5474.9174981139295, 5475.935897946168, 5476.954297778405, 5477.972697610647, 5478.991097442883, 5480.009497275124, 5481.027897107359, 5482.046296939599, 5483.064696771838, 5484.083096604075, 5485.101496436313, 5486.119896268554, 5487.13829610079, 5488.1566959330285, 5489.175095765271, 5490.1934955975075, 5491.211895429746, 5492.230295261984, 5493.248695094219, 5494.267094926459, 5495.285494758699, 5496.303894590937, 5497.322294423175, 5498.340694255415, 5499.35909408765, 5500.377493919892, 5501.395893752129, 5502.414293584369, 5503.432693416607, 5504.451093248845, 5505.469493081085, 5506.48789291332, 5507.506292745561, 5508.524692577799, 5509.5430924100365, 5510.561492242275, 5511.579892074515, 5512.598291906752, 5513.616691738991, 5514.635091571228, 5515.653491403467, 5516.671891235706, 5517.6902910679455, 5518.708690900183, 5519.727090732421, 5520.745490564658, 5521.763890396898, 5522.782290229136, 5523.800690061375, 5524.819089893616, 5525.837489725853, 5526.855889558091, 5527.87428939033, 5528.892689222567, 5529.9110890548045, 5530.9294888870445, 5531.947888719284, 5532.966288551524, 5533.984688383761, 5535.003088215998, 5536.021488048238, 5537.039887880475, 5538.058287712714, 5539.076687544953, 5540.095087377192, 5541.113487209432, 5542.131887041667, 5543.150286873906, 5544.1686867061435, 5545.1870865383835, 5546.205486370621, 5547.223886202858, 5548.242286035099, 5549.260685867338, 5550.279085699575, 5551.297485531815, 5552.31588536405, 5553.334285196291, 5554.352685028532, 5555.371084860767, 5556.389484693005, 5557.407884525243, 5558.426284357484, 5559.444684189722, 5560.4630840219625, 5561.481483854197, 5562.499883686436, 5563.518283518675, 5564.536683350914, 5565.555083183153, 5566.573483015391, 5567.59188284763, 5568.610282679864, 5569.628682512105, 5570.647082344346, 5571.665482176583, 5572.683882008822, 5573.702281841057, 5574.720681673297, 5575.739081505536, 5576.757481337775, 5577.775881170011, 5578.794281002252, 5579.8126808344905, 5580.831080666728, 5581.849480498969, 5582.867880331206, 5583.886280163444, 5584.904679995683, 5585.92307982792, 5586.94147966016, 5587.959879492398, 5588.978279324637, 5589.996679156874, 5591.015078989111, 5592.033478821351, 5593.0518786535895, 5594.0702784858295, 5595.088678318069, 5596.1070781503095, 5597.125477982545, 5598.143877814783, 5599.162277647022, 5600.18067747926, 5601.1990773115, 5602.217477143736, 5603.235876975975, 5604.254276808215, 5605.272676640452, 5606.291076472691, 5607.3094763049285, 5608.327876137166, 5609.346275969406, 5610.364675801647, 5611.383075633881, 5612.401475466122, 5613.419875298359, 5614.438275130598, 5615.456674962836, 5616.475074795074, 5617.493474627315, 5618.511874459552, 5619.53027429179, 5620.548674124029, 5621.567073956266, 5622.585473788507, 5623.603873620742, 5624.622273452981, 5625.640673285223, 5626.659073117457, 5627.677472949698, 5628.695872781936, 5629.714272614175, 5630.732672446414, 5631.751072278654, 5632.769472110889, 5633.787871943127, 5634.806271775369, 5635.824671607605, 5636.843071439844, 5637.861471272082, 5638.879871104319, 5639.898270936561, 5640.916670768796, 5641.935070601039, 5642.953470433273, 5643.971870265514, 5644.990270097751, 5646.008669929989, 5647.02706976223, 5648.045469594468, 5649.063869426705, 5650.082269258944, 5651.100669091186, 5652.119068923419, 5653.13746875566, 5654.155868587898, 5655.174268420136, 5656.192668252376, 5657.211068084611, 5658.229467916852, 5659.247867749087, 5660.266267581327, 5661.284667413567, 5662.3030672458035, 5663.321467078044, 5664.339866910284, 5665.358266742523, 5666.37666657476, 5667.395066406998, 5668.413466239234, 5669.431866071476, 5670.450265903713, 5671.468665735951, 5672.487065568191, 5673.505465400427, 5674.523865232669, 5675.542265064906, 5676.5606648971425, 5677.579064729382, 5678.59746456162, 5679.61586439386, 5680.634264226099, 5681.652664058336, 5682.671063890573, 5683.689463722812, 5684.70786355505, 5685.72626338729, 5686.744663219528, 5687.763063051768, 5688.781462884004, 5689.799862716245, 5690.818262548482, 5691.836662380719, 5692.855062212958, 5693.873462045197, 5694.891861877437, 5695.910261709673, 5696.928661541912, 5697.947061374151, 5698.96546120639, 5699.98386103863, 5701.002260870867, 5702.020660703105, 5703.039060535344, 5704.057460367581, 5705.075860199822, 5706.094260032059, 5707.112659864297, 5708.131059696536, 5709.149459528772, 5710.167859361012, 5711.186259193251, 5712.204659025489, 5713.223058857728, 5714.241458689967, 5715.259858522205, 5716.278258354443, 5717.296658186681, 5718.31505801892, 5719.3334578511585, 5720.3518576833985, 5721.370257515638, 5722.388657347872, 5723.40705718011, 5724.425457012352, 5725.443856844589, 5726.462256676827, 5727.480656509066, 5728.499056341303, 5729.517456173543, 5730.53585600578, 5731.554255838018, 5732.572655670258, 5733.5910555024975, 5734.609455334736, 5735.627855166976, 5736.646254999214, 5737.66465483145, 5738.683054663689, 5739.701454495927, 5740.719854328169, 5741.738254160405, 5742.756653992642, 5743.775053824881, 5744.79345365712, 5745.811853489359, 5746.830253321597, 5747.848653153835, 5748.867052986075, 5749.885452818314, 5750.903852650551, 5751.922252482788, 5752.940652315028, 5753.959052147266, 5754.977451979501, 5755.995851811745, 5757.014251643984, 5758.03265147622, 5759.051051308458, 5760.069451140696, 5761.087850972935, 5762.106250805175, 5763.124650637412, 5764.143050469651, 5765.161450301889, 5766.179850134129, 5767.198249966367, 5768.2166497986045, 5769.235049630844, 5770.253449463081, 5771.27184929532, 5772.29024912756, 5773.308648959795, 5774.327048792035, 5775.3454486242745, 5776.363848456511, 5777.38224828875, 5778.400648120988, 5779.419047953231, 5780.437447785466, 5781.455847617705, 5782.474247449943, 5783.49264728218, 5784.511047114422, 5785.529446946658, 5786.547846778897, 5787.566246611134, 5788.584646443371, 5789.603046275613, 5790.621446107849, 5791.63984594009, 5792.658245772326, 5793.676645604566, 5794.695045436804, 5795.713445269046, 5796.7318451012825, 5797.750244933521, 5798.768644765757, 5799.787044597995, 5800.805444430235, 5801.823844262473, 5802.842244094712, 5803.860643926952, 5804.879043759187, 5805.897443591429, 5806.915843423667, 5807.934243255903, 5808.9526430881415, 5809.971042920383, 5810.98944275262, 5812.007842584858, 5813.026242417096, 5814.044642249335, 5815.063042081574, 5816.0814419138105, 5817.09984174605, 5818.118241578289, 5819.136641410526, 5820.155041242767, 5821.173441075001, 5822.191840907243, 5823.210240739479, 5824.228640571717, 5825.247040403958, 5826.265440236196, 5827.283840068436, 5828.302239900673, 5829.320639732914, 5830.339039565151, 5831.357439397386, 5832.375839229626, 5833.394239061866, 5834.412638894105, 5835.431038726342, 5836.449438558582, 5837.4678383908185, 5838.486238223057, 5839.504638055298, 5840.523037887533, 5841.541437719771, 5842.559837552011, 5843.5782373842485, 5844.5966372164885, 5845.615037048726, 5846.633436880965, 5847.651836713204, 5848.670236545443, 5849.688636377682, 5850.70703620992, 5851.725436042158, 5852.743835874397, 5853.762235706632, 5854.780635538874, 5855.799035371112, 5856.817435203348, 5857.8358350355875, 5858.854234867826, 5859.872634700066, 5860.891034532305, 5861.909434364543, 5862.927834196781, 5863.946234029018, 5864.964633861259, 5865.983033693496, 5867.001433525734, 5868.019833357973, 5869.038233190211, 5870.056633022451, 5871.07503285469, 5872.093432686925, 5873.111832519166, 5874.130232351404, 5875.148632183642, 5876.167032015881, 5877.185431848121, 5878.203831680356, 5879.2222315125955, 5880.240631344836, 5881.259031177071, 5882.277431009311, 5883.29583084155, 5884.31423067379, 5885.332630506027, 5886.351030338266, 5887.369430170504, 5888.387830002743, 5889.406229834982, 5890.42462966722, 5891.443029499456, 5892.461429331695, 5893.479829163934, 5894.498228996174, 5895.516628828412, 5896.53502866065, 5897.553428492887, 5898.571828325127, 5899.590228157365, 5900.6086279896035, 5901.627027821842, 5902.645427654083, 5903.663827486318, 5904.682227318557, 5905.700627150795, 5906.719026983035, 5907.737426815273, 5908.755826647511, 5909.77422647975, 5910.79262631199, 5911.811026144229, 5912.829425976465, 5913.8478258087025, 5914.866225640941, 5915.884625473182, 5916.903025305419, 5917.921425137656, 5918.939824969896, 5919.958224802136, 5920.976624634374, 5921.9950244666115, 5923.013424298848, 5924.031824131089, 5925.050223963326, 5926.068623795565, 5927.087023627802, 5928.1054234600415, 5929.123823292281, 5930.142223124519, 5931.160622956758, 5932.179022788995, 5933.197422621232, 5934.215822453473, 5935.2342222857105, 5936.25262211795, 5937.271021950189, 5938.289421782429, 5939.307821614663, 5940.326221446902, 5941.344621279144, 5942.363021111381, 5943.3814209436205, 5944.399820775858, 5945.418220608094, 5946.436620440334, 5947.455020272573, 5948.4734201048095, 5949.491819937049, 5950.510219769289, 5951.528619601528, 5952.547019433765, 5953.565419266007, 5954.583819098243, 5955.60221893048, 5956.6206187627195, 5957.639018594957, 5958.657418427195, 5959.675818259436, 5960.694218091672, 5961.7126179239085, 5962.7310177561485, 5963.749417588387, 5964.767817420627, 5965.786217252864, 5966.804617085103, 5967.823016917341, 5968.84141674958, 5969.85981658182, 5970.878216414057, 5971.896616246293, 5972.915016078532, 5973.933415910772, 5974.951815743011, 5975.970215575252, 5976.988615407488, 5978.007015239727, 5979.025415071962, 5980.043814904202, 5981.062214736443, 5982.08061456868, 5983.099014400918, 5984.1174142331565, 5985.135814065394, 5986.154213897632, 5987.172613729872, 5988.191013562109, 5989.209413394351, 5990.227813226588, 5991.246213058827, 5992.264612891064, 5993.283012723302, 5994.301412555541, 5995.319812387779, 5996.338212220018, 5997.356612052257, 5998.375011884495, 5999.393411716734, 6000.411811548972, 6001.430211381212, 6002.448611213449, 6003.467011045686, 6004.485410877926, 6005.503810710165, 6006.522210542401, 6007.54061037464, 6008.55901020688, 6009.577410039117, 6010.595809871358, 6011.614209703597, 6012.632609535835, 6013.651009368071, 6014.669409200311, 6015.687809032549, 6016.706208864788, 6017.724608697026, 6018.7430085292635, 6019.761408361505, 6020.779808193742, 6021.798208025977, 6022.816607858219, 6023.835007690457, 6024.853407522696, 6025.871807354932, 6026.890207187174, 6027.90860701941, 6028.927006851647, 6029.945406683888, 6030.963806516126, 6031.982206348363, 6033.0006061806025, 6034.019006012843, 6035.037405845081, 6036.055805677319, 6037.074205509557, 6038.0926053417925, 6039.111005174034, 6040.129405006272, 6041.14780483851, 6042.166204670747, 6043.184604502987, 6044.203004335225, 6045.221404167464, 6046.239803999703, 6047.2582038319415, 6048.276603664179, 6049.295003496418, 6050.313403328657, 6051.331803160896, 6052.350202993135, 6053.3686028253705, 6054.38700265761, 6055.405402489849, 6056.423802322087, 6057.442202154325, 6058.460601986565, 6059.479001818801, 6060.497401651041, 6061.515801483279, 6062.534201315518, 6063.552601147755, 6064.571000979994, 6065.589400812234, 6066.607800644472, 6067.626200476709, 6068.644600308949, 6069.663000141189, 6070.681399973426, 6071.699799805662, 6072.718199637901, 6073.736599470141, 6074.75499930238, 6075.773399134618, 6076.791798966855, 6077.810198799092, 6078.828598631334, 6079.84699846357, 6080.865398295809, 6081.8837981280485, 6082.9021979602885, 6083.920597792527, 6084.938997624764, 6085.957397457004, 6086.975797289239, 6087.99419712148, 6089.012596953718, 6090.030996785955, 6091.049396618196, 6092.067796450434, 6093.086196282669, 6094.104596114909, 6095.122995947147, 6096.1413957793875, 6097.159795611626, 6098.178195443862, 6099.1965952761, 6100.214995108343, 6101.233394940579, 6102.2517947728165, 6103.270194605055, 6104.288594437296, 6105.306994269535, 6106.32539410177, 6107.343793934011, 6108.362193766247, 6109.380593598487, 6110.398993430725, 6111.417393262961, 6112.435793095202, 6113.454192927439, 6114.472592759678, 6115.490992591918, 6116.509392424158, 6117.527792256395, 6118.546192088634, 6119.564591920874, 6120.582991753108, 6121.601391585347, 6122.619791417586, 6123.638191249826, 6124.656591082064, 6125.674990914299, 6126.693390746539, 6127.711790578777, 6128.730190411017, 6129.748590243255, 6130.7669900754945, 6131.785389907734, 6132.80378973997, 6133.822189572209, 6134.840589404447, 6135.858989236687, 6136.877389068925, 6137.895788901166, 6138.9141887334035, 6139.932588565642, 6140.950988397878, 6141.969388230115, 6142.987788062355, 6144.006187894594, 6145.0245877268335, 6146.042987559072, 6147.061387391306, 6148.079787223547, 6149.098187055784, 6150.116586888025, 6151.134986720264, 6152.153386552502, 6153.171786384738, 6154.190186216978, 6155.208586049217, 6156.226985881454, 6157.245385713694, 6158.2637855459325, 6159.282185378172, 6160.300585210409, 6161.318985042647, 6162.337384874886, 6163.355784707124, 6164.374184539363, 6165.3925843716015, 6166.410984203838, 6167.429384036078, 6168.447783868317, 6169.466183700555, 6170.484583532792, 6171.502983365032, 6172.52138319727, 6173.539783029511, 6174.5581828617505, 6175.576582693985, 6176.594982526226, 6177.613382358462, 6178.6317821907005, 6179.65018202294, 6180.668581855178, 6181.686981687417, 6182.705381519655, 6183.723781351894, 6184.742181184133, 6185.76058101637, 6186.778980848611, 6187.797380680846, 6188.815780513087, 6189.834180345326, 6190.852580177563, 6191.870980009799, 6192.88937984204, 6193.907779674277, 6194.926179506516, 6195.944579338757, 6196.962979170995, 6197.981379003234, 6198.99977883547, 6200.018178667708, 6201.036578499947, 6202.054978332185, 6203.073378164423, 6204.091777996662, 6205.110177828902, 6206.128577661138, 6207.146977493377, 6208.165377325616, 6209.183777157857, 6210.202176990095, 6211.220576822331, 6212.23897665457, 6213.257376486809, 6214.2757763190475, 6215.294176151287, 6216.312575983524, 6217.330975815761, 6218.349375647998, 6219.367775480241, 6220.386175312478, 6221.404575144717, 6222.4229749769565, 6223.441374809195, 6224.459774641434, 6225.478174473669, 6226.496574305908, 6227.514974138149, 6228.533373970386, 6229.551773802623, 6230.570173634862, 6231.588573467103, 6232.606973299341, 6233.625373131576, 6234.6437729638155, 6235.662172796055, 6236.680572628294, 6237.698972460532, 6238.717372292771, 6239.735772125006, 6240.7541719572455, 6241.772571789483, 6242.790971621723, 6243.809371453962, 6244.827771286202, 6245.84617111844, 6246.864570950677, 6247.882970782916, 6248.901370615154, 6249.9197704473945, 6250.938170279632, 6251.95657011187, 6252.974969944108, 6253.993369776348, 6255.011769608587, 6256.030169440823, 6257.048569273061, 6258.066969105303, 6259.085368937539, 6260.103768769779, 6261.122168602015, 6262.1405684342535, 6263.158968266494, 6264.177368098732, 6265.195767930969, 6266.214167763211, 6267.232567595445, 6268.250967427685, 6269.269367259924, 6270.2877670921625, 6271.306166924402, 6272.324566756639, 6273.342966588873, 6274.361366421115, 6275.379766253357, 6276.3981660855925, 6277.416565917831, 6278.43496575007, 6279.45336558231, 6280.471765414548, 6281.490165246787, 6282.508565079027, 6283.526964911262, 6284.5453647435, 6285.563764575741, 6286.582164407978, 6287.600564240217, 6288.618964072457, 6289.637363904693, 6290.655763736932, 6291.67416356917, 6292.692563401407, 6293.710963233648, 6294.729363065885, 6295.747762898122, 6296.7661627303605, 6297.7845625626005, 6298.80296239484, 6299.821362227078, 6300.839762059314, 6301.858161891556, 6302.876561723795, 6303.894961556032, 6304.913361388272, 6305.931761220507, 6306.950161052747, 6307.968560884987, 6308.986960717225, 6310.005360549461, 6311.023760381699, 6312.042160213939, 6313.060560046179, 6314.078959878419, 6315.097359710653, 6316.11575954289, 6317.134159375131, 6318.15255920737, 6319.170959039609, 6320.189358871847, 6321.207758704087, 6322.226158536322, 6323.244558368559, 6324.262958200802, 6325.281358033038, 6326.2997578652785, 6327.318157697516, 6328.336557529756, 6329.354957361993, 6330.373357194231, 6331.39175702647, 6332.410156858707, 6333.428556690946, 6334.446956523184, 6335.465356355423, 6336.483756187662, 6337.502156019901, 6338.520555852141, 6339.5389556843775, 6340.5573555166175, 6341.575755348852, 6342.594155181092, 6343.612555013331, 6344.630954845569, 6345.649354677809, 6346.667754510048, 6347.686154342286, 6348.704554174523, 6349.72295400676, 6350.741353839, 6351.759753671239, 6352.778153503477, 6353.7965533357155, 6354.814953167952, 6355.833353000191, 6356.85175283243, 6357.870152664668, 6358.888552496906, 6359.906952329147, 6360.925352161384, 6361.943751993625, 6362.962151825863, 6363.980551658098, 6364.998951490339, 6366.017351322575, 6367.035751154815, 6368.0541509870545, 6369.072550819294, 6370.090950651531, 6371.109350483769, 6372.127750316009, 6373.146150148247, 6374.164549980487, 6375.182949812722, 6376.201349644961, 6377.2197494772, 6378.238149309438, 6379.256549141677, 6380.274948973915, 6381.293348806152, 6382.3117486383935, 6383.330148470634, 6384.34854830287, 6385.366948135108, 6386.385347967347, 6387.403747799583, 6388.422147631821, 6389.44054746406, 6390.4589472963, 6391.477347128537, 6392.495746960776, 6393.514146793015, 6394.532546625255, 6395.550946457492, 6396.56934628973, 6397.5877461219725, 6398.606145954208, 6399.624545786447, 6400.642945618684, 6401.6613454509215, 6402.679745283161, 6403.698145115401, 6404.716544947637, 6405.734944779877, 6406.753344612117, 6407.771744444355, 6408.7901442765915, 6409.808544108831, 6410.826943941068, 6411.845343773308, 6412.863743605546, 6413.882143437785, 6414.9005432700205, 6415.91894310226, 6416.9373429345, 6417.955742766739, 6418.974142598977, 6419.992542431217, 6421.010942263453, 6422.029342095693, 6423.047741927934, 6424.066141760168, 6425.084541592406, 6426.102941424646, 6427.121341256881, 6428.139741089123, 6429.158140921363, 6430.1765407535995, 6431.194940585838, 6432.213340418076, 6433.231740250317, 6434.250140082554, 6435.268539914793, 6436.28693974703, 6437.305339579267, 6438.3237394115085, 6439.342139243747, 6440.360539075984, 6441.378938908225, 6442.397338740459, 6443.415738572699, 6444.4341384049385, 6445.452538237178, 6446.470938069414, 6447.489337901653, 6448.50773773389, 6449.526137566131, 6450.544537398368, 6451.5629372306075, 6452.5813370628475, 6453.599736895086, 6454.618136727325, 6455.636536559562, 6456.654936391798, 6457.673336224038, 6458.691736056276, 6459.710135888514, 6460.728535720756, 6461.746935552992, 6462.765335385232, 6463.783735217468, 6464.802135049706, 6465.8205348819465, 6466.838934714185, 6467.857334546423, 6468.875734378663, 6469.894134210898, 6470.912534043138, 6471.9309338753765, 6472.949333707613, 6473.967733539853, 6474.986133372091, 6476.00453320433, 6477.02293303657, 6478.041332868808, 6479.0597327010455, 6480.078132533284, 6481.096532365522, 6482.114932197758, 6483.133332030002, 6484.151731862237, 6485.170131694476, 6486.188531526715, 6487.206931358955, 6488.225331191194, 6489.243731023428, 6490.262130855667, 6491.280530687906, 6492.2989305201445, 6493.3173303523845, 6494.335730184621, 6495.354130016861, 6496.372529849096, 6497.390929681336, 6498.409329513575, 6499.427729345816, 6500.446129178054, 6501.464529010292, 6502.482928842531, 6503.501328674767, 6504.519728507008, 6505.5381283392435, 6506.5565281714835, 6507.574928003722, 6508.593327835961, 6509.611727668201, 6510.630127500436, 6511.648527332676, 6512.666927164915, 6513.685326997153, 6514.703726829392, 6515.722126661629, 6516.740526493868, 6517.758926326107, 6518.777326158346, 6519.7957259905825, 6520.814125822823, 6521.832525655062, 6522.8509254873, 6523.869325319539, 6524.887725151775, 6525.906124984016, 6526.924524816254, 6527.942924648489, 6528.961324480731, 6529.979724312966, 6530.998124145209, 6532.016523977446, 6533.034923809683, 6534.053323641923, 6535.0717234741605, 6536.0901233064, 6537.108523138637, 6538.12692297088, 6539.145322803115, 6540.163722635354, 6541.1821224675905, 6542.20052229983, 6543.21892213207, 6544.237321964307, 6545.255721796545, 6546.274121628781, 6547.292521461024, 6548.310921293261, 6549.329321125499, 6550.347720957737, 6551.366120789973, 6552.384520622213, 6553.402920454453, 6554.421320286692, 6555.439720118928, 6556.4581199511695, 6557.476519783407, 6558.494919615644, 6559.513319447887, 6560.531719280121, 6561.55011911236, 6562.5685189445985, 6563.586918776838, 6564.605318609078, 6565.623718441314, 6566.642118273552, 6567.66051810579, 6568.67891793803, 6569.697317770269, 6570.7157176025075, 6571.734117434743, 6572.752517266984, 6573.770917099221, 6574.78931693146, 6575.8077167637, 6576.826116595935, 6577.844516428175, 6578.862916260414, 6579.881316092653, 6580.89971592489, 6581.918115757129, 6582.936515589368, 6583.954915421607, 6584.9733152538465, 6585.991715086083, 6587.010114918319, 6588.02851475056, 6589.046914582797, 6590.0653144150365, 6591.083714247275, 6592.102114079516, 6593.120513911753, 6594.13891374399, 6595.157313576229, 6596.1757134084655, 6597.1941132407055, 6598.212513072945, 6599.230912905183, 6600.249312737421, 6601.26771256966, 6602.286112401899, 6603.304512234138, 6604.322912066375, 6605.341311898614, 6606.359711730852, 6607.378111563092, 6608.396511395329, 6609.414911227568, 6610.433311059805, 6611.451710892044, 6612.470110724281, 6613.48851055652, 6614.50691038876, 6615.525310220999, 6616.543710053238, 6617.562109885477, 6618.5805097177135, 6619.598909549952, 6620.617309382191, 6621.635709214427, 6622.654109046665, 6623.672508878905, 6624.690908711145, 6625.709308543383, 6626.727708375619, 6627.74610820786, 6628.764508040099, 6629.782907872336, 6630.801307704576, 6631.819707536811, 6632.8381073690525, 6633.856507201291, 6634.874907033529, 6635.893306865768, 6636.911706698006, 6637.930106530245, 6638.948506362482, 6639.9669061947225, 6640.98530602696, 6642.003705859198, 6643.022105691437, 6644.040505523672, 6645.0589053559115, 6646.0773051881515, 6647.09570502039, 6648.114104852629, 6649.132504684869, 6650.150904517106, 6651.169304349343, 6652.187704181582, 6653.206104013824, 6654.2245038460605, 6655.242903678298, 6656.261303510537, 6657.279703342773, 6658.298103175015, 6659.316503007251, 6660.334902839489, 6661.3533026717305, 6662.371702503969, 6663.390102336206, 6664.408502168444, 6665.426902000681, 6666.445301832921, 6667.4637016651595, 6668.4821014973995, 6669.500501329636, 6670.518901161877, 6671.537300994115, 6672.555700826353, 6673.5741006585895, 6674.592500490829, 6675.610900323067, 6676.629300155306, 6677.647699987544, 6678.666099819782, 6679.684499652019, 6680.702899484259, 6681.721299316497, 6682.739699148736, 6683.758098980977, 6684.776498813215, 6685.794898645452, 6686.813298477689, 6687.83169830993, 6688.850098142168, 6689.868497974407, 6690.886897806642, 6691.905297638881, 6692.923697471124, 6693.942097303358, 6694.9604971355975, 6695.978896967837, 6696.997296800076, 6698.015696632313, 6699.034096464551, 6700.05249629679, 6701.070896129029, 6702.089295961268, 6703.107695793505, 6704.126095625744, 6705.144495457981, 6706.162895290222, 6707.181295122459, 6708.199694954697, 6709.218094786939, 6710.236494619174, 6711.254894451412, 6712.273294283651, 6713.291694115889, 6714.310093948129, 6715.328493780366, 6716.346893612605, 6717.365293444845, 6718.383693277085, 6719.402093109321, 6720.420492941559, 6721.438892773798, 6722.457292606036, 6723.475692438276, 6724.494092270512, 6725.51249210275, 6726.530891934988, 6727.549291767227, 6728.567691599466, 6729.586091431705, 6730.604491263944, 6731.622891096184, 6732.641290928423, 6733.659690760659, 6734.678090592898, 6735.696490425136, 6736.7148902573745, 6737.733290089614, 6738.751689921852, 6739.770089754091, 6740.788489586326, 6741.806889418567, 6742.825289250806, 6743.843689083043, 6744.862088915282, 6745.880488747521, 6746.898888579759, 6747.917288411998, 6748.935688244234, 6749.954088076474, 6750.972487908713, 6751.990887740949, 6753.009287573189, 6754.027687405431, 6755.046087237667, 6756.064487069906, 6757.082886902146, 6758.10128673438, 6759.119686566618, 6760.138086398859, 6761.156486231097, 6762.174886063335, 6763.193285895575, 6764.211685727813, 6765.230085560052, 6766.248485392289, 6767.26688522453, 6768.285285056765, 6769.303684889005, 6770.322084721243, 6771.34048455348, 6772.3588843857215, 6773.37728421796, 6774.395684050196, 6775.414083882435, 6776.432483714672, 6777.450883546913, 6778.469283379151, 6779.487683211389, 6780.506083043627, 6781.524482875865, 6782.542882708105, 6783.561282540343, 6784.57968237258, 6785.59808220482, 6786.616482037058, 6787.634881869297, 6788.653281701537, 6789.671681533776, 6790.69008136601, 6791.708481198251, 6792.726881030492, 6793.745280862727, 6794.763680694967, 6795.782080527205, 6796.800480359443, 6797.818880191682, 6798.837280023922, 6799.8556798561585, 6800.874079688397, 6801.892479520635, 6802.910879352875, 6803.929279185113, 6804.947679017349, 6805.966078849591, 6806.98447868183, 6808.002878514066, 6809.021278346304, 6810.03967817854, 6811.058078010782, 6812.07647784302, 6813.094877675258, 6814.113277507497, 6815.131677339737, 6816.150077171975, 6817.168477004212, 6818.186876836451, 6819.205276668689, 6820.223676500926, 6821.242076333167, 6822.260476165406, 6823.278875997644, 6824.297275829884, 6825.315675662122, 6826.3340754943565, 6827.352475326596, 6828.370875158835, 6829.389274991072, 6830.407674823313, 6831.426074655548, 6832.444474487789, 6833.462874320029, 6834.481274152266, 6835.499673984504, 6836.518073816743, 6837.536473648983, 6838.554873481221, 6839.573273313457, 6840.5916731456955, 6841.610072977933, 6842.628472810174, 6843.646872642411, 6844.66527247465, 6845.683672306887, 6846.702072139129, 6847.720471971368, 6848.7388718036045, 6849.7572716358445, 6850.77567146808, 6851.79407130032, 6852.812471132558, 6853.830870964799, 6854.849270797036, 6855.8676706292745, 6856.886070461511, 6857.904470293754, 6858.922870125991, 6859.941269958225, 6860.959669790465, 6861.978069622704, 6862.996469454944, 6864.014869287182, 6865.033269119419, 6866.051668951659, 6867.070068783895, 6868.0884686161335, 6869.1068684483735, 6870.1252682806125, 6871.143668112852, 6872.16206794509, 6873.180467777327, 6874.198867609564, 6875.217267441805, 6876.235667274042, 6877.25406710628, 6878.272466938521, 6879.290866770757, 6880.309266602999, 6881.327666435234, 6882.346066267473, 6883.364466099713, 6884.382865931951, 6885.40126576419, 6886.419665596428, 6887.438065428666, 6888.456465260904, 6889.4748650931415, 6890.49326492538, 6891.5116647576215, 6892.530064589859, 6893.548464422097, 6894.566864254335, 6895.585264086573, 6896.603663918813, 6897.6220637510505, 6898.640463583286, 6899.658863415525, 6900.677263247764, 6901.695663080003, 6902.714062912241, 6903.732462744482, 6904.75086257672, 6905.769262408956, 6906.787662241195, 6907.806062073433, 6908.824461905676, 6909.842861737911, 6910.8612615701495, 6911.8796614023895, 6912.898061234625, 6913.916461066867, 6914.934860899103, 6915.953260731341, 6916.971660563582, 6917.99006039582, 6919.0084602280585, 6920.026860060297, 6921.045259892531, 6922.06365972477, 6923.082059557012, 6924.1004593892485, 6925.118859221488, 6926.137259053729, 6927.155658885966, 6928.174058718204, 6929.192458550441, 6930.21085838268, 6931.22925821492, 6932.247658047158, 6933.266057879396, 6934.284457711633, 6935.302857543873, 6936.321257376112, 6937.33965720835, 6938.358057040587, 6939.376456872828, 6940.394856705067, 6941.413256537303, 6942.431656369542, 6943.450056201781, 6944.468456034019, 6945.486855866258, 6946.505255698498, 6947.523655530735, 6948.542055362973, 6949.56045519521, 6950.57885502745, 6951.597254859687, 6952.615654691927, 6953.634054524165, 6954.652454356404, 6955.670854188642, 6956.689254020883, 6957.707653853118, 6958.726053685356, 6959.744453517594, 6960.762853349833, 6961.781253182074, 6962.799653014312, 6963.818052846549, 6964.83645267879, 6965.854852511026, 6966.8732523432645, 6967.891652175503, 6968.910052007743, 6969.928451839982, 6970.946851672219, 6971.965251504456, 6972.983651336698, 6974.002051168936, 6975.0204510011745, 6976.03885083341, 6977.057250665649, 6978.07565049789, 6979.094050330126, 6980.112450162365, 6981.130849994602, 6982.149249826841, 6983.16764965908, 6984.18604949132, 6985.204449323557, 6986.222849155797, 6987.241248988036, 6988.259648820271, 6989.27804865251, 6990.29644848475, 6991.314848316988, 6992.333248149226, 6993.351647981465, 6994.3700478137025, 6995.38844764594, 6996.406847478181, 6997.425247310418, 6998.443647142656, 6999.462046974895, 7000.480446807135, 7001.498846639373, 7002.517246471611, 7003.53564630385, 7004.554046136086, 7005.572445968328, 7006.590845800562, 7007.609245632804, 7008.627645465043, 7009.646045297278, 7010.664445129519, 7011.682844961758, 7012.701244793997, 7013.719644626235, 7014.7380444584705, 7015.7564442907105, 7016.774844122949, 7017.793243955189, 7018.811643787428, 7019.830043619666, 7020.848443451903, 7021.8668432841405, 7022.8852431163805, 7023.903642948618, 7024.92204278086, 7025.940442613095, 7026.958842445334, 7027.977242277574, 7028.9956421098095, 7030.014041942049, 7031.032441774288, 7032.050841606527, 7033.069241438766, 7034.087641271003, 7035.10604110324, 7036.12444093548, 7037.142840767717, 7038.161240599958, 7039.179640432195, 7040.198040264433, 7041.216440096671, 7042.23483992891, 7043.2532397611485, 7044.2716395933885, 7045.290039425625, 7046.308439257864, 7047.326839090103, 7048.345238922339, 7049.36363875458, 7050.382038586818, 7051.4004384190575, 7052.418838251294, 7053.437238083531, 7054.455637915773, 7055.47403774801, 7056.49243758025, 7057.510837412488, 7058.529237244727, 7059.547637076964, 7060.566036909201, 7061.58443674144, 7062.602836573679, 7063.621236405919, 7064.639636238155, 7065.6580360703965, 7066.676435902635, 7067.694835734873, 7068.71323556711, 7069.731635399348, 7070.750035231589, 7071.7684350638265, 7072.786834896066, 7073.805234728302, 7074.823634560539, 7075.842034392779, 7076.860434225018, 7077.878834057256, 7078.8972338894955, 7079.915633721735, 7080.93403355397, 7081.952433386211, 7082.970833218448, 7083.9892330506855, 7085.007632882926, 7086.026032715164, 7087.0444325474, 7088.062832379642, 7089.081232211882, 7090.099632044117, 7091.118031876355, 7092.136431708596, 7093.154831540834, 7094.173231373073, 7095.191631205309, 7096.210031037546, 7097.228430869787, 7098.246830702025, 7099.2652305342635, 7100.283630366502, 7101.302030198742, 7102.320430030981, 7103.338829863218, 7104.357229695456, 7105.375629527695, 7106.394029359933, 7107.412429192172, 7108.430829024411, 7109.449228856651, 7110.467628688886, 7111.486028521124, 7112.504428353363, 7113.522828185602, 7114.5412280178425, 7115.55962785008, 7116.578027682317, 7117.596427514558, 7118.614827346796, 7119.633227179034, 7120.651627011272, 7121.67002684351, 7122.688426675751, 7123.706826507987, 7124.725226340225, 7125.743626172465, 7126.762026004704, 7127.7804258369415, 7128.798825669178, 7129.817225501416, 7130.835625333655, 7131.854025165893, 7132.872424998133, 7133.8908248303715, 7134.9092246626105, 7135.9276244948505, 7136.94602432709, 7137.964424159326, 7138.982823991563, 7140.001223823803, 7141.019623656041, 7142.0380234882805, 7143.056423320517, 7144.074823152755, 7145.093222984993, 7146.111622817232, 7147.130022649472, 7148.148422481712, 7149.1668223139495, 7150.185222146188, 7151.203621978425, 7152.222021810664, 7153.240421642903, 7154.258821475138, 7155.2772213073795, 7156.29562113962, 7157.314020971855, 7158.332420804095, 7159.350820636333, 7160.369220468571, 7161.387620300809, 7162.406020133049, 7163.424419965286, 7164.442819797526, 7165.461219629764, 7166.479619462001, 7167.49801929424, 7168.516419126479, 7169.534818958717, 7170.553218790955, 7171.571618623195, 7172.590018455434, 7173.60841828767, 7174.626818119909, 7175.645217952149, 7176.663617784387, 7177.682017616626, 7178.700417448863, 7179.7188172811, 7180.737217113341, 7181.75561694558, 7182.774016777818, 7183.792416610056, 7184.810816442294, 7185.829216274533, 7186.847616106772, 7187.86601593901, 7188.884415771248, 7189.902815603486, 7190.921215435725, 7191.939615267963, 7192.9580151002, 7193.976414932441, 7194.994814764678, 7196.013214596918, 7197.031614429155, 7198.050014261395, 7199.068414093633, 7200.08681392587, 7201.105213758111, 7202.123613590348, 7203.142013422588, 7204.160413254825, 7205.178813087063, 7206.197212919301, 7207.215612751542, 7208.23401258378, 7209.252412416017, 7210.2708122482545, 7211.2892120804945, 7212.307611912731, 7213.326011744971, 7214.344411577208, 7215.362811409445, 7216.381211241686, 7217.399611073925, 7218.418010906163, 7219.436410738401, 7220.45481057064, 7221.473210402879, 7222.491610235116, 7223.510010067354, 7224.528409899592, 7225.546809731833, 7226.565209564071, 7227.583609396313, 7228.602009228545, 7229.620409060787, 7230.638808893023, 7231.6572087252625, 7232.675608557503, 7233.69400838974, 7234.712408221979, 7235.730808054217, 7236.749207886458, 7237.767607718693, 7238.786007550931, 7239.80440738317, 7240.822807215411, 7241.84120704765, 7242.859606879885, 7243.878006712124, 7244.8964065443615, 7245.914806376602, 7246.93320620884, 7247.951606041079, 7248.970005873318, 7249.988405705553, 7251.006805537796, 7252.025205370032, 7253.043605202271, 7254.062005034511, 7255.080404866748, 7256.098804698985, 7257.117204531225, 7258.135604363466, 7259.1540041957, 7260.172404027939, 7261.190803860177, 7262.209203692416, 7263.227603524657, 7264.246003356895, 7265.264403189131, 7266.2828030213705, 7267.301202853609, 7268.3196026858495, 7269.338002518086, 7270.356402350323, 7271.374802182562, 7272.3932020147995, 7273.411601847039, 7274.4300016792795, 7275.448401511517, 7276.466801343757, 7277.485201175993, 7278.50360100823, 7279.522000840469, 7280.5404006727085, 7281.5588005049485, 7282.577200337187, 7283.595600169423, 7284.614000001662, 7285.632399833902, 7286.650799666139, 7287.6691994983785, 7288.6875993306185, 7289.705999162856, 7290.724398995096, 7291.742798827329, 7292.761198659569, 7293.779598491808, 7294.7979983240475, 7295.816398156285, 7296.834797988525, 7297.853197820762, 7298.871597653001, 7299.889997485241, 7300.908397317478, 7301.926797149716, 7302.945196981956, 7303.963596814193, 7304.98199664643, 7306.000396478671, 7307.01879631091, 7308.0371961431465, 7309.055595975386, 7310.073995807625, 7311.092395639861, 7312.110795472102, 7313.129195304339, 7314.1475951365765, 7315.165994968816, 7316.1843948010555, 7317.202794633293, 7318.221194465532, 7319.239594297768, 7320.257994130007, 7321.276393962248, 7322.294793794487, 7323.313193626723, 7324.331593458961, 7325.349993291201, 7326.368393123439, 7327.386792955678, 7328.405192787915, 7329.423592620153, 7330.441992452393, 7331.46039228463, 7332.47879211687, 7333.497191949107, 7334.515591781348, 7335.533991613587, 7336.5523914458245, 7337.570791278062, 7338.589191110301, 7339.607590942541, 7340.625990774779, 7341.644390607015, 7342.662790439252, 7343.681190271494, 7344.699590103731, 7345.71798993597, 7346.736389768207, 7347.754789600447, 7348.773189432686, 7349.791589264924, 7350.809989097163, 7351.828388929399, 7352.846788761639, 7353.865188593877, 7354.883588426114, 7355.901988258356, 7356.920388090595, 7357.938787922833, 7358.957187755068, 7359.975587587309, 7360.993987419546, 7362.012387251785, 7363.030787084024, 7364.049186916261, 7365.0675867485, 7366.085986580739, 7367.104386412979, 7368.122786245216, 7369.141186077455, 7370.159585909693, 7371.1779857419315, 7372.196385574172, 7373.21478540641, 7374.233185238646, 7375.251585070886, 7376.269984903123, 7377.288384735361, 7378.3067845676, 7379.32518439984, 7380.343584232079, 7381.361984064318, 7382.380383896555, 7383.398783728794, 7384.41718356103, 7385.43558339327, 7386.453983225507, 7387.472383057747, 7388.490782889986, 7389.509182722223, 7390.527582554465, 7391.545982386702, 7392.564382218938, 7393.582782051177, 7394.601181883415, 7395.619581715656, 7396.637981547893, 7397.6563813801295, 7398.674781212372, 7399.693181044606, 7400.711580876847, 7401.729980709085, 7402.748380541326, 7403.766780373563, 7404.785180205801, 7405.80358003804, 7406.821979870277, 7407.840379702518, 7408.858779534754, 7409.877179366992, 7410.895579199233, 7411.913979031468, 7412.932378863708, 7413.950778695947, 7414.969178528185, 7415.987578360424, 7417.005978192662, 7418.024378024899, 7419.042777857138, 7420.06117768938, 7421.079577521617, 7422.097977353854, 7423.11637718609, 7424.134777018329, 7425.153176850568, 7426.1715766828065, 7427.1899765150465, 7428.208376347284, 7429.226776179524, 7430.245176011759, 7431.263575844001, 7432.281975676238, 7433.300375508476, 7434.3187753407165, 7435.337175172954, 7436.355575005195, 7437.373974837431, 7438.392374669671, 7439.410774501907, 7440.4291743341455, 7441.447574166386, 7442.465973998623, 7443.484373830862, 7444.502773663099, 7445.521173495337, 7446.539573327577, 7447.5579731598145, 7448.5763729920545, 7449.594772824293, 7450.613172656534, 7451.631572488769, 7452.649972321009, 7453.668372153248, 7454.6867719854845, 7455.705171817722, 7456.723571649962, 7457.741971482197, 7458.760371314437, 7459.778771146676, 7460.797170978914, 7461.815570811154, 7462.833970643393, 7463.852370475628, 7464.870770307869, 7465.88917014011, 7466.907569972345, 7467.925969804584, 7468.944369636824, 7469.96276946906, 7470.981169301301, 7471.999569133541, 7473.017968965775, 7474.036368798016, 7475.054768630255, 7476.073168462492, 7477.09156829473, 7478.109968126968, 7479.128367959205, 7480.146767791447, 7481.165167623684, 7482.1835674559225, 7483.2019672881615, 7484.220367120401, 7485.23876695264, 7486.257166784876, 7487.275566617116, 7488.293966449354, 7489.3123662815915, 7490.3307661138315, 7491.3491659460715, 7492.367565778307, 7493.385965610546, 7494.404365442784, 7495.422765275022, 7496.441165107262, 7497.4595649395005, 7498.477964771739, 7499.496364603974, 7500.514764436213, 7501.533164268454, 7502.551564100692, 7503.5699639329305, 7504.58836376517, 7505.606763597405, 7506.625163429648, 7507.643563261885, 7508.661963094121, 7509.680362926361, 7510.6987627585995, 7511.717162590839, 7512.735562423076, 7513.753962255313, 7514.772362087553, 7515.790761919792, 7516.8091617520295, 7517.82756158427, 7518.845961416505, 7519.864361248746, 7520.882761080987, 7521.90116091322, 7522.919560745459, 7523.9379605777, 7524.956360409938, 7525.974760242176, 7526.993160074416, 7528.011559906653, 7529.029959738892, 7530.048359571131, 7531.06675940337, 7532.085159235608, 7533.103559067845, 7534.121958900083, 7535.140358732324, 7536.158758564562, 7537.177158396799, 7538.195558229038, 7539.213958061275, 7540.232357893512, 7541.250757725752, 7542.269157557991, 7543.28755739023, 7544.305957222467, 7545.324357054708, 7546.342756886945, 7547.361156719183, 7548.379556551422, 7549.39795638366, 7550.416356215898, 7551.434756048138, 7552.453155880378, 7553.4715557126165, 7554.489955544852, 7555.508355377092, 7556.526755209328, 7557.54515504157, 7558.563554873806, 7559.581954706045, 7560.600354538285, 7561.618754370521, 7562.637154202762, 7563.655554034998, 7564.673953867237, 7565.692353699477, 7566.710753531716, 7567.729153363953, 7568.747553196191, 7569.76595302843, 7570.78435286067, 7571.802752692904, 7572.821152525146, 7573.839552357384, 7574.857952189621, 7575.876352021861, 7576.8947518541, 7577.913151686337, 7578.931551518578, 7579.949951350813, 7580.9683511830535, 7581.986751015291, 7583.00515084753, 7584.023550679769, 7585.041950512007, 7586.060350344247, 7587.078750176483, 7588.09715000872, 7589.115549840962, 7590.133949673202, 7591.152349505438, 7592.170749337674, 7593.189149169914, 7594.207549002152, 7595.22594883439, 7596.24434866663, 7597.262748498869, 7598.281148331107, 7599.299548163345, 7600.317947995584, 7601.336347827823, 7602.354747660062, 7603.3731474923, 7604.391547324538, 7605.409947156775, 7606.428346989016, 7607.4467468212515, 7608.465146653491, 7609.483546485729, 7610.50194631797, 7611.520346150206, 7612.538745982447, 7613.557145814682, 7614.575545646921, 7615.5939454791605, 7616.612345311399, 7617.630745143637, 7618.649144975877, 7619.667544808111, 7620.6859446403505, 7621.704344472591, 7622.722744304828, 7623.741144137068, 7624.759543969307, 7625.777943801545, 7626.796343633782, 7627.814743466022, 7628.83314329826, 7629.8515431304995, 7630.869942962737, 7631.888342794975, 7632.906742627213, 7633.925142459453, 7634.943542291691, 7635.961942123929, 7636.980341956169, 7637.998741788409, 7639.017141620646, 7640.035541452882, 7641.05394128512, 7642.07234111736, 7643.0907409495985, 7644.109140781837, 7645.127540614077, 7646.145940446315, 7647.164340278553, 7648.182740110789, 7649.201139943028, 7650.2195397752685, 7651.2379396075075, 7652.256339439746, 7653.27473927198, 7654.29313910422, 7655.31153893646, 7656.329938768699, 7657.3483386009375, 7658.366738433175, 7659.385138265416, 7660.403538097654, 7661.42193792989, 7662.440337762128, 7663.458737594366, 7664.4771374266065, 7665.495537258845, 7666.513937091083, 7667.532336923322, 7668.55073675556, 7669.569136587799, 7670.587536420037, 7671.6059362522765, 7672.624336084514, 7673.642735916752, 7674.661135748988, 7675.679535581228, 7676.697935413468, 7677.716335245706, 7678.734735077944, 7679.753134910183, 7680.771534742419, 7681.78993457466, 7682.808334406898, 7683.826734239136, 7684.845134071377, 7685.863533903614, 7686.881933735853, 7687.900333568088, 7688.918733400327, 7689.937133232569, 7690.955533064806, 7691.973932897045, 7692.992332729285, 7694.010732561519, 7695.029132393759, 7696.047532225998, 7697.065932058236, 7698.084331890476, 7699.1027317227135, 7700.121131554953, 7701.139531387193, 7702.157931219426, 7703.176331051668, 7704.194730883905, 7705.213130716145, 7706.231530548384, 7707.249930380623, 7708.268330212859, 7709.286730045098, 7710.305129877336, 7711.323529709575, 7712.341929541813, 7713.360329374052, 7714.37872920629, 7715.397129038531, 7716.415528870767, 7717.433928703007, 7718.452328535241, 7719.4707283674825, 7720.4891281997225, 7721.507528031961, 7722.525927864198, 7723.544327696436, 7724.562727528673, 7725.581127360913, 7726.599527193152, 7727.617927025391, 7728.636326857628, 7729.654726689866, 7730.673126522106, 7731.691526354344, 7732.7099261865815, 7733.7283260188215, 7734.746725851059, 7735.765125683297, 7736.783525515536, 7737.801925347776, 7738.820325180012, 7739.838725012254, 7740.85712484449, 7741.875524676728, 7742.893924508968, 7743.912324341204, 7744.930724173445, 7745.949124005683, 7746.96752383792, 7747.9859236701595, 7749.004323502397, 7750.022723334638, 7751.041123166876, 7752.059522999116, 7753.077922831353, 7754.096322663588, 7755.114722495827, 7756.133122328067, 7757.151522160303, 7758.169921992544, 7759.188321824781, 7760.206721657023, 7761.2251214892585, 7762.243521321499, 7763.261921153735, 7764.280320985975, 7765.298720818214, 7766.317120650453, 7767.33552048269, 7768.353920314927, 7769.372320147168, 7770.390719979406, 7771.409119811643, 7772.427519643881, 7773.445919476117, 7774.464319308358, 7775.4827191406, 7776.501118972836, 7777.519518805073, 7778.537918637313, 7779.55631846955, 7780.574718301789, 7781.593118134029, 7782.611517966267, 7783.6299177985065, 7784.648317630745, 7785.666717462984, 7786.685117295221, 7787.703517127459, 7788.721916959698, 7789.740316791935, 7790.758716624176, 7791.777116456414, 7792.79551628865, 7793.81391612089, 7794.8323159531255, 7795.850715785368, 7796.8691156176055, 7797.8875154498455, 7798.905915282081, 7799.924315114322, 7800.94271494656, 7801.961114778796, 7802.9795146110355, 7803.997914443274, 7805.016314275514, 7806.034714107752, 7807.053113939987, 7808.071513772226, 7809.089913604466, 7810.108313436705, 7811.126713268942, 7812.145113101181, 7813.163512933424, 7814.181912765659, 7815.200312597898, 7816.218712430135, 7817.237112262374, 7818.255512094613, 7819.273911926852, 7820.292311759089, 7821.31071159133, 7822.329111423567, 7823.347511255804, 7824.365911088045, 7825.384310920281, 7826.402710752521, 7827.421110584759, 7828.439510416995, 7829.457910249235, 7830.476310081474, 7831.494709913713, 7832.513109745951, 7833.531509578189, 7834.549909410429, 7835.568309242665, 7836.586709074905, 7837.605108907143, 7838.62350873938, 7839.641908571622, 7840.660308403857, 7841.678708236096, 7842.697108068336, 7843.715507900573, 7844.733907732812, 7845.7523075650515, 7846.770707397291, 7847.789107229529, 7848.807507061765, 7849.825906894003, 7850.844306726243, 7851.862706558482, 7852.88110639072, 7853.899506222959, 7854.917906055198, 7855.936305887437, 7856.954705719675, 7857.973105551911, 7858.991505384151, 7860.009905216389, 7861.028305048629, 7862.046704880867, 7863.065104713104, 7864.083504545342, 7865.101904377583, 7866.120304209819, 7867.138704042059, 7868.157103874298, 7869.175503706538, 7870.193903538774, 7871.212303371012, 7872.2307032032495, 7873.249103035491, 7874.26750286773, 7875.285902699965, 7876.304302532208, 7877.322702364446, 7878.341102196681, 7879.359502028919, 7880.3779018611585, 7881.396301693398, 7882.414701525637, 7883.433101357874, 7884.451501190115, 7885.46990102235, 7886.48830085459, 7887.506700686828, 7888.525100519067, 7889.543500351306, 7890.561900183546, 7891.580300015781, 7892.598699848022, 7893.617099680257, 7894.635499512497, 7895.653899344737, 7896.672299176971, 7897.690699009212, 7898.70909884145, 7899.7274986736875, 7900.745898505928, 7901.764298338166, 7902.782698170405, 7903.801098002641, 7904.819497834882, 7905.837897667121, 7906.85629749936, 7907.8746973315965, 7908.893097163833, 7909.911496996072, 7910.929896828311, 7911.948296660551, 7912.96669649279, 7913.985096325028, 7915.003496157267, 7916.021895989504, 7917.040295821742, 7918.058695653981, 7919.077095486219, 7920.095495318459, 7921.113895150696, 7922.132294982934, 7923.1506948151755, 7924.169094647413, 7925.187494479649, 7926.205894311888, 7927.224294144126, 7928.242693976366, 7929.261093808604, 7930.279493640841, 7931.297893473082, 7932.316293305318, 7933.334693137558, 7934.353092969795, 7935.371492802036, 7936.3898926342745, 7937.408292466512, 7938.426692298751, 7939.445092130989, 7940.463491963229, 7941.481891795465, 7942.500291627702, 7943.518691459941, 7944.537091292181, 7945.555491124421, 7946.573890956658, 7947.592290788899, 7948.610690621135, 7949.629090453374, 7950.6474902856135, 7951.665890117849, 7952.684289950089, 7953.702689782327, 7954.721089614566, 7955.7394894468025, 7956.75788927904, 7957.776289111281, 7958.794688943519, 7959.813088775761, 7960.831488607996, 7961.849888440235, 7962.8682882724725, 7963.8866881047115, 7964.90508793695, 7965.923487769189, 7966.941887601428, 7967.960287433665, 7968.978687265903, 7969.997087098143, 7971.0154869303815, 7972.033886762621, 7973.052286594855, 7974.070686427095, 7975.089086259334, 7976.107486091575, 7977.1258859238105, 7978.144285756049, 7979.162685588289, 7980.181085420527, 7981.199485252767, 7982.217885085003, 7983.236284917245, 7984.254684749482, 7985.273084581719, 7986.291484413958, 7987.309884246196, 7988.328284078436, 7989.346683910673, 7990.3650837429095, 7991.3834835751495, 7992.401883407386, 7993.420283239627, 7994.438683071865, 7995.457082904106, 7996.475482736343, 7997.49388256858, 7998.512282400819, 7999.5306822330585, 8000.549082065296, 8001.567481897535, 8002.585881729773, 8003.6042815620085, 8004.622681394251, 8005.641081226489, 8006.659481058728, 8007.677880890965, 8008.696280723206, 8009.71468055544, 8010.73308038768, 8011.751480219918, 8012.769880052156, 8013.788279884397, 8014.806679716636, 8015.825079548873, 8016.843479381112, 8017.861879213348, 8018.880279045588, 8019.898678877827, 8020.917078710065, 8021.935478542306, 8022.95387837454, 8023.972278206777, 8024.990678039017, 8026.009077871256, 8027.0274777034965, 8028.045877535734, 8029.064277367973, 8030.082677200212, 8031.101077032452, 8032.1194768646865, 8033.1378766969265, 8034.156276529164, 8035.174676361403, 8036.193076193643, 8037.21147602588, 8038.229875858117, 8039.248275690358, 8040.266675522595, 8041.285075354834, 8042.303475187075, 8043.32187501931, 8044.340274851551, 8045.358674683786, 8046.377074516026, 8047.3954743482645, 8048.413874180504, 8049.432274012743, 8050.450673844979, 8051.469073677218, 8052.487473509457, 8053.505873341697, 8054.524273173936, 8055.542673006174, 8056.561072838414, 8057.579472670648, 8058.597872502887, 8059.616272335126, 8060.634672167364, 8061.6530719996035, 8062.671471831842, 8063.689871664083, 8064.70827149632, 8065.726671328556, 8066.745071160794, 8067.763470993035, 8068.781870825274, 8069.800270657512, 8070.818670489751, 8071.837070321985, 8072.855470154224, 8073.873869986468, 8074.8922698187025, 8075.9106696509425, 8076.929069483179, 8077.947469315419, 8078.965869147656, 8079.984268979896, 8081.002668812134, 8082.021068644371, 8083.039468476611, 8084.057868308848, 8085.076268141088, 8086.094667973327, 8087.113067805566, 8088.131467637804, 8089.14986747004, 8090.1682673022815, 8091.186667134518, 8092.205066966756, 8093.223466798996, 8094.241866631235, 8095.260266463472, 8096.27866629571, 8097.2970661279505, 8098.315465960187, 8099.333865792426, 8100.352265624665, 8101.370665456905, 8102.389065289142, 8103.4074651213805, 8104.425864953617, 8105.444264785855, 8106.462664618096, 8107.481064450335, 8108.499464282571, 8109.517864114813, 8110.536263947048, 8111.554663779288, 8112.573063611527, 8113.591463443763, 8114.609863276002, 8115.628263108241, 8116.64666294048, 8117.665062772717, 8118.683462604957, 8119.701862437196, 8120.720262269434, 8121.738662101671, 8122.757061933911, 8123.77546176615, 8124.793861598387, 8125.812261430628, 8126.830661262863, 8127.849061095104, 8128.867460927341, 8129.885860759579, 8130.9042605918185, 8131.922660424056, 8132.941060256296, 8133.959460088533, 8134.977859920773, 8135.996259753011, 8137.014659585246, 8138.033059417489, 8139.051459249726, 8140.069859081965, 8141.088258914202, 8142.106658746441, 8143.125058578679, 8144.143458410918, 8145.161858243159, 8146.180258075395, 8147.198657907633, 8148.21705773987, 8149.23545757211, 8150.253857404349, 8151.272257236587, 8152.290657068826, 8153.309056901062, 8154.327456733304, 8155.345856565542, 8156.364256397779, 8157.382656230017, 8158.401056062256, 8159.4194558944955, 8160.437855726733, 8161.456255558973, 8162.474655391209, 8163.49305522345, 8164.511455055688, 8165.529854887925, 8166.548254720166, 8167.566654552404, 8168.585054384643, 8169.60345421688, 8170.621854049118, 8171.640253881359, 8172.658653713592, 8173.677053545832, 8174.695453378071, 8175.713853210309, 8176.732253042549, 8177.750652874785, 8178.769052707027, 8179.7874525392635, 8180.8058523715035, 8181.82425220374, 8182.842652035979, 8183.861051868218, 8184.879451700458, 8185.897851532695, 8186.916251364933, 8187.93465119717, 8188.953051029412, 8189.971450861647, 8190.989850693887, 8192.008250526123, 8193.026650358364, 8194.045050190603, 8195.06345002284, 8196.08184985508, 8197.100249687317, 8198.118649519554, 8199.137049351795, 8200.155449184032, 8201.173849016272, 8202.19224884851, 8203.210648680748, 8204.229048512985, 8205.247448345228, 8206.265848177463, 8207.2842480097, 8208.30264784194, 8209.321047674179, 8210.339447506416, 8211.357847338655, 8212.376247170894, 8213.394647003131, 8214.413046835372, 8215.43144666761, 8216.44984649985, 8217.468246332086, 8218.486646164327, 8219.505045996564, 8220.523445828803, 8221.541845661042, 8222.56024549328, 8223.578645325517, 8224.597045157756, 8225.615444989995, 8226.633844822236, 8227.652244654471, 8228.67064448671, 8229.68904431895, 8230.707444151189, 8231.725843983424, 8232.744243815663, 8233.762643647904, 8234.78104348014, 8235.799443312377, 8236.817843144614, 8237.836242976855, 8238.854642809096, 8239.873042641333, 8240.891442473572, 8241.90984230581, 8242.928242138047, 8243.94664197029, 8244.965041802525, 8245.983441634762, 8247.001841467001, 8248.020241299238, 8249.038641131481, 8250.057040963717, 8251.075440795954, 8252.093840628193, 8253.112240460434, 8254.130640292673, 8255.14904012491, 8256.167439957148, 8257.185839789387, 8258.20423962162, 8259.222639453865, 8260.241039286104, 8261.259439118341, 8262.277838950577, 8263.296238782817, 8264.314638615055, 8265.333038447294, 8266.351438279535, 8267.369838111768, 8268.388237944007, 8269.406637776248, 8270.425037608486, 8271.443437440726, 8272.461837272966, 8273.480237105203, 8274.498636937438, 8275.517036769681, 8276.535436601918, 8277.553836434156, 8278.572236266396, 8279.590636098632, 8280.60903593087, 8281.627435763108, 8282.645835595347, 8283.664235427586, 8284.682635259825, 8285.701035092065, 8286.7194349243, 8287.737834756539, 8288.75623458878, 8289.774634421017, 8290.793034253253, 8291.811434085494, 8292.829833917735, 8293.848233749972, 8294.866633582213, 8295.885033414446, 8296.903433246685, 8297.921833078924, 8298.940232911164, 8299.958632743403, 8300.977032575644, 8301.995432407875, 8303.013832240116, 8304.032232072354, 8305.050631904593, 8306.069031736833, 8307.087431569067, 8308.105831401312, 8309.124231233547, 8310.142631065784, 8311.161030898025, 8312.179430730264, 8313.1978305625, 8314.216230394739, 8315.234630226978, 8316.253030059217, 8317.271429891454, 8318.289829723692, 8319.308229555932, 8320.32662938817, 8321.34502922041, 8322.363429052646, 8323.381828884889, 8324.400228717124, 8325.418628549363, 8326.437028381599, 8327.455428213838, 8328.473828046079, 8329.492227878314, 8330.510627710557, 8331.52902754279, 8332.547427375033, 8333.565827207272, 8334.58422703951, 8335.602626871747, 8336.621026703988, 8337.639426536225, 8338.657826368462, 8339.676226200701, 8340.694626032944, 8341.71302586518, 8342.731425697417, 8343.749825529652, 8344.768225361893, 8345.786625194132, 8346.805025026373, 8347.823424858609, 8348.841824690846, 8349.860224523089, 8350.87862435532, 8351.897024187563, 8352.915424019799, 8353.933823852041, 8354.952223684277, 8355.970623516518, 8356.989023348753, 8358.007423180996, 8359.025823013231, 8360.044222845469, 8361.06262267771, 8362.081022509947, 8363.099422342184, 8364.117822174425, 8365.13622200666, 8366.1546218389, 8367.173021671138, 8368.191421503378, 8369.209821335617, 8370.228221167854, 8371.246621000093, 8372.265020832336, 8373.283420664571, 8374.30182049681, 8375.320220329048, 8376.338620161287, 8377.357019993524, 8378.375419825765, 8379.393819658004, 8380.412219490241, 8381.430619322477, 8382.449019154714, 8383.467418986953, 8384.485818819192, 8385.50421865143, 8386.52261848367, 8387.54101831591, 8388.559418148145, 8389.577817980386, 8390.596217812623, 8391.614617644862, 8392.633017477103, 8393.65141730934, 8394.66981714158, 8395.688216973816, 8396.706616806056, 8397.725016638293, 8398.743416470536, 8399.76181630277, 8400.780216135008, 8401.798615967251, 8402.817015799486, 8403.835415631724, 8404.853815463965, 8405.8722152962, 8406.890615128441, 8407.909014960678, 8408.927414792919, 8409.945814625155, 8410.964214457394, 8411.98261428963, 8413.00101412187, 8414.019413954107, 8415.037813786346, 8416.056213618587, 8417.074613450824, 8418.09301328306, 8419.1114131153, 8420.129812947538, 8421.148212779777, 8422.166612612018, 8423.185012444255, 8424.203412276494, 8425.221812108732, 8426.240211940973, 8427.258611773208, 8428.277011605447, 8429.29541143768, 8430.31381126992, 8431.33221110216, 8432.350610934403, 8433.36901076664, 8434.387410598876, 8435.40581043112, 8436.424210263353, 8437.442610095592, 8438.461009927829, 8439.479409760072, 8440.497809592307, 8441.516209424546, 8442.534609256787, 8443.553009089024, 8444.57140892126, 8445.589808753502, 8446.60820858574, 8447.626608417979, 8448.645008250218, 8449.663408082451, 8450.681807914694, 8451.700207746928, 8452.718607579169, 8453.737007411408, 8454.755407243645, 8455.773807075888, 8456.792206908125, 8457.810606740366, 8458.829006572603, 8459.84740640484, 8460.865806237076, 8461.884206069317, 8462.902605901554, 8463.921005733793, 8464.93940556603, 8465.957805398268, 8466.976205230507, 8467.994605062746, 8469.013004894985, 8470.031404727224, 8471.049804559463, 8472.0682043917, 8473.08660422394, 8474.105004056175, 8475.123403888416, 8476.141803720653, 8477.160203552894, 8478.178603385133, 8479.19700321737, 8480.215403049608, 8481.233802881849, 8482.252202714088, 8483.270602546323, 8484.289002378564, 8485.3074022108, 8486.325802043038, 8487.344201875278, 8488.362601707517, 8489.381001539756, 8490.399401371991, 8491.417801204232, 8492.43620103647, 8493.454600868712, 8494.473000700948, 8495.491400533187, 8496.509800365424, 8497.528200197663, 8498.546600029898, 8499.564999862136, 8500.583399694377, 8501.601799526616, 8502.620199358851, 8503.638599191096, 8504.656999023331, 8505.67539885557, 8506.693798687811, 8507.712198520047, 8508.730598352284, 8509.748998184521, 8510.767398016762, 8511.785797849, 8512.804197681238, 8513.822597513477, 8514.840997345716, 8515.859397177952, 8516.877797010195, 8517.896196842432, 8518.914596674673, 8519.93299650691, 8520.951396339147, 8521.969796171385, 8522.988196003622, 8524.006595835863, 8525.0249956681, 8526.043395500341, 8527.061795332578, 8528.080195164815, 8529.09859499705, 8530.116994829295, 8531.135394661529, 8532.153794493766, 8533.172194326005, 8534.190594158244, 8535.208993990487, 8536.227393822724, 8537.245793654962, 8538.264193487199, 8539.282593319434, 8540.300993151675, 8541.319392983916, 8542.337792816155, 8543.356192648393, 8544.374592480632, 8545.392992312869, 8546.411392145108, 8547.429791977345, 8548.448191809583, 8549.466591641822, 8550.48499147406, 8551.503391306302, 8552.521791138537, 8553.540190970774, 8554.558590803015, 8555.576990635253, 8556.595390467488, 8557.613790299732, 8558.632190131972, 8559.650589964207, 8560.668989796442, 8561.687389628683, 8562.705789460928, 8563.724189293162, 8564.742589125402, 8565.760988957636, 8566.779388789879, 8567.797788622114, 8568.816188454353, 8569.834588286589, 8570.85298811883, 8571.871387951067, 8572.88978778331, 8573.908187615547, 8574.926587447784, 8575.944987280021, 8576.963387112257, 8577.981786944498, 8579.000186776735, 8580.018586608978, 8581.036986441215, 8582.055386273452, 8583.073786105693, 8584.092185937929, 8585.11058577017, 8586.128985602407, 8587.147385434648, 8588.165785266883, 8589.184185099122, 8590.20258493136, 8591.2209847636, 8592.239384595841, 8593.257784428077, 8594.276184260312, 8595.294584092555, 8596.312983924794, 8597.331383757031, 8598.34978358927, 8599.368183421506, 8600.386583253745, 8601.404983085984, 8602.423382918227, 8603.44178275046, 8604.4601825827, 8605.478582414939, 8606.496982247176, 8607.515382079413, 8608.53378191165, 8609.552181743893, 8610.57058157613, 8611.58898140837, 8612.607381240605, 8613.625781072846, 8614.64418090508, 8615.662580737324, 8616.68098056956, 8617.699380401798, 8618.717780234037, 8619.736180066277, 8620.754579898516, 8621.772979730753, 8622.791379562992, 8623.809779395231, 8624.828179227472, 8625.846579059706, 8626.864978891945, 8627.883378724184, 8628.901778556421, 8629.92017838866, 8630.938578220901, 8631.95697805314, 8632.97537788538, 8633.993777717615, 8635.012177549852, 8636.030577382093, 8637.048977214328, 8638.06737704657, 8639.085776878805, 8640.104176711047, 8641.12257654328, 8642.140976375522, 8643.159376207757, 8644.177776040002, 8645.19617587224, 8646.214575704478, 8647.232975536717, 8648.251375368955, 8649.269775201192, 8650.288175033427, 8651.306574865668, 8652.324974697905, 8653.343374530146, 8654.361774362384, 8655.380174194624, 8656.398574026862, 8657.416973859099, 8658.435373691336, 8659.453773523575, 8660.472173355818, 8661.490573188054, 8662.50897302029, 8663.527372852528, 8664.545772684769, 8665.56417251701, 8666.582572349243, 8667.600972181484, 8668.619372013722, 8669.637771845959, 8670.6561716782, 8671.674571510439, 8672.692971342674, 8673.711371174912, 8674.729771007149, 8675.748170839388, 8676.76657067163, 8677.78497050387, 8678.803370336105, 8679.821770168346, 8680.840170000585, 8681.85856983282, 8682.876969665063, 8683.895369497302, 8684.913769329538, 8685.932169161775, 8686.950568994016, 8687.96896882625, 8688.98736865849, 8690.005768490728, 8691.024168322969, 8692.042568155206, 8693.060967987441, 8694.079367819684, 8695.097767651923, 8696.11616748416, 8697.134567316398, 8698.152967148633, 8699.171366980876, 8700.189766813117, 8701.208166645354, 8702.22656647759, 8703.244966309829, 8704.263366142071, 8705.281765974309, 8706.30016580655, 8707.318565638785, 8708.336965471022, 8709.35536530326, 8710.3737651355, 8711.39216496774, 8712.410564799979, 8713.428964632212, 8714.44736446445, 8715.46576429669, 8716.48416412893, 8717.50256396117, 8718.520963793406, 8719.539363625641, 8720.557763457882, 8721.57616329012, 8722.594563122359, 8723.6129629546, 8724.631362786839, 8725.649762619076, 8726.668162451315, 8727.686562283554, 8728.704962115786, 8729.72336194803, 8730.741761780268, 8731.760161612505, 8732.778561444746, 8733.796961276983, 8734.815361109222, 8735.833760941463, 8736.8521607737, 8737.870560605936, 8738.888960438177, 8739.907360270416, 8740.925760102653, 8741.944159934894, 8742.96255976713, 8743.980959599367, 8744.999359431602, 8746.017759263841, 8747.036159096082, 8748.054558928325, 8749.07295876056, 8750.0913585928, 8751.109758425036, 8752.128158257274, 8753.146558089515, 8754.16495792175, 8755.183357753993, 8756.201757586228, 8757.220157418466, 8758.238557250708, 8759.256957082946, 8760.275356915185, 8761.293756747424, 8762.312156579661, 8763.3305564119, 8764.34895624414, 8765.367356076378, 8766.385755908612, 8767.404155740856, 8768.422555573092, 8769.44095540533, 8770.459355237568, 8771.477755069807, 8772.496154902045, 8773.514554734282, 8774.53295456652, 8775.551354398756, 8776.569754230997, 8777.588154063233, 8778.606553895475, 8779.62495372771, 8780.643353559955, 8781.661753392189, 8782.680153224428, 8783.698553056665, 8784.716952888903, 8785.735352721147, 8786.753752553383, 8787.77215238562, 8788.790552217859, 8789.808952050098, 8790.827351882335, 8791.845751714578, 8792.864151546813, 8793.882551379054, 8794.900951211293, 8795.919351043529, 8796.937750875766, 8797.956150708003, 8798.974550540244, 8799.99295037248, 8801.011350204719, 8802.029750036958, 8803.048149869199, 8804.066549701436, 8805.084949533675, 8806.10334936591, 8807.121749198152, 8808.14014903039, 8809.15854886263, 8810.176948694869, 8811.195348527106, 8812.213748359343, 8813.23214819158, 8814.25054802382, 8815.268947856055, 8816.287347688298, 8817.305747520535, 8818.324147352778, 8819.342547185015, 8820.360947017249, 8821.379346849491, 8822.397746681729, 8823.416146513966, 8824.434546346207, 8825.452946178444, 8826.471346010683, 8827.489745842922, 8828.508145675161, 8829.526545507397, 8830.544945339641, 8831.563345171873, 8832.581745004114, 8833.600144836353, 8834.618544668592, 8835.636944500828, 8836.655344333065, 8837.673744165302, 8838.692143997543, 8839.710543829782, 8840.728943662023, 8841.74734349426, 8842.765743326498, 8843.784143158737, 8844.802542990974, 8845.820942823213, 8846.839342655454, 8847.857742487691, 8848.876142319928, 8849.894542152168, 8850.912941984408, 8851.931341816644, 8852.949741648887, 8853.96814148112, 8854.98654131336, 8856.004941145595, 8857.023340977838, 8858.041740810075, 8859.060140642316, 8860.078540474547, 8861.096940306788, 8862.115340139027, 8863.133739971265, 8864.152139803506, 8865.170539635743, 8866.18893946798, 8867.207339300223, 8868.225739132457, 8869.2441389647, 8870.262538796935, 8871.280938629174, 8872.299338461415, 8873.317738293652, 8874.336138125891, 8875.354537958126, 8876.372937790366, 8877.391337622606, 8878.40973745485, 8879.428137287083, 8880.44653711932, 8881.464936951561, 8882.483336783798, 8883.501736616035, 8884.52013644828, 8885.538536280512, 8886.556936112747, 8887.575335944988, 8888.593735777227, 8889.612135609468, 8890.630535441705, 8891.648935273945, 8892.667335106178, 8893.685734938417, 8894.704134770662, 8895.722534602897, 8896.740934435136, 8897.759334267374, 8898.77773409961, 8899.796133931852, 8900.81453376409, 8901.832933596326, 8902.851333428564, 8903.869733260804, 8904.888133093042, 8905.90653292528, 8906.92493275752, 8907.94333258976, 8908.961732421996, 8909.980132254235, 8910.998532086476, 8912.016931918715, 8913.035331750953, 8914.05373158319, 8915.072131415425, 8916.090531247664, 8917.108931079902, 8918.127330912142, 8919.145730744382, 8920.16413057662, 8921.182530408858, 8922.200930241099, 8923.219330073336, 8924.237729905572, 8925.25612973781, 8926.274529570052, 8927.292929402289, 8928.311329234528, 8929.329729066769, 8930.348128899006, 8931.366528731241, 8932.384928563484, 8933.403328395718, 8934.421728227959, 8935.4401280602, 8936.458527892437, 8937.476927724672, 8938.495327556911, 8939.51372738915, 8940.53212722139, 8941.550527053629, 8942.568926885862, 8943.587326718105, 8944.60572655034, 8945.624126382581, 8946.642526214819, 8947.660926047058, 8948.679325879299, 8949.697725711536, 8950.716125543773, 8951.734525376012, 8952.752925208251, 8953.771325040489, 8954.78972487273, 8955.808124704967, 8956.826524537206, 8957.844924369445, 8958.863324201682, 8959.881724033921, 8960.900123866159, 8961.918523698398, 8962.936923530633, 8963.955323362874, 8964.97372319511, 8965.99212302735, 8967.010522859593, 8968.028922691827, 8969.047322524064, 8970.065722356305, 8971.084122188544, 8972.10252202078, 8973.12092185302, 8974.13932168526, 8975.157721517498, 8976.176121349736, 8977.194521181973, 8978.212921014212, 8979.231320846451, 8980.249720678688, 8981.26812051093, 8982.286520343165, 8983.304920175402, 8984.323320007643, 8985.34171983988, 8986.360119672117, 8987.378519504358, 8988.396919336597, 8989.415319168835, 8990.433719001076, 8991.452118833313, 8992.47051866555, 8993.488918497791, 8994.507318330028, 8995.525718162264, 8996.544117994506, 8997.562517826744, 8998.580917658981, 8999.599317491218, 9000.617717323457, 9001.636117155696, 9002.654516987935, 9003.672916820176, 9004.691316652412, 9005.70971648465, 9006.728116316888, 9007.74651614913, 9008.764915981366, 9009.783315813607, 9010.801715645843, 9011.820115478082, 9012.838515310319, 9013.856915142554, 9014.875314974797, 9015.893714807038, 9016.912114639275, 9017.93051447151, 9018.94891430375, 9019.967314135989, 9020.985713968226, 9022.004113800465, 9023.022513632703, 9024.040913464942, 9025.059313297179, 9026.07771312942, 9027.09611296166, 9028.114512793898, 9029.132912626135, 9030.151312458369, 9031.169712290613, 9032.188112122853, 9033.206511955088, 9034.224911787327, 9035.243311619568, 9036.261711451805, 9037.280111284043, 9038.298511116282, 9039.316910948519, 9040.33531078076, 9041.353710612995, 9042.372110445232, 9043.390510277475, 9044.408910109712, 9045.42730994195, 9046.445709774187, 9047.464109606426, 9048.482509438667, 9049.500909270906, 9050.519309103143, 9051.53770893538, 9052.556108767616, 9053.574508599857, 9054.592908432096, 9055.611308264333, 9056.62970809657, 9057.648107928813, 9058.666507761049, 9059.684907593291, 9060.703307425529, 9061.721707257766, 9062.740107090005, 9063.75850692224, 9064.77690675448, 9065.795306586715, 9066.81370641896, 9067.832106251195, 9068.850506083432, 9069.868905915675, 9070.887305747912, 9071.905705580151, 9072.924105412389, 9073.942505244622, 9074.960905076865, 9075.979304909106, 9076.997704741341, 9078.01610457358, 9079.034504405818, 9080.052904238059, 9081.071304070294, 9082.089703902537, 9083.108103734776, 9084.126503567011, 9085.144903399249, 9086.163303231488, 9087.181703063725, 9088.200102895966, 9089.218502728205, 9090.23690256044, 9091.25530239268, 9092.273702224918, 9093.292102057158, 9094.310501889395, 9095.328901721634, 9096.347301553875, 9097.36570138611, 9098.384101218351, 9099.402501050587, 9100.420900882827, 9101.439300715065, 9102.457700547304, 9103.476100379541, 9104.494500211784, 9105.51290004402, 9106.531299876258, 9107.549699708497, 9108.568099540735, 9109.586499372972, 9110.604899205211, 9111.62329903745, 9112.64169886969, 9113.660098701928, 9114.678498534166, 9115.696898366403, 9116.71529819864, 9117.733698030877, 9118.752097863124, 9119.770497695361, 9120.788897527596, 9121.807297359836, 9122.825697192073, 9123.84409702431, 9124.86249685655, 9125.880896688786, 9126.899296521025, 9127.91769635326, 9128.936096185505, 9129.954496017745, 9130.972895849982, 9131.991295682217, 9133.009695514456, 9134.028095346694, 9135.046495178936, 9136.064895011174, 9137.083294843413, 9138.10169467565, 9139.120094507887, 9140.138494340123, 9141.156894172367, 9142.175294004603, 9143.193693836844, 9144.212093669083, 9145.23049350132, 9146.248893333559, 9147.267293165793, 9148.285692998033, 9149.304092830273, 9150.32249266251, 9151.340892494747, 9152.359292326988, 9153.377692159225, 9154.396091991464, 9155.414491823703, 9156.43289165594, 9157.451291488178, 9158.469691320422, 9159.488091152658, 9160.506490984897, 9161.524890817134, 9162.543290649373, 9163.561690481607, 9164.580090313848, 9165.598490146089, 9166.61688997833, 9167.635289810563, 9168.653689642804, 9169.672089475042, 9170.690489307277, 9171.708889139518, 9172.727288971755, 9173.745688803996, 9174.764088636235, 9175.782488468472, 9176.800888300708, 9177.819288132949, 9178.83768796519, 9179.856087797427, 9180.874487629668, 9181.892887461903, 9182.911287294144, 9183.929687126378, 9184.948086958619, 9185.966486790856, 9186.984886623095, 9188.003286455334, 9189.021686287573, 9190.040086119812, 9191.05848595205, 9192.076885784287, 9193.095285616524, 9194.113685448765, 9195.132085281002, 9196.150485113241, 9197.168884945477, 9198.18728477772, 9199.205684609957, 9200.224084442194, 9201.242484274433, 9202.260884106672, 9203.279283938906, 9204.297683771149, 9205.31608360339, 9206.334483435625, 9207.352883267866, 9208.371283100098, 9209.38968293234, 9210.408082764581, 9211.426482596818, 9212.444882429056, 9213.463282261293, 9214.481682093536, 9215.50008192577, 9216.51848175801, 9217.536881590248, 9218.555281422488, 9219.573681254726, 9220.592081086965, 9221.610480919207, 9222.628880751443, 9223.64728058368, 9224.665680415917, 9225.684080248157, 9226.702480080394, 9227.720879912633, 9228.739279744872, 9229.75767957711, 9230.776079409345, 9231.794479241586, 9232.812879073823, 9233.831278906064, 9234.849678738301, 9235.86807857054, 9236.886478402781, 9237.904878235015, 9238.92327806726, 9239.941677899496, 9240.960077731732, 9241.978477563973, 9242.99687739621, 9244.015277228447, 9245.03367706069, 9246.052076892927, 9247.070476725165, 9248.088876557404, 9249.107276389639, 9250.12567622188, 9251.144076054117, 9252.162475886358, 9253.180875718594, 9254.199275550834, 9255.217675383074, 9256.23607521531, 9257.254475047548, 9258.272874879785, 9259.291274712026, 9260.309674544265, 9261.328074376504, 9262.346474208742, 9263.364874040979, 9264.38327387322, 9265.401673705454, 9266.420073537693, 9267.438473369932, 9268.456873202174, 9269.475273034412, 9270.493672866647, 9271.51207269889, 9272.530472531127, 9273.548872363363, 9274.567272195603, 9275.58567202784, 9276.60407186008, 9277.622471692319, 9278.640871524558, 9279.659271356795, 9280.67767118903, 9281.69607102127, 9282.71447085351, 9283.732870685752, 9284.75127051799, 9285.769670350224, 9286.788070182463, 9287.806470014699, 9288.82486984694, 9289.843269679177, 9290.861669511416, 9291.880069343657, 9292.898469175894, 9293.916869008133, 9294.935268840367, 9295.95366867261, 9296.972068504847, 9297.990468337082, 9299.008868169327, 9300.027268001564, 9301.045667833805, 9302.064067666042, 9303.08246749828, 9304.100867330515, 9305.119267162756, 9306.137666994997, 9307.156066827236, 9308.174466659471, 9309.19286649171, 9310.211266323948, 9311.229666156189, 9312.248065988428, 9313.266465820663, 9314.2848656529, 9315.30326548514, 9316.321665317379, 9317.340065149618, 9318.358464981857, 9319.376864814094, 9320.395264646331, 9321.413664478572, 9322.432064310808, 9323.450464143047, 9324.46886397529, 9325.487263807527, 9326.505663639762, 9327.524063472001, 9328.542463304242, 9329.560863136481, 9330.57926296872, 9331.597662800954, 9332.616062633197, 9333.634462465434, 9334.652862297673, 9335.671262129908, 9336.689661962148, 9337.708061794387, 9338.726461626624, 9339.744861458861, 9340.7632612911, 9341.78166112334, 9342.80006095558, 9343.818460787817, 9344.836860620055, 9345.855260452296, 9346.87366028453, 9347.89206011677, 9348.91045994901, 9349.928859781248, 9350.947259613487, 9351.965659445725, 9352.984059277966, 9354.002459110201, 9355.020858942444, 9356.03925877468, 9357.057658606916, 9358.076058439154, 9359.094458271393, 9360.112858103634, 9361.131257935871, 9362.14965776811, 9363.168057600345, 9364.186457432588, 9365.204857264824, 9366.223257097065, 9367.241656929302, 9368.260056761543, 9369.278456593778, 9370.296856426017, 9371.315256258253, 9372.333656090495, 9373.352055922733, 9374.37045575497, 9375.388855587207, 9376.407255419448, 9377.425655251685, 9378.444055083923, 9379.46245491616, 9380.480854748404, 9381.499254580644, 9382.517654412879, 9383.536054245118, 9384.554454077354, 9385.572853909596, 9386.591253741833, 9387.609653574073, 9388.62805340631, 9389.646453238547, 9390.664853070786, 9391.683252903025, 9392.701652735264, 9393.720052567498, 9394.738452399739, 9395.756852231976, 9396.775252064215, 9397.793651896454, 9398.812051728697, 9399.83045156093, 9400.84885139317, 9401.867251225405, 9402.885651057646, 9403.904050889883, 9404.922450722124, 9405.940850554365, 9406.9592503866, 9407.977650218843, 9408.99605005108, 9410.014449883318, 9411.032849715555, 9412.051249547796, 9413.069649380033, 9414.08804921227, 9415.106449044508, 9416.124848876745, 9417.143248708986, 9418.161648541221, 9419.180048373464, 9420.198448205703, 9421.21684803794, 9422.235247870178, 9423.253647702417, 9424.272047534656, 9425.290447366895, 9426.308847199134, 9427.32724703137, 9428.345646863609, 9429.364046695844, 9430.38244652809, 9431.400846360326, 9432.419246192561, 9433.437646024804, 9434.456045857043, 9435.474445689279, 9436.492845521516, 9437.511245353753, 9438.52964518599, 9439.548045018231, 9440.56644485047, 9441.58484468271, 9442.603244514949, 9443.621644347188, 9444.640044179427, 9445.658444011664, 9446.676843843905, 9447.69524367614, 9448.713643508376, 9449.732043340617, 9450.750443172854, 9451.76884300509, 9452.787242837332, 9453.80564266957, 9454.824042501808, 9455.842442334046, 9456.860842166287, 9457.879241998524, 9458.897641830763, 9459.916041663002, 9460.934441495236, 9461.952841327477, 9462.971241159716, 9463.989640991955, 9465.008040824192, 9466.026440656431, 9467.044840488672, 9468.063240320911, 9469.081640153145, 9470.100039985386, 9471.118439817626, 9472.136839649862, 9473.155239482103, 9474.173639314336, 9475.19203914658, 9476.210438978816, 9477.228838811054, 9478.247238643295, 9479.265638475526, 9480.28403830777, 9481.302438140006, 9482.320837972244, 9483.339237804485, 9484.357637636727, 9485.376037468961, 9486.394437301198, 9487.41283713344, 9488.431236965675, 9489.449636797919, 9490.468036630153, 9491.486436462394, 9492.50483629463, 9493.523236126866, 9494.541635959107, 9495.560035791348, 9496.578435623585, 9497.596835455824, 9498.615235288065, 9499.6336351203, 9500.652034952542, 9501.670434784777, 9502.688834617014, 9503.707234449254, 9504.725634281493, 9505.744034113734, 9506.76243394597, 9507.780833778212, 9508.799233610445, 9509.817633442692, 9510.836033274925, 9511.85443310716, 9512.872832939403, 9513.891232771643, 9514.909632603876, 9515.928032436117, 9516.94643226835, 9517.96483210059, 9518.98323193283, 9520.001631765066, 9521.020031597305, 9522.038431429544, 9523.056831261785, 9524.075231094028, 9525.093630926262, 9526.1120307585, 9527.130430590736, 9528.148830422977, 9529.167230255216, 9530.185630087453, 9531.204029919692, 9532.222429751933, 9533.240829584169, 9534.259229416408, 9535.277629248649, 9536.296029080884, 9537.314428913127, 9538.332828745366, 9539.3512285776, 9540.369628409835, 9541.388028242076, 9542.406428074317, 9543.424827906556, 9544.443227738793, 9545.461627571032, 9546.480027403266, 9547.498427235507, 9548.516827067742, 9549.535226899983, 9550.553626732224, 9551.572026564461, 9552.5904263967, 9553.608826228941, 9554.627226061177, 9555.645625893414, 9556.664025725648, 9557.682425557892, 9558.700825390133, 9559.719225222369, 9560.73762505461, 9561.756024886849, 9562.774424719082, 9563.792824551325, 9564.811224383559, 9565.8296242158, 9566.848024048038, 9567.86642388028, 9568.884823712517, 9569.903223544752, 9570.921623376995, 9571.940023209232, 9572.958423041475, 9573.976822873707, 9574.99522270595, 9576.013622538185, 9577.032022370422, 9578.050422202661, 9579.068822034898, 9580.087221867143, 9581.105621699378, 9582.124021531612, 9583.142421363857, 9584.160821196094, 9585.179221028331, 9586.197620860567, 9587.21602069281, 9588.234420525048, 9589.252820357282, 9590.271220189523, 9591.28962002176, 9592.308019853996, 9593.32641968624, 9594.344819518476, 9595.363219350715, 9596.381619182956, 9597.400019015193, 9598.41841884743, 9599.43681867967, 9600.455218511906, 9601.473618344142, 9602.492018176383, 9603.51041800862, 9604.528817840861, 9605.5472176731, 9606.56561750534, 9607.584017337576, 9608.602417169815, 9609.620817002053, 9610.639216834294, 9611.657616666533, 9612.676016498766, 9613.694416331009, 9614.71281616325, 9615.731215995484, 9616.749615827723, 9617.768015659965, 9618.786415492195, 9619.804815324438, 9620.823215156674, 9621.841614988913, 9622.860014821152, 9623.87841465339, 9624.896814485632, 9625.915214317874, 9626.933614150108, 9627.952013982347, 9628.970413814583, 9629.988813646822, 9631.007213479059, 9632.025613311298, 9633.044013143539, 9634.062412975776, 9635.080812808017, 9636.099212640256, 9637.117612472492, 9638.136012304733, 9639.154412136968, 9640.172811969203, 9641.191211801446, 9642.209611633685, 9643.228011465924, 9644.246411298165, 9645.264811130402, 9646.283210962634, 9647.30161079488, 9648.320010627116, 9649.33841045935, 9650.356810291592, 9651.375210123831, 9652.393609956067, 9653.412009788304, 9654.430409620547, 9655.448809452782, 9656.467209285021, 9657.48560911726, 9658.5040089495, 9659.52240878174, 9660.540808613976, 9661.559208446213, 9662.577608278456, 9663.596008110695, 9664.61440794293, 9665.632807775168, 9666.651207607407, 9667.669607439642, 9668.688007271885, 9669.706407104122, 9670.72480693636, 9671.743206768599, 9672.76160660084, 9673.78000643308, 9674.798406265316, 9675.816806097555, 9676.83520592979, 9677.853605762028, 9678.872005594267, 9679.89040542651, 9680.908805258749, 9681.927205090986, 9682.945604923225, 9683.964004755459, 9684.9824045877, 9686.000804419939, 9687.019204252176, 9688.037604084415, 9689.056003916654, 9690.074403748893, 9691.09280358113, 9692.111203413371, 9693.129603245608, 9694.148003077846, 9695.166402910081, 9696.184802742324, 9697.20320257456, 9698.2216024068, 9699.240002239037, 9700.258402071275, 9701.276801903514, 9702.29520173575, 9703.313601567992, 9704.332001400235, 9705.350401232468, 9706.368801064707, 9707.38720089695, 9708.405600729184, 9709.424000561425, 9710.442400393656, 9711.460800225896, 9712.479200058136, 9713.497599890376, 9714.515999722618, 9715.534399554856, 9716.55279938709, 9717.571199219323, 9718.589599051567, 9719.607998883808, 9720.626398716042, 9721.644798548281, 9722.663198380522, 9723.68159821276, 9724.699998045, 9725.71839787724, 9726.736797709476, 9727.755197541715, 9728.773597373955, 9729.79199720619, 9730.810397038427, 9731.828796870668, 9732.847196702905, 9733.865596535148, 9734.883996367382, 9735.902396199624, 9736.920796031864, 9737.939195864099, 9738.957595696336, 9739.975995528574, 9740.99439536081, 9742.012795193048, 9743.031195025293, 9744.049594857532, 9745.067994689764, 9746.086394522003, 9747.104794354247, 9748.12319418648, 9749.14159401872, 9750.159993850959, 9751.1783936832, 9752.196793515443, 9753.215193347676, 9754.233593179913, 9755.251993012153, 9756.270392844392, 9757.288792676633, 9758.307192508866, 9759.325592341103, 9760.343992173346, 9761.362392005583, 9762.38079183782, 9763.399191670058, 9764.417591502299, 9765.435991334536, 9766.454391166775, 9767.472790999014, 9768.49119083125, 9769.509590663489, 9770.527990495732, 9771.546390327967, 9772.564790160208, 9773.583189992445, 9774.601589824679, 9775.619989656923, 9776.638389489162, 9777.6567893214, 9778.675189153635, 9779.693588985874, 9780.711988818113, 9781.730388650358, 9782.74878848259, 9783.767188314827, 9784.785588147071, 9785.803987979305, 9786.822387811546, 9787.840787643781, 9788.859187476022, 9789.877587308261, 9790.895987140497, 9791.914386972738, 9792.932786804971, 9793.951186637214, 9794.969586469453, 9795.987986301689, 9797.00638613393, 9798.024785966165, 9799.043185798408, 9800.061585630647, 9801.079985462884, 9802.098385295121, 9803.116785127366, 9804.135184959598, 9805.15358479184, 9806.171984624076, 9807.190384456313, 9808.208784288545, 9809.227184120788, 9810.245583953028, 9811.26398378527, 9812.28238361751, 9813.300783449744, 9814.319183281983, 9815.337583114224, 9816.355982946456, 9817.374382778693, 9818.392782610941, 9819.411182443173, 9820.42958227541, 9821.447982107657, 9822.46638193989, 9823.484781772133, 9824.50318160437, 9825.521581436604, 9826.539981268843, 9827.558381101084, 9828.576780933321, 9829.59518076556, 9830.613580597796, 9831.631980430036, 9832.65038026227, 9833.668780094516, 9834.687179926754, 9835.70557975899, 9836.723979591228, 9837.742379423466, 9838.760779255705, 9839.779179087946, 9840.797578920183, 9841.815978752422, 9842.834378584663, 9843.852778416904, 9844.87117824914, 9845.889578081375, 9846.907977913615, 9847.926377745853, 9848.944777578092, 9849.963177410327, 9850.981577242563, 9851.999977074804, 9853.018376907043, 9854.036776739282, 9855.055176571519, 9856.073576403756, 9857.091976235999, 9858.110376068234, 9859.128775900477, 9860.147175732713, 9861.165575564952, 9862.183975397189, 9863.202375229426, 9864.220775061665, 9865.239174893904, 9866.257574726147, 9867.275974558388, 9868.294374390622, 9869.31277422286, 9870.3311740551, 9871.349573887337, 9872.367973719574, 9873.386373551815, 9874.40477338405, 9875.423173216292, 9876.441573048529, 9877.45997288077, 9878.478372713007, 9879.496772545242, 9880.515172377478, 9881.533572209726, 9882.551972041962, 9883.570371874195, 9884.588771706434, 9885.607171538672, 9886.625571370912, 9887.643971203153, 9888.662371035389, 9889.68077086763, 9890.699170699869, 9891.717570532108, 9892.735970364343, 9893.75437019658, 9894.77277002882, 9895.79116986106, 9896.809569693296, 9897.827969525533, 9898.846369357774, 9899.864769190011, 9900.883169022254, 9901.901568854488, 9902.919968686727, 9903.93836851897, 9904.956768351209, 9905.975168183444, 9906.993568015681, 9908.01196784792, 9909.03036768016, 9910.048767512399, 9911.06716734464, 9912.085567176879, 9913.103967009114, 9914.122366841355, 9915.140766673594, 9916.159166505828, 9917.177566338065, 9918.1959661703, 9919.214366002541, 9920.23276583478, 9921.251165667025, 9922.269565499262, 9923.287965331503, 9924.306365163739, 9925.324764995978, 9926.343164828211, 9927.36156466045, 9928.379964492688, 9929.398364324927, 9930.416764157168, 9931.435163989403, 9932.453563821642, 9933.471963653885, 9934.490363486122, 9935.50876331836, 9936.527163150598, 9937.54556298284, 9938.563962815077, 9939.582362647308, 9940.600762479553, 9941.61916231179, 9942.637562144033, 9943.655961976268, 9944.674361808504, 9945.692761640741, 9946.711161472982, 9947.72956130522, 9948.747961137455, 9949.7663609697, 9950.784760801935, 9951.803160634172, 9952.821560466411, 9953.83996029865, 9954.858360130891, 9955.876759963125, 9956.895159795364, 9957.913559627605, 9958.931959459847, 9959.95035929208, 9960.968759124318, 9961.987158956554, 9963.005558788798, 9964.023958621037, 9965.042358453273, 9966.060758285512, 9967.079158117751, 9968.09755794999, 9969.115957782229, 9970.134357614465, 9971.152757446705, 9972.171157278935, 9973.18955711118, 9974.207956943419, 9975.22635677566, 9976.244756607899, 9977.263156440136, 9978.281556272372, 9979.299956104614, 9980.318355936854, 9981.336755769087, 9982.355155601332, 9983.373555433564, 9984.391955265803, 9985.410355098047, 9986.428754930284, 9987.44715476252, 9988.46555459476, 9989.483954426998, 9990.502354259233, 9991.520754091473, 9992.539153923713, 9993.55755375595, 9994.575953588188, 9995.594353420429, 9996.612753252668, 9997.631153084907, 9998.649552917144, 9999.667952749378, 10000.686352581619, 10001.704752413858, 10002.723152246097, 10003.741552078336, 10004.759951910577, 10005.778351742814, 10006.796751575053, 10007.815151407292, 10008.833551239528, 10009.851951071769, 10010.870350904002, 10011.888750736241, 10012.907150568484, 10013.925550400723, 10014.943950232959, 10015.962350065194, 10016.980749897431, 10017.99914972967, 10019.017549561913, 10020.03594939415, 10021.054349226386, 10022.072749058629, 10023.091148890862, 10024.109548723101, 10025.127948555342, 10026.14634838758, 10027.16474821982, 10028.183148052058, 10029.201547884297, 10030.219947716538, 10031.238347548777, 10032.256747381012, 10033.275147213255, 10034.293547045487, 10035.31194687773, 10036.330346709967, 10037.348746542204, 10038.367146374441, 10039.38554620668, 10040.403946038923, 10041.422345871159, 10042.440745703396, 10043.459145535639, 10044.477545367872, 10045.49594520011, 10046.514345032352, 10047.53274486459, 10048.551144696825, 10049.56954452906, 10050.587944361307, 10051.606344193548, 10052.624744025787, 10053.64314385802, 10054.66154369026, 10055.679943522495, 10056.698343354736, 10057.716743186975, 10058.73514301921, 10059.753542851453, 10060.771942683687, 10061.790342515926, 10062.808742348168, 10063.827142180406, 10064.845542012645, 10065.86394184488, 10066.88234167712, 10067.90074150936, 10068.919141341594, 10069.937541173835, 10070.955941006066, 10071.974340838307, 10072.99274067055, 10074.011140502787, 10075.02954033503, 10076.047940167266, 10077.066339999505, 10078.084739831744, 10079.103139663986, 10080.121539496218, 10081.139939328461, 10082.158339160691, 10083.176738992934, 10084.195138825175, 10085.213538657412, 10086.23193848965, 10087.250338321886, 10088.268738154125, 10089.287137986366, 10090.305537818602, 10091.323937650845, 10092.34233748308, 10093.360737315317, 10094.37913714756, 10095.397536979797, 10096.415936812036, 10097.43433664427, 10098.452736476514, 10099.47113630875, 10100.489536140985, 10101.507935973228, 10102.526335805467, 10103.544735637703, 10104.563135469944, 10105.581535302183, 10106.599935134418, 10107.618334966663, 10108.636734798896, 10109.655134631133, 10110.673534463374, 10111.69193429561, 10112.710334127853, 10113.728733960092, 10114.74713379233, 10115.765533624564, 10116.783933456798, 10117.802333289043, 10118.820733121278, 10119.839132953517, 10120.857532785758, 10121.875932617997, 10122.894332450238, 10123.912732282475, 10124.931132114709, 10125.949531946948, 10126.96793177919, 10127.986331611426, 10129.004731443667, 10130.023131275904, 10131.041531108141, 10132.059930940379, 10133.078330772621, 10134.096730604859, 10135.115130437096, 10136.133530269337, 10137.15193010157, 10138.17032993381, 10139.18872976605, 10140.207129598284, 10141.225529430525, 10142.243929262768, 10143.262329095003, 10144.280728927242, 10145.299128759478, 10146.31752859172, 10147.33592842396, 10148.354328256195, 10149.372728088434, 10150.391127920673, 10151.40952775291, 10152.427927585153, 10153.446327417394, 10154.464727249624, 10155.483127081865, 10156.50152691411, 10157.519926746341, 10158.538326578577, 10159.556726410816, 10160.575126243057, 10161.593526075294, 10162.611925907533, 10163.63032573977, 10164.64872557201, 10165.667125404252, 10166.685525236488, 10167.703925068725, 10168.722324900968, 10169.7407247332, 10170.759124565448, 10171.777524397683, 10172.79592422992, 10173.814324062158, 10174.832723894402, 10175.851123726634, 10176.869523558875, 10177.887923391112, 10178.906323223347, 10179.924723055583, 10180.943122887824, 10181.961522720068, 10182.979922552304]\n",
            "Bitcoin= 0\n"
          ]
        }
      ]
    },
    {
      "cell_type": "code",
      "source": [
        "plt.plot(I,Budget)"
      ],
      "metadata": {
        "colab": {
          "base_uri": "https://localhost:8080/",
          "height": 282
        },
        "id": "9sQILd8sqie9",
        "outputId": "92e729d4-f5f0-450a-a175-192334488cca"
      },
      "execution_count": null,
      "outputs": [
        {
          "output_type": "execute_result",
          "data": {
            "text/plain": [
              "[<matplotlib.lines.Line2D at 0x7fa4a3e540d0>]"
            ]
          },
          "metadata": {},
          "execution_count": 229
        },
        {
          "output_type": "display_data",
          "data": {
            "text/plain": [
              "<Figure size 432x288 with 1 Axes>"
            ],
            "image/png": "[encoded data removed]"
          },
          "metadata": {
            "needs_background": "light"
          }
        }
      ]
    },
    {
      "cell_type": "code",
      "source": [
        "df=df_blockchain\n",
        "#we only select what we need for the trading\n",
        "df=df[['Date','market-price']].loc[len(df['market-price'])-len(y_pred_inverse):len(df['market-price'])]\n",
        "df.set_index(\"Date\", inplace=True)\n",
        "df.fillna(method=\"ffill\", inplace=True)  # if there are gaps in data, use previously known values\n",
        "df.dropna(inplace=True)\n",
        "print(df.head())  \n",
        "df.shape\n",
        "\n",
        "def classifyTH(current, future,TH):\n",
        "    if float(future) > TH*float(current):\n",
        "        return 1\n",
        "    else:\n",
        "        return 0\n",
        "df=df.assign(prediction=y_pred_inverse[:,0])\n",
        "df['future'] = df['prediction'].shift(-3)\n",
        "\n",
        "I=np.arange(1,1.2,0.01)\n",
        "Budget=[]\n",
        "for i in I:\n",
        "  TH= i\n",
        "\n",
        "  df['target'] = list(map(classifyTH, df['market-price'], df['future'],[TH]*len(df['market-price'])))\n",
        "  df=df.dropna()\n",
        "\n",
        "  budget=50000\n",
        "  Bitcoin=0 \n",
        "  for i in df['target']:\n",
        "    if i==0 and Bitcoin != 0: \n",
        "      budget+=Bitcoin*df['future'][i]\n",
        "      Bitcoin=0\n",
        "    elif i==1  and budget>0:\n",
        "      Bitcoin+=budget/df['future'][i]\n",
        "      budget=0\n",
        "  Budget.append(budget)\n",
        "\n",
        "print('budget=',Budget)\n",
        "print('Bitcoin=',Bitcoin)\n",
        "\n",
        "\n",
        "\n",
        "\n"
      ],
      "metadata": {
        "colab": {
          "base_uri": "https://localhost:8080/"
        },
        "id": "7Dvq36op_RVr",
        "outputId": "3887fa0b-b466-44d2-98e7-bb69a377c55d"
      },
      "execution_count": null,
      "outputs": [
        {
          "output_type": "stream",
          "name": "stdout",
          "text": [
            "            market-price\n",
            "Date                    \n",
            "2020-07-01       9133.97\n",
            "2020-07-02       9236.38\n",
            "2020-07-03       9087.98\n",
            "2020-07-04       9072.42\n",
            "2020-07-05       9131.31\n",
            "budget= [50919.99161192271, 51438.39269038632, 52704.19064061135, 54330.33049965933, 51230.40192745137, 50406.81502948428, 50202.99544324236, 50101.3949123387, 50000, 50000, 50000, 50000, 50000, 50000, 50000, 50000, 50000, 50000, 50000, 50000]\n",
            "Bitcoin= 0\n"
          ]
        }
      ]
    },
    {
      "cell_type": "code",
      "source": [
        "plt.plot(I,Budget)"
      ],
      "metadata": {
        "colab": {
          "base_uri": "https://localhost:8080/",
          "height": 282
        },
        "id": "jUJ4eZ0TB7eV",
        "outputId": "6f207e12-dd0b-4e0f-f7a1-307517708be7"
      },
      "execution_count": null,
      "outputs": [
        {
          "output_type": "execute_result",
          "data": {
            "text/plain": [
              "[<matplotlib.lines.Line2D at 0x7fa4a3fbe7d0>]"
            ]
          },
          "metadata": {},
          "execution_count": 236
        },
        {
          "output_type": "display_data",
          "data": {
            "text/plain": [
              "<Figure size 432x288 with 1 Axes>"
            ],
            "image/png": "[encoded data removed]"
          },
          "metadata": {
            "needs_background": "light"
          }
        }
      ]
    }
  ],
  "metadata": {
    "application/vnd.databricks.v1+notebook": {
      "dashboards": [],
      "language": "python",
      "notebookMetadata": {
        "pythonIndentUnit": 2
      },
      "notebookName": "case_study_rnn_group_n",
      "notebookOrigID": 4256609446685350,
      "widgets": {}
    },
    "kernelspec": {
      "display_name": "mds-env",
      "language": "python",
      "name": "mds-env"
    },
    "language_info": {
      "codemirror_mode": {
        "name": "ipython",
        "version": 3
      },
      "file_extension": ".py",
      "mimetype": "text/x-python",
      "name": "python",
      "nbconvert_exporter": "python",
      "pygments_lexer": "ipython3",
      "version": "3.7.10"
    },
    "colab": {
      "name": "case_study_rnn_group_n.ipynb",
      "provenance": [],
      "collapsed_sections": [
        "rtzZwEechKyG"
      ]
    }
  },
  "nbformat": 4,
  "nbformat_minor": 0
}